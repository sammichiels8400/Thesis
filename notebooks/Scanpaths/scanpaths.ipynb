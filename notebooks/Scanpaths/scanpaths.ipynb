{
 "cells": [
  {
   "cell_type": "markdown",
   "id": "89e1fe0c",
   "metadata": {},
   "source": [
    "# Scanpaths Experience Level"
   ]
  },
  {
   "cell_type": "markdown",
   "id": "8b5f78db",
   "metadata": {},
   "source": [
    "This notebook will make scanpaths for every experience group. \n",
    "This is a scanpath for every level:"
   ]
  },
  {
   "cell_type": "code",
   "execution_count": 1,
   "id": "0d7cb732-65f3-4f36-888e-cfd68d03a3cc",
   "metadata": {},
   "outputs": [
    {
     "data": {},
     "metadata": {},
     "output_type": "display_data"
    }
   ],
   "source": [
    "from matplotlib import image \n",
    "from matplotlib import pyplot as plt \n",
    "import pandas as pd\n",
    "import plotly.graph_objects as go\n",
    "from PIL import Image\n",
    "\n",
    "pad = \"../data/csv/ROIs/Analysis/\"\n",
    "image_pad =  \"../data/Images/\"\n",
    "\n",
    "df = pd.read_csv(pad + 'fix_evidence.csv')\n",
    "\n",
    "df = df[(df['Image'] == 1) & (df['Scene'] == 1)]\n",
    "\n",
    "# to read the image stored in the working directory \n",
    "data = image.imread(image_pad + 'scene_1_1.png') \n",
    "\n",
    "# to draw a line from (200,300) to (500,100) \n",
    "plt.plot(df['X'], df['Y'], color=\"white\", linewidth=1) \n",
    "plt.imshow(data) \n",
    "plt.show() \n",
    "\n",
    "\n"
   ]
  },
  {
   "cell_type": "markdown",
   "id": "ca964dff",
   "metadata": {},
   "source": [
    "# Scanpath per Group\n",
    "Here I will show the scanpaths for every participant in a group. Each trace is a different participant:"
   ]
  },
  {
   "cell_type": "markdown",
   "id": "58c5392c",
   "metadata": {},
   "source": [
    "## Control:"
   ]
  },
  {
   "cell_type": "code",
   "execution_count": 2,
   "id": "3b0d0391-62db-4c6b-92f2-6526908716ac",
   "metadata": {},
   "outputs": []
  }
 ]
}