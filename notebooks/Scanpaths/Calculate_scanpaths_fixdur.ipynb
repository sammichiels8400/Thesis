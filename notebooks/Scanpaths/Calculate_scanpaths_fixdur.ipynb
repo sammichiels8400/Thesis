{
 "cells": [
  {
   "cell_type": "markdown",
   "id": "89e1fe0c",
   "metadata": {},
   "source": [
    "# Calculate Scanpaths Experience Level\n"
   ]
  },
  {
   "cell_type": "markdown",
   "id": "8b5f78db",
   "metadata": {},
   "source": [
    "This notebook will calculate scanpaths for every experience group based on the Fix IDx column. I will take a look at the mean for every scene and image for every experience level.\n"
   ]
  },
  {
   "cell_type": "code",
   "execution_count": null,
   "id": "0d7cb732-65f3-4f36-888e-cfd68d03a3cc",
   "metadata": {},
   "outputs": [],
   "source": [
    "from matplotlib import image \n",
    "from matplotlib import pyplot as plt \n",
    "import pandas as pd\n",
    "\n",
    "pad = \"../../data/csv/\"\n",
    "\n",
    "df = pd.read_csv(pad + 'fix_evidence.csv')"
   ]
  },
  {
   "cell_type": "markdown",
   "id": "b74a8143",
   "metadata": {},
   "source": [
    "This is the mean for every experience level over all scenes and images:\n"
   ]
  },
  {
   "cell_type": "code",
   "execution_count": 2,
   "id": "3c5acbe1",
   "metadata": {},
   "outputs": [],
   "source": [
    "def avg_exp():\n",
    "    exps = df['experience'].unique().tolist()\n",
    "    avgs = {}\n",
    "    for exp in exps:\n",
    "        filtered_df = df[df['experience'] == exp]\n",
    "        df_grouped = filtered_df.groupby(['Participant', 'Scene', 'Image'])['FixDur'].max().reset_index()\n",
    "        avg = df_grouped['FixDur'].mean()\n",
    "        avgs[exp] = avg\n",
    "    return avgs"
   ]
  },
  {
   "cell_type": "code",
   "execution_count": 3,
   "id": "f871f7b2",
   "metadata": {},
   "outputs": [
    {
     "name": "stdout",
     "output_type": "stream",
     "text": [
      "Control has an average scanpath of: 1547\n",
      "FirstYear has an average scanpath of: 1201\n",
      "ThirdYear has an average scanpath of: 1207\n",
      "CSI has an average scanpath of: 1556\n"
     ]
    }
   ],
   "source": [
    "result = avg_exp()\n",
    "for exp in result:\n",
    "    print(f'{exp} has an average scanpath of: {int(result[exp])}')"
   ]
  },
  {
   "cell_type": "markdown",
   "id": "2b67aa57",
   "metadata": {},
   "source": [
    "This is the mean for every expierence level for the scenes combined:\n"
   ]
  },
  {
   "cell_type": "code",
   "execution_count": 4,
   "id": "71569bd5",
   "metadata": {},
   "outputs": [],
   "source": [
    "def avg_scene_exp():\n",
    "    exps = df['experience'].unique().tolist()\n",
    "    scenes = df['Scene'].unique().tolist()\n",
    "    avgs={}\n",
    "    for exp in exps:\n",
    "        filtered_df = df[df['experience'] == exp]\n",
    "        avgs[exp] = {}\n",
    "        for scene in scenes:\n",
    "            df_scene = filtered_df[filtered_df['Scene'] == scene]\n",
    "            df_grouped = df_scene.groupby(['Participant', 'Image'])['FixDur'].max().reset_index()\n",
    "            avg = df_grouped['FixDur'].mean()\n",
    "            avgs[exp][scene] = avg\n",
    "    return avgs"
   ]
  },
  {
   "cell_type": "code",
   "execution_count": 5,
   "id": "263295ba",
   "metadata": {},
   "outputs": [
    {
     "name": "stdout",
     "output_type": "stream",
     "text": [
      "Control has an average scanpath in 1 of: 1651\n",
      "Control has an average scanpath in 2 of: 1503\n",
      "Control has an average scanpath in 3 of: 1485\n",
      "FirstYear has an average scanpath in 1 of: 1306\n",
      "FirstYear has an average scanpath in 2 of: 1184\n",
      "FirstYear has an average scanpath in 3 of: 1123\n",
      "ThirdYear has an average scanpath in 1 of: 1267\n",
      "ThirdYear has an average scanpath in 2 of: 1230\n",
      "ThirdYear has an average scanpath in 3 of: 1125\n",
      "CSI has an average scanpath in 1 of: 1647\n",
      "CSI has an average scanpath in 2 of: 1382\n",
      "CSI has an average scanpath in 3 of: 1638\n"
     ]
    }
   ],
   "source": [
    "result = avg_scene_exp()\n",
    "for exp in result:\n",
    "    for scene in result[exp]:\n",
    "        print(f'{exp} has an average scanpath in {scene} of: {int(result[exp][scene])}')\n"
   ]
  },
  {
   "cell_type": "markdown",
   "id": "8552550e",
   "metadata": {},
   "source": [
    "This is the mean for every expierence level for the scenes and images:\n"
   ]
  },
  {
   "cell_type": "code",
   "execution_count": 6,
   "id": "c7846593",
   "metadata": {},
   "outputs": [],
   "source": [
    "def avg_scene_image_exp():\n",
    "    exps = df['experience'].unique().tolist()\n",
    "    scenes = df['Scene'].unique().tolist()\n",
    "    images = df['Image'].unique().tolist()\n",
    "    avgs={}\n",
    "    for exp in exps:\n",
    "        filtered_df = df[df['experience'] == exp]\n",
    "        avgs[exp] = {}\n",
    "        for scene in scenes:\n",
    "            df_scene = filtered_df[filtered_df['Scene'] == scene]\n",
    "            avgs[exp][scene] = {}\n",
    "            for image in images:\n",
    "                df_image = filtered_df[filtered_df['Image'] == image]\n",
    "                df_grouped = df_image.groupby('Participant')['FixDur'].max().reset_index()\n",
    "                avg = df_grouped['FixDur'].mean()\n",
    "                avgs[exp][scene][image] = avg\n",
    "    return avgs"
   ]
  },
  {
   "cell_type": "code",
   "execution_count": 7,
   "id": "b8d64c7a",
   "metadata": {},
   "outputs": [
    {
     "name": "stdout",
     "output_type": "stream",
     "text": [
      "Control has an average scanpath in 1 1 of: 2289\n",
      "Control has an average scanpath in 1 2 of: 1663\n",
      "Control has an average scanpath in 2 1 of: 2289\n",
      "Control has an average scanpath in 2 2 of: 1663\n",
      "Control has an average scanpath in 3 1 of: 2289\n",
      "Control has an average scanpath in 3 2 of: 1663\n",
      "FirstYear has an average scanpath in 1 1 of: 1710\n",
      "FirstYear has an average scanpath in 1 2 of: 1366\n",
      "FirstYear has an average scanpath in 2 1 of: 1710\n",
      "FirstYear has an average scanpath in 2 2 of: 1366\n",
      "FirstYear has an average scanpath in 3 1 of: 1710\n",
      "FirstYear has an average scanpath in 3 2 of: 1366\n",
      "ThirdYear has an average scanpath in 1 1 of: 1680\n",
      "ThirdYear has an average scanpath in 1 2 of: 1367\n",
      "ThirdYear has an average scanpath in 2 1 of: 1680\n",
      "ThirdYear has an average scanpath in 2 2 of: 1367\n",
      "ThirdYear has an average scanpath in 3 1 of: 1680\n",
      "ThirdYear has an average scanpath in 3 2 of: 1367\n",
      "CSI has an average scanpath in 1 1 of: 2124\n",
      "CSI has an average scanpath in 1 2 of: 1842\n",
      "CSI has an average scanpath in 2 1 of: 2124\n",
      "CSI has an average scanpath in 2 2 of: 1842\n",
      "CSI has an average scanpath in 3 1 of: 2124\n",
      "CSI has an average scanpath in 3 2 of: 1842\n"
     ]
    }
   ],
   "source": [
    "result = avg_scene_image_exp()\n",
    "for exp in result:\n",
    "    for scene in result[exp]:\n",
    "        for image in result[exp][scene]:\n",
    "            print(f'{exp} has an average scanpath in {scene} {image} of: {int(result[exp][scene][image])}')"
   ]
  }
 ],
 "metadata": {
  "kernelspec": {
   "display_name": "Python 3 (ipykernel)",
   "language": "python",
   "name": "python3"
  },
  "language_info": {
   "codemirror_mode": {
    "name": "ipython",
    "version": 3
   },
   "file_extension": ".py",
   "mimetype": "text/x-python",
   "name": "python",
   "nbconvert_exporter": "python",
   "pygments_lexer": "ipython3",
   "version": "3.12.9"
  }
 },
 "nbformat": 4,
 "nbformat_minor": 5
}
