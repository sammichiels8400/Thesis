{
 "cells": [
  {
   "cell_type": "code",
   "execution_count": null,
   "id": "cd7e2b41-1fed-429c-9ca4-187da6d61172",
   "metadata": {},
   "outputs": [
    {
     "name": "stdout",
     "output_type": "stream",
     "text": [
      "Train participants:  {2.0, 4.0, 11.0, 12.0, 13.0, 14.0, 15.0, 16.0, 18.0, 20.0, 21.0, 23.0, 24.0, 29.0, 30.0, 32.0, 9003.0, 9004.0, 9005.0, 9008.0, 1010.0, 1012.0, 1013.0, 1014.0, 1017.0, 1018.0, 1019.0, 1020.0}\n",
      "Test participants:  {33.0, 7.0, 9001.0, 9002.0, 19.0, 1011.0, 25.0, 28.0}\n"
     ]
    }
   ],
   "source": [
    "import pandas as pd\n",
    "import numpy as np\n",
    "from sklearn.model_selection import train_test_split\n",
    "from sklearn.preprocessing import StandardScaler\n",
    "from sklearn.svm import SVC\n",
    "from sklearn.metrics import classification_report, confusion_matrix\n",
    "from sklearn.model_selection import GroupShuffleSplit\n",
    "import wandb\n",
    "\n",
    "\n",
    "csv_path = \"../../data/csv/expanded_dataset_evidence.csv\" \n",
    "# Load dataset\n",
    "df = pd.read_csv(csv_path)  # Replace with your actual file path\n",
    "\n",
    "# Train/test split\n",
    "splitter = GroupShuffleSplit(test_size=.20, n_splits=2, random_state=0)\n",
    "split = splitter.split(df, groups=df['Participant'])\n",
    "\n",
    "train_inds, test_inds = next(split)\n",
    "\n",
    "train = df.iloc[train_inds]\n",
    "test = df.iloc[test_inds]\n",
    "\n",
    "print(\"Train participants: \", set(train[\"Participant\"]))\n",
    "print(\"Test participants: \", set(test[\"Participant\"]))\n"
   ]
  },
  {
   "cell_type": "code",
   "execution_count": 2,
   "id": "6edd7c68-c288-4a6a-b2f1-c207cf9feee5",
   "metadata": {},
   "outputs": [
    {
     "name": "stdout",
     "output_type": "stream",
     "text": [
      "Confusion Matrix:\n",
      " [[ 93   8  13  15]\n",
      " [146  28  22  17]\n",
      " [ 56  12   9  10]\n",
      " [156  35  37  21]]\n",
      "\n",
      "Classification Report:\n",
      "               precision    recall  f1-score   support\n",
      "\n",
      "         CSI       0.21      0.72      0.32       129\n",
      "     Control       0.34      0.13      0.19       213\n",
      "   FirstYear       0.11      0.10      0.11        87\n",
      "   ThirdYear       0.33      0.08      0.13       249\n",
      "\n",
      "    accuracy                           0.22       678\n",
      "   macro avg       0.25      0.26      0.19       678\n",
      "weighted avg       0.28      0.22      0.18       678\n",
      "\n"
     ]
    }
   ],
   "source": [
    "# Encode 'yes' as 1 and 'no' as 0\n",
    "def encode_sequence(seq):\n",
    "    return [1 if token.strip().lower() == \"yes\" else 0 for token in seq.split(',')]\n",
    "\n",
    "# Encode all sequences\n",
    "train_seq = train['evidence_sequence'].apply(encode_sequence)\n",
    "test_seq = test['evidence_sequence'].apply(encode_sequence)\n",
    "\n",
    "# Find max sequence length\n",
    "max_len = max(len(seq) for seq in train_seq)\n",
    "\n",
    "# Pad sequences with 0s (or trim if too long)\n",
    "def pad_or_trim(seq, target_len):\n",
    "    if len(seq) < target_len:\n",
    "        return seq + [0] * (target_len - len(seq))  # pad with 0s\n",
    "    else:\n",
    "        return seq[:target_len]  # trim if too long\n",
    "\n",
    "Xtrain = np.array([pad_or_trim(seq, max_len) for seq in train_seq])\n",
    "y_train = train['experience'].values\n",
    "\n",
    "Xtest = np.array([pad_or_trim(seq, max_len) for seq in test_seq])\n",
    "y_test = test['experience'].values\n",
    "\n",
    "# Standardize features\n",
    "scaler = StandardScaler()\n",
    "X_train = scaler.fit_transform(Xtrain)\n",
    "X_test = scaler.transform(Xtest)\n",
    "\n",
    "\n",
    "# Train SVM\n",
    "clf = SVC(kernel='rbf', C=1.0, gamma='scale', decision_function_shape='ovo')\n",
    "clf.fit(X_train, y_train)\n",
    "\n",
    "# Evaluate\n",
    "y_pred = clf.predict(X_test)\n",
    "print(\"Confusion Matrix:\\n\", confusion_matrix(y_test, y_pred))\n",
    "print(\"\\nClassification Report:\\n\", classification_report(y_test, y_pred))\n"
   ]
  },
  {
   "cell_type": "code",
   "execution_count": 3,
   "id": "45c6fe9c-6c86-4d34-bf42-4819fbe422f6",
   "metadata": {},
   "outputs": [
    {
     "name": "stdout",
     "output_type": "stream",
     "text": [
      "2253 678\n"
     ]
    }
   ],
   "source": [
    "print(len(X_train), len(X_test))"
   ]
  },
  {
   "cell_type": "code",
   "execution_count": 4,
   "id": "a68396a6-7367-4b85-8422-c8afe35121f5",
   "metadata": {},
   "outputs": [
    {
     "data": {
      "text/html": [
       "<div>\n",
       "<style scoped>\n",
       "    .dataframe tbody tr th:only-of-type {\n",
       "        vertical-align: middle;\n",
       "    }\n",
       "\n",
       "    .dataframe tbody tr th {\n",
       "        vertical-align: top;\n",
       "    }\n",
       "\n",
       "    .dataframe thead th {\n",
       "        text-align: right;\n",
       "    }\n",
       "</style>\n",
       "<table border=\"1\" class=\"dataframe\">\n",
       "  <thead>\n",
       "    <tr style=\"text-align: right;\">\n",
       "      <th></th>\n",
       "      <th>Participant</th>\n",
       "      <th>evidence_sequence</th>\n",
       "      <th>experience</th>\n",
       "    </tr>\n",
       "  </thead>\n",
       "  <tbody>\n",
       "    <tr>\n",
       "      <th>0</th>\n",
       "      <td>2.0</td>\n",
       "      <td>no,no,no,no,yes,no,no,no,yes,no</td>\n",
       "      <td>Control</td>\n",
       "    </tr>\n",
       "    <tr>\n",
       "      <th>1</th>\n",
       "      <td>2.0</td>\n",
       "      <td>no,no,no,no,no,no,no,no,no,no</td>\n",
       "      <td>Control</td>\n",
       "    </tr>\n",
       "    <tr>\n",
       "      <th>2</th>\n",
       "      <td>2.0</td>\n",
       "      <td>no,no,yes,yes,no,no,no,no,no,no</td>\n",
       "      <td>Control</td>\n",
       "    </tr>\n",
       "    <tr>\n",
       "      <th>3</th>\n",
       "      <td>2.0</td>\n",
       "      <td>no,no,no,no,no,no,no,no,no,no</td>\n",
       "      <td>Control</td>\n",
       "    </tr>\n",
       "    <tr>\n",
       "      <th>4</th>\n",
       "      <td>2.0</td>\n",
       "      <td>no,no,no,yes,yes,no,no,no,no,no</td>\n",
       "      <td>Control</td>\n",
       "    </tr>\n",
       "    <tr>\n",
       "      <th>...</th>\n",
       "      <td>...</td>\n",
       "      <td>...</td>\n",
       "      <td>...</td>\n",
       "    </tr>\n",
       "    <tr>\n",
       "      <th>2926</th>\n",
       "      <td>9008.0</td>\n",
       "      <td>no,no,yes,yes,yes,yes,yes,yes,yes,yes</td>\n",
       "      <td>Control</td>\n",
       "    </tr>\n",
       "    <tr>\n",
       "      <th>2927</th>\n",
       "      <td>9008.0</td>\n",
       "      <td>yes,yes,yes,no,yes,yes,yes,yes,yes,no</td>\n",
       "      <td>Control</td>\n",
       "    </tr>\n",
       "    <tr>\n",
       "      <th>2928</th>\n",
       "      <td>9008.0</td>\n",
       "      <td>no,no,no,no,no,no,no,no,yes,yes</td>\n",
       "      <td>Control</td>\n",
       "    </tr>\n",
       "    <tr>\n",
       "      <th>2929</th>\n",
       "      <td>9008.0</td>\n",
       "      <td>yes,yes,yes,yes,yes,yes,yes,yes,yes,no</td>\n",
       "      <td>Control</td>\n",
       "    </tr>\n",
       "    <tr>\n",
       "      <th>2930</th>\n",
       "      <td>9008.0</td>\n",
       "      <td>yes,yes,yes,yes,yes,yes,yes,yes,yes,no</td>\n",
       "      <td>Control</td>\n",
       "    </tr>\n",
       "  </tbody>\n",
       "</table>\n",
       "<p>2253 rows × 3 columns</p>\n",
       "</div>"
      ],
      "text/plain": [
       "      Participant                       evidence_sequence experience\n",
       "0             2.0         no,no,no,no,yes,no,no,no,yes,no    Control\n",
       "1             2.0           no,no,no,no,no,no,no,no,no,no    Control\n",
       "2             2.0         no,no,yes,yes,no,no,no,no,no,no    Control\n",
       "3             2.0           no,no,no,no,no,no,no,no,no,no    Control\n",
       "4             2.0         no,no,no,yes,yes,no,no,no,no,no    Control\n",
       "...           ...                                     ...        ...\n",
       "2926       9008.0   no,no,yes,yes,yes,yes,yes,yes,yes,yes    Control\n",
       "2927       9008.0   yes,yes,yes,no,yes,yes,yes,yes,yes,no    Control\n",
       "2928       9008.0         no,no,no,no,no,no,no,no,yes,yes    Control\n",
       "2929       9008.0  yes,yes,yes,yes,yes,yes,yes,yes,yes,no    Control\n",
       "2930       9008.0  yes,yes,yes,yes,yes,yes,yes,yes,yes,no    Control\n",
       "\n",
       "[2253 rows x 3 columns]"
      ]
     },
     "execution_count": 4,
     "metadata": {},
     "output_type": "execute_result"
    }
   ],
   "source": [
    "train"
   ]
  },
  {
   "cell_type": "code",
   "execution_count": 5,
   "id": "d5be3b7f-03a5-421a-907c-0dcdd1724390",
   "metadata": {},
   "outputs": [
    {
     "data": {
      "text/html": [
       "<div>\n",
       "<style scoped>\n",
       "    .dataframe tbody tr th:only-of-type {\n",
       "        vertical-align: middle;\n",
       "    }\n",
       "\n",
       "    .dataframe tbody tr th {\n",
       "        vertical-align: top;\n",
       "    }\n",
       "\n",
       "    .dataframe thead th {\n",
       "        text-align: right;\n",
       "    }\n",
       "</style>\n",
       "<table border=\"1\" class=\"dataframe\">\n",
       "  <thead>\n",
       "    <tr style=\"text-align: right;\">\n",
       "      <th></th>\n",
       "      <th>Participant</th>\n",
       "      <th>evidence_sequence</th>\n",
       "      <th>experience</th>\n",
       "    </tr>\n",
       "  </thead>\n",
       "  <tbody>\n",
       "    <tr>\n",
       "      <th>208</th>\n",
       "      <td>7.0</td>\n",
       "      <td>no,no,no,yes,yes,yes,no,no,yes,yes</td>\n",
       "      <td>Control</td>\n",
       "    </tr>\n",
       "    <tr>\n",
       "      <th>209</th>\n",
       "      <td>7.0</td>\n",
       "      <td>no,no,yes,no,no,yes,yes,no,no,no</td>\n",
       "      <td>Control</td>\n",
       "    </tr>\n",
       "    <tr>\n",
       "      <th>210</th>\n",
       "      <td>7.0</td>\n",
       "      <td>no,no,no,no,no,yes,yes,yes,no,yes</td>\n",
       "      <td>Control</td>\n",
       "    </tr>\n",
       "    <tr>\n",
       "      <th>211</th>\n",
       "      <td>7.0</td>\n",
       "      <td>no,no,no,no,no,no,no,no,yes,no</td>\n",
       "      <td>Control</td>\n",
       "    </tr>\n",
       "    <tr>\n",
       "      <th>212</th>\n",
       "      <td>7.0</td>\n",
       "      <td>no,yes,no,yes,no,no,no,no,yes,no</td>\n",
       "      <td>Control</td>\n",
       "    </tr>\n",
       "    <tr>\n",
       "      <th>...</th>\n",
       "      <td>...</td>\n",
       "      <td>...</td>\n",
       "      <td>...</td>\n",
       "    </tr>\n",
       "    <tr>\n",
       "      <th>2615</th>\n",
       "      <td>9002.0</td>\n",
       "      <td>yes,yes,yes,yes,yes,yes,no,yes,yes,yes</td>\n",
       "      <td>Control</td>\n",
       "    </tr>\n",
       "    <tr>\n",
       "      <th>2616</th>\n",
       "      <td>9002.0</td>\n",
       "      <td>yes,yes,yes,yes,yes,yes,yes,yes,yes,yes</td>\n",
       "      <td>Control</td>\n",
       "    </tr>\n",
       "    <tr>\n",
       "      <th>2617</th>\n",
       "      <td>9002.0</td>\n",
       "      <td>yes,yes,yes,yes,yes,yes,yes,yes,yes,yes</td>\n",
       "      <td>Control</td>\n",
       "    </tr>\n",
       "    <tr>\n",
       "      <th>2618</th>\n",
       "      <td>9002.0</td>\n",
       "      <td>yes,yes,yes,yes,no,no,yes,no,no,no</td>\n",
       "      <td>Control</td>\n",
       "    </tr>\n",
       "    <tr>\n",
       "      <th>2619</th>\n",
       "      <td>9002.0</td>\n",
       "      <td>no,no,no,no,no,no,no,no,no,no</td>\n",
       "      <td>Control</td>\n",
       "    </tr>\n",
       "  </tbody>\n",
       "</table>\n",
       "<p>678 rows × 3 columns</p>\n",
       "</div>"
      ],
      "text/plain": [
       "      Participant                        evidence_sequence experience\n",
       "208           7.0       no,no,no,yes,yes,yes,no,no,yes,yes    Control\n",
       "209           7.0         no,no,yes,no,no,yes,yes,no,no,no    Control\n",
       "210           7.0        no,no,no,no,no,yes,yes,yes,no,yes    Control\n",
       "211           7.0           no,no,no,no,no,no,no,no,yes,no    Control\n",
       "212           7.0         no,yes,no,yes,no,no,no,no,yes,no    Control\n",
       "...           ...                                      ...        ...\n",
       "2615       9002.0   yes,yes,yes,yes,yes,yes,no,yes,yes,yes    Control\n",
       "2616       9002.0  yes,yes,yes,yes,yes,yes,yes,yes,yes,yes    Control\n",
       "2617       9002.0  yes,yes,yes,yes,yes,yes,yes,yes,yes,yes    Control\n",
       "2618       9002.0       yes,yes,yes,yes,no,no,yes,no,no,no    Control\n",
       "2619       9002.0            no,no,no,no,no,no,no,no,no,no    Control\n",
       "\n",
       "[678 rows x 3 columns]"
      ]
     },
     "execution_count": 5,
     "metadata": {},
     "output_type": "execute_result"
    }
   ],
   "source": [
    "test"
   ]
  },
  {
   "cell_type": "code",
   "execution_count": 6,
   "id": "55742f2b-6ce3-49b2-962f-f00868ec8ebf",
   "metadata": {},
   "outputs": [
    {
     "name": "stderr",
     "output_type": "stream",
     "text": [
      "\u001b[34m\u001b[1mwandb\u001b[0m: Currently logged in as: \u001b[33msam-michiels\u001b[0m (\u001b[33msam-michiels-open-university\u001b[0m) to \u001b[32mhttps://api.wandb.ai\u001b[0m. Use \u001b[1m`wandb login --relogin`\u001b[0m to force relogin\n"
     ]
    },
    {
     "data": {
      "text/html": [
       "Tracking run with wandb version 0.19.11"
      ],
      "text/plain": [
       "<IPython.core.display.HTML object>"
      ]
     },
     "metadata": {},
     "output_type": "display_data"
    },
    {
     "data": {
      "text/html": [
       "Run data is saved locally in <code>/home/sam/Documents/Thesis_CSI/Eyelink_CSI/notebooks/SVM/wandb/run-20250513_201314-tkfyk5gl</code>"
      ],
      "text/plain": [
       "<IPython.core.display.HTML object>"
      ]
     },
     "metadata": {},
     "output_type": "display_data"
    },
    {
     "data": {
      "text/html": [
       "Syncing run <strong><a href='https://wandb.ai/sam-michiels-open-university/svm-random-search/runs/tkfyk5gl' target=\"_blank\">svc_hyperparam_tuning</a></strong> to <a href='https://wandb.ai/sam-michiels-open-university/svm-random-search' target=\"_blank\">Weights & Biases</a> (<a href='https://wandb.me/developer-guide' target=\"_blank\">docs</a>)<br>"
      ],
      "text/plain": [
       "<IPython.core.display.HTML object>"
      ]
     },
     "metadata": {},
     "output_type": "display_data"
    },
    {
     "data": {
      "text/html": [
       " View project at <a href='https://wandb.ai/sam-michiels-open-university/svm-random-search' target=\"_blank\">https://wandb.ai/sam-michiels-open-university/svm-random-search</a>"
      ],
      "text/plain": [
       "<IPython.core.display.HTML object>"
      ]
     },
     "metadata": {},
     "output_type": "display_data"
    },
    {
     "data": {
      "text/html": [
       " View run at <a href='https://wandb.ai/sam-michiels-open-university/svm-random-search/runs/tkfyk5gl' target=\"_blank\">https://wandb.ai/sam-michiels-open-university/svm-random-search/runs/tkfyk5gl</a>"
      ],
      "text/plain": [
       "<IPython.core.display.HTML object>"
      ]
     },
     "metadata": {},
     "output_type": "display_data"
    },
    {
     "name": "stdout",
     "output_type": "stream",
     "text": [
      "Fitting 5 folds for each of 100 candidates, totalling 500 fits\n"
     ]
    },
    {
     "data": {
      "text/html": [],
      "text/plain": [
       "<IPython.core.display.HTML object>"
      ]
     },
     "metadata": {},
     "output_type": "display_data"
    },
    {
     "data": {
      "text/html": [
       "<br>    <style><br>        .wandb-row {<br>            display: flex;<br>            flex-direction: row;<br>            flex-wrap: wrap;<br>            justify-content: flex-start;<br>            width: 100%;<br>        }<br>        .wandb-col {<br>            display: flex;<br>            flex-direction: column;<br>            flex-basis: 100%;<br>            flex: 1;<br>            padding: 10px;<br>        }<br>    </style><br><div class=\"wandb-row\"><div class=\"wandb-col\"><h3>Run history:</h3><br/><table class=\"wandb\"><tr><td>test_accuracy</td><td>▁</td></tr></table><br/></div><div class=\"wandb-col\"><h3>Run summary:</h3><br/><table class=\"wandb\"><tr><td>test_accuracy</td><td>0.19322</td></tr></table><br/></div></div>"
      ],
      "text/plain": [
       "<IPython.core.display.HTML object>"
      ]
     },
     "metadata": {},
     "output_type": "display_data"
    },
    {
     "data": {
      "text/html": [
       " View run <strong style=\"color:#cdcd00\">svc_hyperparam_tuning</strong> at: <a href='https://wandb.ai/sam-michiels-open-university/svm-random-search/runs/tkfyk5gl' target=\"_blank\">https://wandb.ai/sam-michiels-open-university/svm-random-search/runs/tkfyk5gl</a><br> View project at: <a href='https://wandb.ai/sam-michiels-open-university/svm-random-search' target=\"_blank\">https://wandb.ai/sam-michiels-open-university/svm-random-search</a><br>Synced 5 W&B file(s), 0 media file(s), 0 artifact file(s) and 0 other file(s)"
      ],
      "text/plain": [
       "<IPython.core.display.HTML object>"
      ]
     },
     "metadata": {},
     "output_type": "display_data"
    },
    {
     "data": {
      "text/html": [
       "Find logs at: <code>./wandb/run-20250513_201314-tkfyk5gl/logs</code>"
      ],
      "text/plain": [
       "<IPython.core.display.HTML object>"
      ]
     },
     "metadata": {},
     "output_type": "display_data"
    }
   ],
   "source": [
    "import wandb\n",
    "from sklearn.model_selection import RandomizedSearchCV\n",
    "from sklearn.svm import SVC\n",
    "from sklearn.metrics import classification_report, confusion_matrix, accuracy_score\n",
    "import numpy as np\n",
    "\n",
    "# Initialize wandb\n",
    "wandb.init(\n",
    "    project=\"svm-random-search\",\n",
    "    name=\"svc_hyperparam_tuning\",\n",
    "    config={\n",
    "        \"model\": \"SVC\",\n",
    "        \"search_type\": \"RandomizedSearchCV\",\n",
    "        \"param_dist\": {\n",
    "            'C': [0.01, 0.1, 1, 10, 100, 1000],\n",
    "            'kernel': ['linear', 'rbf', 'poly', 'sigmoid'],\n",
    "            'gamma': ['scale', 'auto', 1, 0.1, 0.01, 0.001, 0.0001],\n",
    "            'degree': [2, 3, 4, 5],\n",
    "            'coef0': [0.0, 0.1, 0.5, 1.0],\n",
    "            'shrinking': [True, False],\n",
    "            'decision_function_shape': ['ovo', 'ovr'],\n",
    "            'class_weight': [None, 'balanced']\n",
    "        },\n",
    "        \"n_iter\": 100,\n",
    "        \"cv\": 5,\n",
    "        \"scoring\": \"accuracy\"\n",
    "    }\n",
    ")\n",
    "\n",
    "# Define parameter space\n",
    "param_dist = wandb.config[\"param_dist\"]\n",
    "\n",
    "# Initialize and fit RandomizedSearchCV\n",
    "svc = SVC()\n",
    "random_search = RandomizedSearchCV(\n",
    "    estimator=svc,\n",
    "    param_distributions=param_dist,\n",
    "    n_iter=wandb.config[\"n_iter\"],\n",
    "    scoring=wandb.config[\"scoring\"],\n",
    "    cv=wandb.config[\"cv\"],\n",
    "    verbose=1,\n",
    "    random_state=42,\n",
    "    n_jobs=-1\n",
    ")\n",
    "\n",
    "random_search.fit(X_train, y_train)\n",
    "\n",
    "# Log best parameters\n",
    "wandb.log({\"best_params\": random_search.best_params_})\n",
    "\n",
    "# Predict and evaluate\n",
    "best_svc = random_search.best_estimator_\n",
    "y_pred = best_svc.predict(X_test)\n",
    "\n",
    "# Log confusion matrix, accuracy, and classification report\n",
    "accuracy = accuracy_score(y_test, y_pred)\n",
    "wandb.log({\n",
    "    \"test_accuracy\": accuracy\n",
    "})\n",
    "\n",
    "# Also print to console\n",
    "\n",
    "# Finish wandb run\n",
    "wandb.finish()\n"
   ]
  },
  {
   "cell_type": "code",
   "execution_count": 7,
   "id": "6bfa8c47-2b8f-4b79-b874-c8c93e2e607b",
   "metadata": {},
   "outputs": [
    {
     "name": "stdout",
     "output_type": "stream",
     "text": [
      "Best from Random Search: {'shrinking': False, 'kernel': 'poly', 'gamma': 'scale', 'degree': 4, 'decision_function_shape': 'ovr', 'coef0': 1.0, 'class_weight': None, 'C': 0.01}\n",
      "Confusion Matrix:\n",
      " [[112   2  14   1]\n",
      " [182   7  23   1]\n",
      " [ 69   6  10   2]\n",
      " [205  11  31   2]]\n",
      "\n",
      "Classification Report:\n",
      "               precision    recall  f1-score   support\n",
      "\n",
      "         CSI       0.20      0.87      0.32       129\n",
      "     Control       0.27      0.03      0.06       213\n",
      "   FirstYear       0.13      0.11      0.12        87\n",
      "   ThirdYear       0.33      0.01      0.02       249\n",
      "\n",
      "    accuracy                           0.19       678\n",
      "   macro avg       0.23      0.26      0.13       678\n",
      "weighted avg       0.26      0.19      0.10       678\n",
      "\n"
     ]
    }
   ],
   "source": [
    "print(\"Best from Random Search:\", random_search.best_params_)\n",
    "print(\"Confusion Matrix:\\n\", confusion_matrix(y_test, y_pred))\n",
    "print(\"\\nClassification Report:\\n\", classification_report(y_test, y_pred))"
   ]
  },
  {
   "cell_type": "code",
   "execution_count": 8,
   "id": "64722594-f8e6-41d0-b5f3-44b6651d1343",
   "metadata": {},
   "outputs": [
    {
     "data": {
      "text/plain": [
       "['svm_random_search_model_evidence.pkl']"
      ]
     },
     "execution_count": 8,
     "metadata": {},
     "output_type": "execute_result"
    }
   ],
   "source": [
    "import joblib\n",
    "joblib.dump(best_svc, 'svm_random_search_model_evidence.pkl')"
   ]
  }
 ],
 "metadata": {
  "kernelspec": {
   "display_name": "Python 3 (ipykernel)",
   "language": "python",
   "name": "python3"
  },
  "language_info": {
   "codemirror_mode": {
    "name": "ipython",
    "version": 3
   },
   "file_extension": ".py",
   "mimetype": "text/x-python",
   "name": "python",
   "nbconvert_exporter": "python",
   "pygments_lexer": "ipython3",
   "version": "3.12.9"
  }
 },
 "nbformat": 4,
 "nbformat_minor": 5
}
