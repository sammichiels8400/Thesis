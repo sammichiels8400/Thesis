{
 "cells": [
  {
   "cell_type": "code",
   "execution_count": null,
   "id": "cd7e2b41-1fed-429c-9ca4-187da6d61172",
   "metadata": {},
   "outputs": [
    {
     "name": "stdout",
     "output_type": "stream",
     "text": [
      "Train participants:  {2.0, 4.0, 11.0, 12.0, 13.0, 14.0, 15.0, 16.0, 18.0, 20.0, 21.0, 23.0, 24.0, 29.0, 30.0, 32.0, 9003.0, 9004.0, 9005.0, 9008.0, 1010.0, 1012.0, 1013.0, 1014.0, 1017.0, 1018.0, 1019.0, 1020.0}\n",
      "Test participants:  {33.0, 7.0, 9001.0, 9002.0, 19.0, 1011.0, 25.0, 28.0}\n"
     ]
    }
   ],
   "source": [
    "import pandas as pd\n",
    "import numpy as np\n",
    "from sklearn.model_selection import train_test_split\n",
    "from sklearn.preprocessing import StandardScaler\n",
    "from sklearn.svm import SVC\n",
    "from sklearn.metrics import classification_report, confusion_matrix\n",
    "from sklearn.model_selection import GroupShuffleSplit\n",
    "import wandb\n",
    "\n",
    "\n",
    "csv_path = \"../../data/csv/expanded_dataset_roi.csv\"  \n",
    "# Load dataset\n",
    "df = pd.read_csv(csv_path)  # Replace with your actual file path\n",
    "\n",
    "# Train/test split\n",
    "splitter = GroupShuffleSplit(test_size=.20, n_splits=2, random_state=0)\n",
    "split = splitter.split(df, groups=df['Participant'])\n",
    "\n",
    "train_inds, test_inds = next(split)\n",
    "\n",
    "train = df.iloc[train_inds]\n",
    "test = df.iloc[test_inds]\n",
    "\n",
    "print(\"Train participants: \", set(train[\"Participant\"]))\n",
    "print(\"Test participants: \", set(test[\"Participant\"]))\n"
   ]
  },
  {
   "cell_type": "code",
   "execution_count": 2,
   "id": "6edd7c68-c288-4a6a-b2f1-c207cf9feee5",
   "metadata": {},
   "outputs": [
    {
     "name": "stdout",
     "output_type": "stream",
     "text": [
      "Confusion Matrix:\n",
      " [[130   0   0   0]\n",
      " [219   0   0   0]\n",
      " [ 89   0   0   0]\n",
      " [256   0   0   0]]\n",
      "\n",
      "Classification Report:\n",
      "               precision    recall  f1-score   support\n",
      "\n",
      "         CSI       0.19      1.00      0.32       130\n",
      "     Control       0.00      0.00      0.00       219\n",
      "   FirstYear       0.00      0.00      0.00        89\n",
      "   ThirdYear       0.00      0.00      0.00       256\n",
      "\n",
      "    accuracy                           0.19       694\n",
      "   macro avg       0.05      0.25      0.08       694\n",
      "weighted avg       0.04      0.19      0.06       694\n",
      "\n"
     ]
    },
    {
     "name": "stderr",
     "output_type": "stream",
     "text": [
      "/home/sam/.local/lib/python3.12/site-packages/sklearn/metrics/_classification.py:1565: UndefinedMetricWarning: Precision is ill-defined and being set to 0.0 in labels with no predicted samples. Use `zero_division` parameter to control this behavior.\n",
      "  _warn_prf(average, modifier, f\"{metric.capitalize()} is\", len(result))\n",
      "/home/sam/.local/lib/python3.12/site-packages/sklearn/metrics/_classification.py:1565: UndefinedMetricWarning: Precision is ill-defined and being set to 0.0 in labels with no predicted samples. Use `zero_division` parameter to control this behavior.\n",
      "  _warn_prf(average, modifier, f\"{metric.capitalize()} is\", len(result))\n",
      "/home/sam/.local/lib/python3.12/site-packages/sklearn/metrics/_classification.py:1565: UndefinedMetricWarning: Precision is ill-defined and being set to 0.0 in labels with no predicted samples. Use `zero_division` parameter to control this behavior.\n",
      "  _warn_prf(average, modifier, f\"{metric.capitalize()} is\", len(result))\n"
     ]
    }
   ],
   "source": [
    "# Encode 'yes' as 1 and 'no' as 0\n",
    "def encode_sequence(seq):\n",
    "    return [1 if token.strip().lower() == \"yes\" else 0 for token in seq.split(',')]\n",
    "\n",
    "# Encode all sequences\n",
    "train_seq = train['roi_sequence'].apply(encode_sequence)\n",
    "test_seq = test['roi_sequence'].apply(encode_sequence)\n",
    "\n",
    "# Find max sequence length\n",
    "max_len = max(len(seq) for seq in train_seq)\n",
    "\n",
    "# Pad sequences with 0s (or trim if too long)\n",
    "def pad_or_trim(seq, target_len):\n",
    "    if len(seq) < target_len:\n",
    "        return seq + [0] * (target_len - len(seq))  # pad with 0s\n",
    "    else:\n",
    "        return seq[:target_len]  # trim if too long\n",
    "\n",
    "Xtrain = np.array([pad_or_trim(seq, max_len) for seq in train_seq])\n",
    "y_train = train['experience'].values\n",
    "\n",
    "Xtest = np.array([pad_or_trim(seq, max_len) for seq in test_seq])\n",
    "y_test = test['experience'].values\n",
    "\n",
    "# Standardize features\n",
    "scaler = StandardScaler()\n",
    "X_train = scaler.fit_transform(Xtrain)\n",
    "X_test = scaler.transform(Xtest)\n",
    "\n",
    "\n",
    "# Train SVM\n",
    "clf = SVC(kernel='rbf', C=1.0, gamma='scale', decision_function_shape='ovo')\n",
    "clf.fit(X_train, y_train)\n",
    "\n",
    "# Evaluate\n",
    "y_pred = clf.predict(X_test)\n",
    "print(\"Confusion Matrix:\\n\", confusion_matrix(y_test, y_pred))\n",
    "print(\"\\nClassification Report:\\n\", classification_report(y_test, y_pred))\n"
   ]
  },
  {
   "cell_type": "code",
   "execution_count": 3,
   "id": "45c6fe9c-6c86-4d34-bf42-4819fbe422f6",
   "metadata": {},
   "outputs": [
    {
     "name": "stdout",
     "output_type": "stream",
     "text": [
      "2310 694\n"
     ]
    }
   ],
   "source": [
    "print(len(X_train), len(X_test))"
   ]
  },
  {
   "cell_type": "code",
   "execution_count": 4,
   "id": "a68396a6-7367-4b85-8422-c8afe35121f5",
   "metadata": {},
   "outputs": [
    {
     "data": {
      "text/html": [
       "<div>\n",
       "<style scoped>\n",
       "    .dataframe tbody tr th:only-of-type {\n",
       "        vertical-align: middle;\n",
       "    }\n",
       "\n",
       "    .dataframe tbody tr th {\n",
       "        vertical-align: top;\n",
       "    }\n",
       "\n",
       "    .dataframe thead th {\n",
       "        text-align: right;\n",
       "    }\n",
       "</style>\n",
       "<table border=\"1\" class=\"dataframe\">\n",
       "  <thead>\n",
       "    <tr style=\"text-align: right;\">\n",
       "      <th></th>\n",
       "      <th>Participant</th>\n",
       "      <th>roi_sequence</th>\n",
       "      <th>experience</th>\n",
       "    </tr>\n",
       "  </thead>\n",
       "  <tbody>\n",
       "    <tr>\n",
       "      <th>0</th>\n",
       "      <td>2.0</td>\n",
       "      <td>0,22,9,8,0,0,0,0,0,8</td>\n",
       "      <td>Control</td>\n",
       "    </tr>\n",
       "    <tr>\n",
       "      <th>1</th>\n",
       "      <td>2.0</td>\n",
       "      <td>8,7,17,15,8,0,9,0,23,17</td>\n",
       "      <td>Control</td>\n",
       "    </tr>\n",
       "    <tr>\n",
       "      <th>2</th>\n",
       "      <td>2.0</td>\n",
       "      <td>8,8,0,0,0,0,0,0,0,12</td>\n",
       "      <td>Control</td>\n",
       "    </tr>\n",
       "    <tr>\n",
       "      <th>3</th>\n",
       "      <td>2.0</td>\n",
       "      <td>0,13,29,12,29,21,0,13,12,15</td>\n",
       "      <td>Control</td>\n",
       "    </tr>\n",
       "    <tr>\n",
       "      <th>4</th>\n",
       "      <td>2.0</td>\n",
       "      <td>5,7,2,2,9,8,8,8,8,0</td>\n",
       "      <td>Control</td>\n",
       "    </tr>\n",
       "    <tr>\n",
       "      <th>...</th>\n",
       "      <td>...</td>\n",
       "      <td>...</td>\n",
       "      <td>...</td>\n",
       "    </tr>\n",
       "    <tr>\n",
       "      <th>2999</th>\n",
       "      <td>9008.0</td>\n",
       "      <td>2,2,4,16,19,19,13,18,9,15</td>\n",
       "      <td>Control</td>\n",
       "    </tr>\n",
       "    <tr>\n",
       "      <th>3000</th>\n",
       "      <td>9008.0</td>\n",
       "      <td>5,13,7,16,7,13,19,19,8,13</td>\n",
       "      <td>Control</td>\n",
       "    </tr>\n",
       "    <tr>\n",
       "      <th>3001</th>\n",
       "      <td>9008.0</td>\n",
       "      <td>11,11,11,11,11,11,2,2,4,5</td>\n",
       "      <td>Control</td>\n",
       "    </tr>\n",
       "    <tr>\n",
       "      <th>3002</th>\n",
       "      <td>9008.0</td>\n",
       "      <td>5,13,12,13,5,5,5,9,13,13</td>\n",
       "      <td>Control</td>\n",
       "    </tr>\n",
       "    <tr>\n",
       "      <th>3003</th>\n",
       "      <td>9008.0</td>\n",
       "      <td>8,5,15,15,15,18,16,15,14,13</td>\n",
       "      <td>Control</td>\n",
       "    </tr>\n",
       "  </tbody>\n",
       "</table>\n",
       "<p>2310 rows × 3 columns</p>\n",
       "</div>"
      ],
      "text/plain": [
       "      Participant                 roi_sequence experience\n",
       "0             2.0         0,22,9,8,0,0,0,0,0,8    Control\n",
       "1             2.0      8,7,17,15,8,0,9,0,23,17    Control\n",
       "2             2.0         8,8,0,0,0,0,0,0,0,12    Control\n",
       "3             2.0  0,13,29,12,29,21,0,13,12,15    Control\n",
       "4             2.0          5,7,2,2,9,8,8,8,8,0    Control\n",
       "...           ...                          ...        ...\n",
       "2999       9008.0    2,2,4,16,19,19,13,18,9,15    Control\n",
       "3000       9008.0    5,13,7,16,7,13,19,19,8,13    Control\n",
       "3001       9008.0    11,11,11,11,11,11,2,2,4,5    Control\n",
       "3002       9008.0     5,13,12,13,5,5,5,9,13,13    Control\n",
       "3003       9008.0  8,5,15,15,15,18,16,15,14,13    Control\n",
       "\n",
       "[2310 rows x 3 columns]"
      ]
     },
     "execution_count": 4,
     "metadata": {},
     "output_type": "execute_result"
    }
   ],
   "source": [
    "train"
   ]
  },
  {
   "cell_type": "code",
   "execution_count": 5,
   "id": "d5be3b7f-03a5-421a-907c-0dcdd1724390",
   "metadata": {},
   "outputs": [
    {
     "data": {
      "text/html": [
       "<div>\n",
       "<style scoped>\n",
       "    .dataframe tbody tr th:only-of-type {\n",
       "        vertical-align: middle;\n",
       "    }\n",
       "\n",
       "    .dataframe tbody tr th {\n",
       "        vertical-align: top;\n",
       "    }\n",
       "\n",
       "    .dataframe thead th {\n",
       "        text-align: right;\n",
       "    }\n",
       "</style>\n",
       "<table border=\"1\" class=\"dataframe\">\n",
       "  <thead>\n",
       "    <tr style=\"text-align: right;\">\n",
       "      <th></th>\n",
       "      <th>Participant</th>\n",
       "      <th>roi_sequence</th>\n",
       "      <th>experience</th>\n",
       "    </tr>\n",
       "  </thead>\n",
       "  <tbody>\n",
       "    <tr>\n",
       "      <th>213</th>\n",
       "      <td>7.0</td>\n",
       "      <td>0,18,8,0,0,0,0,0,12,7</td>\n",
       "      <td>Control</td>\n",
       "    </tr>\n",
       "    <tr>\n",
       "      <th>214</th>\n",
       "      <td>7.0</td>\n",
       "      <td>15,2,2,7,9,0,0,9,2,2</td>\n",
       "      <td>Control</td>\n",
       "    </tr>\n",
       "    <tr>\n",
       "      <th>215</th>\n",
       "      <td>7.0</td>\n",
       "      <td>17,17,17,0,2,0,0,9,9,0</td>\n",
       "      <td>Control</td>\n",
       "    </tr>\n",
       "    <tr>\n",
       "      <th>216</th>\n",
       "      <td>7.0</td>\n",
       "      <td>0,9,9,9,9,9,9,9,8,8</td>\n",
       "      <td>Control</td>\n",
       "    </tr>\n",
       "    <tr>\n",
       "      <th>217</th>\n",
       "      <td>7.0</td>\n",
       "      <td>9,8,8,9,8,8,9,7,7,9</td>\n",
       "      <td>Control</td>\n",
       "    </tr>\n",
       "    <tr>\n",
       "      <th>...</th>\n",
       "      <td>...</td>\n",
       "      <td>...</td>\n",
       "      <td>...</td>\n",
       "    </tr>\n",
       "    <tr>\n",
       "      <th>2679</th>\n",
       "      <td>9002.0</td>\n",
       "      <td>15,13,7,7,6,13,12,12,5,5</td>\n",
       "      <td>Control</td>\n",
       "    </tr>\n",
       "    <tr>\n",
       "      <th>2680</th>\n",
       "      <td>9002.0</td>\n",
       "      <td>8,6,5,13,14,13,6,5,9,15</td>\n",
       "      <td>Control</td>\n",
       "    </tr>\n",
       "    <tr>\n",
       "      <th>2681</th>\n",
       "      <td>9002.0</td>\n",
       "      <td>15,9,15,15,15,15,15,13,13,13</td>\n",
       "      <td>Control</td>\n",
       "    </tr>\n",
       "    <tr>\n",
       "      <th>2682</th>\n",
       "      <td>9002.0</td>\n",
       "      <td>13,2,7,16,7,11,11,11,11,11</td>\n",
       "      <td>Control</td>\n",
       "    </tr>\n",
       "    <tr>\n",
       "      <th>2683</th>\n",
       "      <td>9002.0</td>\n",
       "      <td>11,11,3,1,2,2,1,2,2,0</td>\n",
       "      <td>Control</td>\n",
       "    </tr>\n",
       "  </tbody>\n",
       "</table>\n",
       "<p>694 rows × 3 columns</p>\n",
       "</div>"
      ],
      "text/plain": [
       "      Participant                  roi_sequence experience\n",
       "213           7.0         0,18,8,0,0,0,0,0,12,7    Control\n",
       "214           7.0          15,2,2,7,9,0,0,9,2,2    Control\n",
       "215           7.0        17,17,17,0,2,0,0,9,9,0    Control\n",
       "216           7.0           0,9,9,9,9,9,9,9,8,8    Control\n",
       "217           7.0           9,8,8,9,8,8,9,7,7,9    Control\n",
       "...           ...                           ...        ...\n",
       "2679       9002.0      15,13,7,7,6,13,12,12,5,5    Control\n",
       "2680       9002.0       8,6,5,13,14,13,6,5,9,15    Control\n",
       "2681       9002.0  15,9,15,15,15,15,15,13,13,13    Control\n",
       "2682       9002.0    13,2,7,16,7,11,11,11,11,11    Control\n",
       "2683       9002.0         11,11,3,1,2,2,1,2,2,0    Control\n",
       "\n",
       "[694 rows x 3 columns]"
      ]
     },
     "execution_count": 5,
     "metadata": {},
     "output_type": "execute_result"
    }
   ],
   "source": [
    "test"
   ]
  },
  {
   "cell_type": "code",
   "execution_count": 6,
   "id": "55742f2b-6ce3-49b2-962f-f00868ec8ebf",
   "metadata": {},
   "outputs": [
    {
     "name": "stderr",
     "output_type": "stream",
     "text": [
      "\u001b[34m\u001b[1mwandb\u001b[0m: Currently logged in as: \u001b[33msam-michiels\u001b[0m (\u001b[33msam-michiels-open-university\u001b[0m) to \u001b[32mhttps://api.wandb.ai\u001b[0m. Use \u001b[1m`wandb login --relogin`\u001b[0m to force relogin\n"
     ]
    },
    {
     "data": {
      "text/html": [
       "Tracking run with wandb version 0.19.11"
      ],
      "text/plain": [
       "<IPython.core.display.HTML object>"
      ]
     },
     "metadata": {},
     "output_type": "display_data"
    },
    {
     "data": {
      "text/html": [
       "Run data is saved locally in <code>/home/sam/Documents/Thesis_CSI/Eyelink_CSI/notebooks/SVM/wandb/run-20250514_164155-641t5c0f</code>"
      ],
      "text/plain": [
       "<IPython.core.display.HTML object>"
      ]
     },
     "metadata": {},
     "output_type": "display_data"
    },
    {
     "data": {
      "text/html": [
       "Syncing run <strong><a href='https://wandb.ai/sam-michiels-open-university/svm-random-search/runs/641t5c0f' target=\"_blank\">svc_hyperparam_tuning</a></strong> to <a href='https://wandb.ai/sam-michiels-open-university/svm-random-search' target=\"_blank\">Weights & Biases</a> (<a href='https://wandb.me/developer-guide' target=\"_blank\">docs</a>)<br>"
      ],
      "text/plain": [
       "<IPython.core.display.HTML object>"
      ]
     },
     "metadata": {},
     "output_type": "display_data"
    },
    {
     "data": {
      "text/html": [
       " View project at <a href='https://wandb.ai/sam-michiels-open-university/svm-random-search' target=\"_blank\">https://wandb.ai/sam-michiels-open-university/svm-random-search</a>"
      ],
      "text/plain": [
       "<IPython.core.display.HTML object>"
      ]
     },
     "metadata": {},
     "output_type": "display_data"
    },
    {
     "data": {
      "text/html": [
       " View run at <a href='https://wandb.ai/sam-michiels-open-university/svm-random-search/runs/641t5c0f' target=\"_blank\">https://wandb.ai/sam-michiels-open-university/svm-random-search/runs/641t5c0f</a>"
      ],
      "text/plain": [
       "<IPython.core.display.HTML object>"
      ]
     },
     "metadata": {},
     "output_type": "display_data"
    },
    {
     "name": "stdout",
     "output_type": "stream",
     "text": [
      "Fitting 5 folds for each of 100 candidates, totalling 500 fits\n"
     ]
    },
    {
     "data": {
      "text/html": [],
      "text/plain": [
       "<IPython.core.display.HTML object>"
      ]
     },
     "metadata": {},
     "output_type": "display_data"
    },
    {
     "data": {
      "text/html": [
       "<br>    <style><br>        .wandb-row {<br>            display: flex;<br>            flex-direction: row;<br>            flex-wrap: wrap;<br>            justify-content: flex-start;<br>            width: 100%;<br>        }<br>        .wandb-col {<br>            display: flex;<br>            flex-direction: column;<br>            flex-basis: 100%;<br>            flex: 1;<br>            padding: 10px;<br>        }<br>    </style><br><div class=\"wandb-row\"><div class=\"wandb-col\"><h3>Run history:</h3><br/><table class=\"wandb\"><tr><td>test_accuracy</td><td>▁</td></tr></table><br/></div><div class=\"wandb-col\"><h3>Run summary:</h3><br/><table class=\"wandb\"><tr><td>test_accuracy</td><td>0.18732</td></tr></table><br/></div></div>"
      ],
      "text/plain": [
       "<IPython.core.display.HTML object>"
      ]
     },
     "metadata": {},
     "output_type": "display_data"
    },
    {
     "data": {
      "text/html": [
       " View run <strong style=\"color:#cdcd00\">svc_hyperparam_tuning</strong> at: <a href='https://wandb.ai/sam-michiels-open-university/svm-random-search/runs/641t5c0f' target=\"_blank\">https://wandb.ai/sam-michiels-open-university/svm-random-search/runs/641t5c0f</a><br> View project at: <a href='https://wandb.ai/sam-michiels-open-university/svm-random-search' target=\"_blank\">https://wandb.ai/sam-michiels-open-university/svm-random-search</a><br>Synced 5 W&B file(s), 0 media file(s), 0 artifact file(s) and 0 other file(s)"
      ],
      "text/plain": [
       "<IPython.core.display.HTML object>"
      ]
     },
     "metadata": {},
     "output_type": "display_data"
    },
    {
     "data": {
      "text/html": [
       "Find logs at: <code>./wandb/run-20250514_164155-641t5c0f/logs</code>"
      ],
      "text/plain": [
       "<IPython.core.display.HTML object>"
      ]
     },
     "metadata": {},
     "output_type": "display_data"
    }
   ],
   "source": [
    "import wandb\n",
    "from sklearn.model_selection import RandomizedSearchCV\n",
    "from sklearn.svm import SVC\n",
    "from sklearn.metrics import classification_report, confusion_matrix, accuracy_score\n",
    "import numpy as np\n",
    "\n",
    "# Initialize wandb\n",
    "wandb.init(\n",
    "    project=\"svm-random-search\",\n",
    "    name=\"svc_hyperparam_tuning\",\n",
    "    config={\n",
    "        \"model\": \"SVC\",\n",
    "        \"search_type\": \"RandomizedSearchCV\",\n",
    "        \"param_dist\": {\n",
    "            'C': [0.01, 0.1, 1, 10, 100, 1000],\n",
    "            'kernel': ['linear', 'rbf', 'poly', 'sigmoid'],\n",
    "            'gamma': ['scale', 'auto', 1, 0.1, 0.01, 0.001, 0.0001],\n",
    "            'degree': [2, 3, 4, 5],\n",
    "            'coef0': [0.0, 0.1, 0.5, 1.0],\n",
    "            'shrinking': [True, False],\n",
    "            'decision_function_shape': ['ovo', 'ovr'],\n",
    "            'class_weight': [None, 'balanced']\n",
    "        },\n",
    "        \"n_iter\": 100,\n",
    "        \"cv\": 5,\n",
    "        \"scoring\": \"accuracy\"\n",
    "    }\n",
    ")\n",
    "\n",
    "# Define parameter space\n",
    "param_dist = wandb.config[\"param_dist\"]\n",
    "\n",
    "# Initialize and fit RandomizedSearchCV\n",
    "svc = SVC()\n",
    "random_search = RandomizedSearchCV(\n",
    "    estimator=svc,\n",
    "    param_distributions=param_dist,\n",
    "    n_iter=wandb.config[\"n_iter\"],\n",
    "    scoring=wandb.config[\"scoring\"],\n",
    "    cv=wandb.config[\"cv\"],\n",
    "    verbose=1,\n",
    "    random_state=42,\n",
    "    n_jobs=-1\n",
    ")\n",
    "\n",
    "random_search.fit(X_train, y_train)\n",
    "\n",
    "# Log best parameters\n",
    "wandb.log({\"best_params\": random_search.best_params_})\n",
    "\n",
    "# Predict and evaluate\n",
    "best_svc = random_search.best_estimator_\n",
    "y_pred = best_svc.predict(X_test)\n",
    "\n",
    "# Log confusion matrix, accuracy, and classification report\n",
    "accuracy = accuracy_score(y_test, y_pred)\n",
    "wandb.log({\n",
    "    \"test_accuracy\": accuracy\n",
    "})\n",
    "\n",
    "# Also print to console\n",
    "\n",
    "# Finish wandb run\n",
    "wandb.finish()\n"
   ]
  },
  {
   "cell_type": "code",
   "execution_count": 7,
   "id": "6bfa8c47-2b8f-4b79-b874-c8c93e2e607b",
   "metadata": {},
   "outputs": [
    {
     "name": "stdout",
     "output_type": "stream",
     "text": [
      "Best from Random Search: {'shrinking': False, 'kernel': 'rbf', 'gamma': 'scale', 'degree': 4, 'decision_function_shape': 'ovo', 'coef0': 1.0, 'class_weight': None, 'C': 100}\n",
      "Confusion Matrix:\n",
      " [[130   0   0   0]\n",
      " [219   0   0   0]\n",
      " [ 89   0   0   0]\n",
      " [256   0   0   0]]\n",
      "\n",
      "Classification Report:\n",
      "               precision    recall  f1-score   support\n",
      "\n",
      "         CSI       0.19      1.00      0.32       130\n",
      "     Control       0.00      0.00      0.00       219\n",
      "   FirstYear       0.00      0.00      0.00        89\n",
      "   ThirdYear       0.00      0.00      0.00       256\n",
      "\n",
      "    accuracy                           0.19       694\n",
      "   macro avg       0.05      0.25      0.08       694\n",
      "weighted avg       0.04      0.19      0.06       694\n",
      "\n"
     ]
    },
    {
     "name": "stderr",
     "output_type": "stream",
     "text": [
      "/home/sam/.local/lib/python3.12/site-packages/sklearn/metrics/_classification.py:1565: UndefinedMetricWarning: Precision is ill-defined and being set to 0.0 in labels with no predicted samples. Use `zero_division` parameter to control this behavior.\n",
      "  _warn_prf(average, modifier, f\"{metric.capitalize()} is\", len(result))\n",
      "/home/sam/.local/lib/python3.12/site-packages/sklearn/metrics/_classification.py:1565: UndefinedMetricWarning: Precision is ill-defined and being set to 0.0 in labels with no predicted samples. Use `zero_division` parameter to control this behavior.\n",
      "  _warn_prf(average, modifier, f\"{metric.capitalize()} is\", len(result))\n",
      "/home/sam/.local/lib/python3.12/site-packages/sklearn/metrics/_classification.py:1565: UndefinedMetricWarning: Precision is ill-defined and being set to 0.0 in labels with no predicted samples. Use `zero_division` parameter to control this behavior.\n",
      "  _warn_prf(average, modifier, f\"{metric.capitalize()} is\", len(result))\n"
     ]
    }
   ],
   "source": [
    "print(\"Best from Random Search:\", random_search.best_params_)\n",
    "print(\"Confusion Matrix:\\n\", confusion_matrix(y_test, y_pred))\n",
    "print(\"\\nClassification Report:\\n\", classification_report(y_test, y_pred))"
   ]
  },
  {
   "cell_type": "code",
   "execution_count": 8,
   "id": "64722594-f8e6-41d0-b5f3-44b6651d1343",
   "metadata": {},
   "outputs": [
    {
     "data": {
      "text/plain": [
       "['svm_random_search_model_roi.pkl']"
      ]
     },
     "execution_count": 8,
     "metadata": {},
     "output_type": "execute_result"
    }
   ],
   "source": [
    "import joblib\n",
    "joblib.dump(best_svc, 'svm_random_search_model_roi.pkl')"
   ]
  }
 ],
 "metadata": {
  "kernelspec": {
   "display_name": "Python 3 (ipykernel)",
   "language": "python",
   "name": "python3"
  },
  "language_info": {
   "codemirror_mode": {
    "name": "ipython",
    "version": 3
   },
   "file_extension": ".py",
   "mimetype": "text/x-python",
   "name": "python",
   "nbconvert_exporter": "python",
   "pygments_lexer": "ipython3",
   "version": "3.12.9"
  }
 },
 "nbformat": 4,
 "nbformat_minor": 5
}
