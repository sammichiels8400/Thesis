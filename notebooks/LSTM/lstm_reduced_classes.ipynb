{
 "cells": [
  {
   "cell_type": "code",
   "execution_count": null,
   "id": "63667985-c651-427a-9ff6-68c3e8b99a1e",
   "metadata": {},
   "outputs": [
    {
     "name": "stderr",
     "output_type": "stream",
     "text": [
      "2025-06-02 17:24:58.419779: I tensorflow/core/util/port.cc:153] oneDNN custom operations are on. You may see slightly different numerical results due to floating-point round-off errors from different computation orders. To turn them off, set the environment variable `TF_ENABLE_ONEDNN_OPTS=0`.\n",
      "2025-06-02 17:24:58.429222: E external/local_xla/xla/stream_executor/cuda/cuda_fft.cc:467] Unable to register cuFFT factory: Attempting to register factory for plugin cuFFT when one has already been registered\n",
      "WARNING: All log messages before absl::InitializeLog() is called are written to STDERR\n",
      "E0000 00:00:1748877898.439788  435638 cuda_dnn.cc:8579] Unable to register cuDNN factory: Attempting to register factory for plugin cuDNN when one has already been registered\n",
      "E0000 00:00:1748877898.443590  435638 cuda_blas.cc:1407] Unable to register cuBLAS factory: Attempting to register factory for plugin cuBLAS when one has already been registered\n",
      "W0000 00:00:1748877898.451474  435638 computation_placer.cc:177] computation placer already registered. Please check linkage and avoid linking the same target more than once.\n",
      "W0000 00:00:1748877898.451487  435638 computation_placer.cc:177] computation placer already registered. Please check linkage and avoid linking the same target more than once.\n",
      "W0000 00:00:1748877898.451488  435638 computation_placer.cc:177] computation placer already registered. Please check linkage and avoid linking the same target more than once.\n",
      "W0000 00:00:1748877898.451489  435638 computation_placer.cc:177] computation placer already registered. Please check linkage and avoid linking the same target more than once.\n",
      "2025-06-02 17:24:58.454036: I tensorflow/core/platform/cpu_feature_guard.cc:210] This TensorFlow binary is optimized to use available CPU instructions in performance-critical operations.\n",
      "To enable the following instructions: AVX2 AVX_VNNI FMA, in other operations, rebuild TensorFlow with the appropriate compiler flags.\n"
     ]
    }
   ],
   "source": [
    "import numpy as np\n",
    "import pandas as pd\n",
    "import matplotlib.pyplot as plt\n",
    "\n",
    "from sklearn.preprocessing import LabelEncoder, StandardScaler\n",
    "from sklearn.model_selection import train_test_split\n",
    "from sklearn.metrics import classification_report, accuracy_score, confusion_matrix, ConfusionMatrixDisplay\n",
    "\n",
    "from tensorflow.keras.models import Sequential\n",
    "from tensorflow.keras.layers import LSTM, Dense\n",
    "from tensorflow.keras.utils import to_categorical\n",
    "from tensorflow.keras.optimizers import AdamW\n",
    "\n",
    "df = pd.read_csv(\"../../data/csv/cleaned_fix.csv\")\n",
    "\n",
    "df_filtered = df[df['experience'].isin(['FirstYear', 'CSI'])]\n",
    "\n",
    "selected_columns = [\"Image\", \"Scene\", \"ROI\", \"FixDur\", \"FixNr\", \"Start\", \"End\", \"X\", \"Y\", \"Participant\", \"experience\"]\n",
    "df_filtered =  df_filtered[selected_columns]"
   ]
  },
  {
   "cell_type": "code",
   "execution_count": 2,
   "id": "e11b0310-6f7d-4834-8a70-7d3ad2b41ee2",
   "metadata": {},
   "outputs": [
    {
     "data": {
      "text/plain": [
       "30135"
      ]
     },
     "execution_count": 2,
     "metadata": {},
     "output_type": "execute_result"
    }
   ],
   "source": [
    "len(df)"
   ]
  },
  {
   "cell_type": "code",
   "execution_count": 3,
   "id": "4634a531-d087-4552-8f84-3b15ffb12c8a",
   "metadata": {},
   "outputs": [],
   "source": [
    "df_filtered.sort_values(by=['Participant', 'FixNr'], inplace=True)"
   ]
  },
  {
   "cell_type": "code",
   "execution_count": 4,
   "id": "b0edc1e3-0730-4b5e-bf70-15deaa008152",
   "metadata": {},
   "outputs": [],
   "source": [
    "# Sum FixNr per participant within each experience group\n",
    "participant_fixnr = df_filtered.groupby(['experience', 'Participant'])['FixNr'].sum().reset_index()\n",
    "\n",
    "# For each experience group, get the participant with the lowest FixNr\n",
    "lowest_fixnr_participants = participant_fixnr.loc[participant_fixnr.groupby('experience')['FixNr'].idxmin()]\n",
    "\n",
    "# Extract the participant IDs for the test set\n",
    "test_participants = lowest_fixnr_participants['Participant'].values\n",
    "\n",
    "test_df = df_filtered[df_filtered['Participant'].isin(test_participants)]\n",
    "train_df = df_filtered[~df_filtered['Participant'].isin(test_participants)]"
   ]
  },
  {
   "cell_type": "code",
   "execution_count": 5,
   "id": "89b67c24-aa12-44fb-864b-c2d9cd801ea6",
   "metadata": {},
   "outputs": [
    {
     "data": {
      "text/plain": [
       "array([1012.,   16.])"
      ]
     },
     "execution_count": 5,
     "metadata": {},
     "output_type": "execute_result"
    }
   ],
   "source": [
    "test_participants"
   ]
  },
  {
   "cell_type": "code",
   "execution_count": 6,
   "id": "b8d679b4-aed4-4775-b2e6-ed0a989484a9",
   "metadata": {},
   "outputs": [
    {
     "data": {
      "text/plain": [
       "array([  16., 1012.])"
      ]
     },
     "execution_count": 6,
     "metadata": {},
     "output_type": "execute_result"
    }
   ],
   "source": [
    "test_df['Participant'].unique()\n"
   ]
  },
  {
   "cell_type": "code",
   "execution_count": 7,
   "id": "951109a4-c354-45a2-aa57-ac261c266ea0",
   "metadata": {},
   "outputs": [
    {
     "data": {
      "text/plain": [
       "array([   4.,   12.,   20.,   23.,   24.,   28.,   29.,   30., 1010.,\n",
       "       1011., 1013., 1014., 1017., 1018., 1019., 1020.])"
      ]
     },
     "execution_count": 7,
     "metadata": {},
     "output_type": "execute_result"
    }
   ],
   "source": [
    "train_df['Participant'].unique()"
   ]
  },
  {
   "cell_type": "code",
   "execution_count": 8,
   "id": "2a9249f6-d1ab-46a1-8098-87c47b7479d4",
   "metadata": {},
   "outputs": [],
   "source": [
    "features = [\"Image\", \"Scene\", \"ROI\", \"FixDur\", \"FixNr\", \"Start\", \"End\", \"X\", \"Y\"]\n",
    "label_col = 'experience'"
   ]
  },
  {
   "cell_type": "code",
   "execution_count": 9,
   "id": "257519ca-15e4-45d5-9091-c5a52517b01d",
   "metadata": {},
   "outputs": [],
   "source": [
    "X_train_raw = train_df[features]\n",
    "y_train_raw = train_df[label_col]\n",
    "X_test_raw = test_df[features]\n",
    "y_test_raw = test_df[label_col]"
   ]
  },
  {
   "cell_type": "code",
   "execution_count": 10,
   "id": "e8503c67-1d8a-443c-a08c-d3122eb8e0db",
   "metadata": {},
   "outputs": [],
   "source": [
    "label_encoder = LabelEncoder()\n",
    "y_train_encoded = label_encoder.fit_transform(y_train_raw)\n",
    "y_test_encoded = label_encoder.transform(y_test_raw)\n",
    "y_train_onehot = to_categorical(y_train_encoded)\n",
    "y_test_onehot = to_categorical(y_test_encoded)"
   ]
  },
  {
   "cell_type": "code",
   "execution_count": 11,
   "id": "e67123e4-4f73-430e-a52a-caed07b51af7",
   "metadata": {},
   "outputs": [],
   "source": [
    "scaler = StandardScaler()\n",
    "X_train_scaled = scaler.fit_transform(X_train_raw)\n",
    "X_test_scaled = scaler.transform(X_test_raw)"
   ]
  },
  {
   "cell_type": "code",
   "execution_count": 12,
   "id": "33ca87e7-6513-4488-bf54-33636500641f",
   "metadata": {},
   "outputs": [],
   "source": [
    "# --- Sliding window function ---\n",
    "def create_sequences(X, y, window_size):\n",
    "    X_seq, y_seq = [], []\n",
    "    for i in range(len(X) - window_size+1):\n",
    "        X_seq.append(X[i:i+window_size])\n",
    "        y_seq.append(y[i+window_size - 1])  # predict last item in window\n",
    "    return np.array(X_seq), np.array(y_seq)"
   ]
  },
  {
   "cell_type": "code",
   "execution_count": 13,
   "id": "12e8012a-ae2c-482c-8f33-610a6031bf2a",
   "metadata": {},
   "outputs": [],
   "source": [
    "window_size = 5  # adjust as needed\n",
    "X_train_seq, y_train_seq = create_sequences(X_train_scaled, y_train_onehot, window_size)\n",
    "X_test_seq, y_test_seq = create_sequences(X_test_scaled, y_test_onehot, window_size)"
   ]
  },
  {
   "cell_type": "code",
   "execution_count": 14,
   "id": "332d26a2-1837-4f34-afb4-e5b5157f5aba",
   "metadata": {
    "scrolled": true
   },
   "outputs": [
    {
     "name": "stdout",
     "output_type": "stream",
     "text": [
      "Epoch 1/200\n"
     ]
    },
    {
     "name": "stderr",
     "output_type": "stream",
     "text": [
      "W0000 00:00:1748877901.174674  435638 gpu_device.cc:2341] Cannot dlopen some GPU libraries. Please make sure the missing libraries mentioned above are installed properly if you would like to use GPU. Follow the guide at https://www.tensorflow.org/install/gpu for how to download and setup the required libraries for your platform.\n",
      "Skipping registering GPU devices...\n",
      "/home/sam/anaconda3/envs/tf310/lib/python3.10/site-packages/keras/src/layers/rnn/rnn.py:200: UserWarning: Do not pass an `input_shape`/`input_dim` argument to a layer. When using Sequential models, prefer using an `Input(shape)` object as the first layer in the model instead.\n",
      "  super().__init__(**kwargs)\n"
     ]
    },
    {
     "name": "stdout",
     "output_type": "stream",
     "text": [
      "\u001b[1m390/390\u001b[0m \u001b[32m━━━━━━━━━━━━━━━━━━━━\u001b[0m\u001b[37m\u001b[0m \u001b[1m2s\u001b[0m 2ms/step - accuracy: 0.5180 - loss: 0.7855 - val_accuracy: 0.3805 - val_loss: 0.7375\n",
      "Epoch 2/200\n",
      "\u001b[1m390/390\u001b[0m \u001b[32m━━━━━━━━━━━━━━━━━━━━\u001b[0m\u001b[37m\u001b[0m \u001b[1m1s\u001b[0m 2ms/step - accuracy: 0.5610 - loss: 0.6985 - val_accuracy: 0.3646 - val_loss: 0.7353\n",
      "Epoch 3/200\n",
      "\u001b[1m390/390\u001b[0m \u001b[32m━━━━━━━━━━━━━━━━━━━━\u001b[0m\u001b[37m\u001b[0m \u001b[1m1s\u001b[0m 2ms/step - accuracy: 0.5660 - loss: 0.6821 - val_accuracy: 0.4708 - val_loss: 0.7171\n",
      "Epoch 4/200\n",
      "\u001b[1m390/390\u001b[0m \u001b[32m━━━━━━━━━━━━━━━━━━━━\u001b[0m\u001b[37m\u001b[0m \u001b[1m1s\u001b[0m 2ms/step - accuracy: 0.5816 - loss: 0.6723 - val_accuracy: 0.5191 - val_loss: 0.6983\n",
      "Epoch 5/200\n",
      "\u001b[1m390/390\u001b[0m \u001b[32m━━━━━━━━━━━━━━━━━━━━\u001b[0m\u001b[37m\u001b[0m \u001b[1m1s\u001b[0m 2ms/step - accuracy: 0.5834 - loss: 0.6729 - val_accuracy: 0.5646 - val_loss: 0.6925\n",
      "Epoch 6/200\n",
      "\u001b[1m390/390\u001b[0m \u001b[32m━━━━━━━━━━━━━━━━━━━━\u001b[0m\u001b[37m\u001b[0m \u001b[1m1s\u001b[0m 2ms/step - accuracy: 0.5803 - loss: 0.6680 - val_accuracy: 0.5921 - val_loss: 0.6786\n",
      "Epoch 7/200\n",
      "\u001b[1m390/390\u001b[0m \u001b[32m━━━━━━━━━━━━━━━━━━━━\u001b[0m\u001b[37m\u001b[0m \u001b[1m1s\u001b[0m 2ms/step - accuracy: 0.6097 - loss: 0.6584 - val_accuracy: 0.5791 - val_loss: 0.6970\n",
      "Epoch 8/200\n",
      "\u001b[1m390/390\u001b[0m \u001b[32m━━━━━━━━━━━━━━━━━━━━\u001b[0m\u001b[37m\u001b[0m \u001b[1m1s\u001b[0m 2ms/step - accuracy: 0.6021 - loss: 0.6509 - val_accuracy: 0.6123 - val_loss: 0.6636\n",
      "Epoch 9/200\n",
      "\u001b[1m390/390\u001b[0m \u001b[32m━━━━━━━━━━━━━━━━━━━━\u001b[0m\u001b[37m\u001b[0m \u001b[1m1s\u001b[0m 2ms/step - accuracy: 0.6146 - loss: 0.6466 - val_accuracy: 0.6404 - val_loss: 0.6427\n",
      "Epoch 10/200\n",
      "\u001b[1m390/390\u001b[0m \u001b[32m━━━━━━━━━━━━━━━━━━━━\u001b[0m\u001b[37m\u001b[0m \u001b[1m1s\u001b[0m 2ms/step - accuracy: 0.6292 - loss: 0.6336 - val_accuracy: 0.7379 - val_loss: 0.5735\n",
      "Epoch 11/200\n",
      "\u001b[1m390/390\u001b[0m \u001b[32m━━━━━━━━━━━━━━━━━━━━\u001b[0m\u001b[37m\u001b[0m \u001b[1m1s\u001b[0m 2ms/step - accuracy: 0.6414 - loss: 0.6280 - val_accuracy: 0.8542 - val_loss: 0.4793\n",
      "Epoch 12/200\n",
      "\u001b[1m390/390\u001b[0m \u001b[32m━━━━━━━━━━━━━━━━━━━━\u001b[0m\u001b[37m\u001b[0m \u001b[1m1s\u001b[0m 2ms/step - accuracy: 0.6532 - loss: 0.6109 - val_accuracy: 0.8549 - val_loss: 0.4734\n",
      "Epoch 13/200\n",
      "\u001b[1m390/390\u001b[0m \u001b[32m━━━━━━━━━━━━━━━━━━━━\u001b[0m\u001b[37m\u001b[0m \u001b[1m1s\u001b[0m 2ms/step - accuracy: 0.6715 - loss: 0.6017 - val_accuracy: 0.8751 - val_loss: 0.4790\n",
      "Epoch 14/200\n",
      "\u001b[1m390/390\u001b[0m \u001b[32m━━━━━━━━━━━━━━━━━━━━\u001b[0m\u001b[37m\u001b[0m \u001b[1m1s\u001b[0m 2ms/step - accuracy: 0.6625 - loss: 0.6025 - val_accuracy: 0.8773 - val_loss: 0.4639\n",
      "Epoch 15/200\n",
      "\u001b[1m390/390\u001b[0m \u001b[32m━━━━━━━━━━━━━━━━━━━━\u001b[0m\u001b[37m\u001b[0m \u001b[1m1s\u001b[0m 2ms/step - accuracy: 0.6779 - loss: 0.5925 - val_accuracy: 0.9336 - val_loss: 0.4474\n",
      "Epoch 16/200\n",
      "\u001b[1m390/390\u001b[0m \u001b[32m━━━━━━━━━━━━━━━━━━━━\u001b[0m\u001b[37m\u001b[0m \u001b[1m1s\u001b[0m 2ms/step - accuracy: 0.6690 - loss: 0.5913 - val_accuracy: 0.9451 - val_loss: 0.4536\n",
      "Epoch 17/200\n",
      "\u001b[1m390/390\u001b[0m \u001b[32m━━━━━━━━━━━━━━━━━━━━\u001b[0m\u001b[37m\u001b[0m \u001b[1m1s\u001b[0m 2ms/step - accuracy: 0.6712 - loss: 0.5910 - val_accuracy: 0.9076 - val_loss: 0.4648\n",
      "Epoch 18/200\n",
      "\u001b[1m390/390\u001b[0m \u001b[32m━━━━━━━━━━━━━━━━━━━━\u001b[0m\u001b[37m\u001b[0m \u001b[1m1s\u001b[0m 2ms/step - accuracy: 0.6749 - loss: 0.5938 - val_accuracy: 0.9408 - val_loss: 0.4079\n",
      "Epoch 19/200\n",
      "\u001b[1m390/390\u001b[0m \u001b[32m━━━━━━━━━━━━━━━━━━━━\u001b[0m\u001b[37m\u001b[0m \u001b[1m1s\u001b[0m 2ms/step - accuracy: 0.6713 - loss: 0.5920 - val_accuracy: 0.9625 - val_loss: 0.4139\n",
      "Epoch 20/200\n",
      "\u001b[1m390/390\u001b[0m \u001b[32m━━━━━━━━━━━━━━━━━━━━\u001b[0m\u001b[37m\u001b[0m \u001b[1m1s\u001b[0m 2ms/step - accuracy: 0.6719 - loss: 0.5918 - val_accuracy: 0.9632 - val_loss: 0.4001\n",
      "Epoch 21/200\n",
      "\u001b[1m390/390\u001b[0m \u001b[32m━━━━━━━━━━━━━━━━━━━━\u001b[0m\u001b[37m\u001b[0m \u001b[1m1s\u001b[0m 2ms/step - accuracy: 0.6723 - loss: 0.5851 - val_accuracy: 0.9523 - val_loss: 0.4411\n",
      "Epoch 22/200\n",
      "\u001b[1m390/390\u001b[0m \u001b[32m━━━━━━━━━━━━━━━━━━━━\u001b[0m\u001b[37m\u001b[0m \u001b[1m1s\u001b[0m 2ms/step - accuracy: 0.6812 - loss: 0.5836 - val_accuracy: 0.9430 - val_loss: 0.4432\n",
      "Epoch 23/200\n",
      "\u001b[1m390/390\u001b[0m \u001b[32m━━━━━━━━━━━━━━━━━━━━\u001b[0m\u001b[37m\u001b[0m \u001b[1m1s\u001b[0m 2ms/step - accuracy: 0.6737 - loss: 0.5789 - val_accuracy: 0.9596 - val_loss: 0.4271\n",
      "Epoch 24/200\n",
      "\u001b[1m390/390\u001b[0m \u001b[32m━━━━━━━━━━━━━━━━━━━━\u001b[0m\u001b[37m\u001b[0m \u001b[1m1s\u001b[0m 2ms/step - accuracy: 0.6795 - loss: 0.5843 - val_accuracy: 0.9321 - val_loss: 0.4614\n",
      "Epoch 25/200\n",
      "\u001b[1m390/390\u001b[0m \u001b[32m━━━━━━━━━━━━━━━━━━━━\u001b[0m\u001b[37m\u001b[0m \u001b[1m1s\u001b[0m 2ms/step - accuracy: 0.6780 - loss: 0.5817 - val_accuracy: 0.9639 - val_loss: 0.4025\n",
      "Epoch 26/200\n",
      "\u001b[1m390/390\u001b[0m \u001b[32m━━━━━━━━━━━━━━━━━━━━\u001b[0m\u001b[37m\u001b[0m \u001b[1m1s\u001b[0m 2ms/step - accuracy: 0.6759 - loss: 0.5841 - val_accuracy: 0.9444 - val_loss: 0.4369\n",
      "Epoch 27/200\n",
      "\u001b[1m390/390\u001b[0m \u001b[32m━━━━━━━━━━━━━━━━━━━━\u001b[0m\u001b[37m\u001b[0m \u001b[1m1s\u001b[0m 2ms/step - accuracy: 0.6763 - loss: 0.5793 - val_accuracy: 0.9394 - val_loss: 0.4304\n",
      "Epoch 28/200\n",
      "\u001b[1m390/390\u001b[0m \u001b[32m━━━━━━━━━━━━━━━━━━━━\u001b[0m\u001b[37m\u001b[0m \u001b[1m1s\u001b[0m 2ms/step - accuracy: 0.6753 - loss: 0.5805 - val_accuracy: 0.9329 - val_loss: 0.4302\n",
      "Epoch 29/200\n",
      "\u001b[1m390/390\u001b[0m \u001b[32m━━━━━━━━━━━━━━━━━━━━\u001b[0m\u001b[37m\u001b[0m \u001b[1m1s\u001b[0m 2ms/step - accuracy: 0.6794 - loss: 0.5802 - val_accuracy: 0.9480 - val_loss: 0.4228\n",
      "Epoch 30/200\n",
      "\u001b[1m390/390\u001b[0m \u001b[32m━━━━━━━━━━━━━━━━━━━━\u001b[0m\u001b[37m\u001b[0m \u001b[1m1s\u001b[0m 2ms/step - accuracy: 0.6810 - loss: 0.5818 - val_accuracy: 0.9415 - val_loss: 0.4178\n",
      "Epoch 31/200\n",
      "\u001b[1m390/390\u001b[0m \u001b[32m━━━━━━━━━━━━━━━━━━━━\u001b[0m\u001b[37m\u001b[0m \u001b[1m1s\u001b[0m 2ms/step - accuracy: 0.6710 - loss: 0.5820 - val_accuracy: 0.9697 - val_loss: 0.4127\n",
      "Epoch 32/200\n",
      "\u001b[1m390/390\u001b[0m \u001b[32m━━━━━━━━━━━━━━━━━━━━\u001b[0m\u001b[37m\u001b[0m \u001b[1m1s\u001b[0m 2ms/step - accuracy: 0.6798 - loss: 0.5730 - val_accuracy: 0.9495 - val_loss: 0.4590\n",
      "Epoch 33/200\n",
      "\u001b[1m390/390\u001b[0m \u001b[32m━━━━━━━━━━━━━━━━━━━━\u001b[0m\u001b[37m\u001b[0m \u001b[1m1s\u001b[0m 2ms/step - accuracy: 0.6830 - loss: 0.5719 - val_accuracy: 0.8758 - val_loss: 0.4631\n",
      "Epoch 34/200\n",
      "\u001b[1m390/390\u001b[0m \u001b[32m━━━━━━━━━━━━━━━━━━━━\u001b[0m\u001b[37m\u001b[0m \u001b[1m1s\u001b[0m 2ms/step - accuracy: 0.6815 - loss: 0.5698 - val_accuracy: 0.9300 - val_loss: 0.4416\n",
      "Epoch 35/200\n",
      "\u001b[1m390/390\u001b[0m \u001b[32m━━━━━━━━━━━━━━━━━━━━\u001b[0m\u001b[37m\u001b[0m \u001b[1m1s\u001b[0m 2ms/step - accuracy: 0.6846 - loss: 0.5690 - val_accuracy: 0.9401 - val_loss: 0.4135\n",
      "Epoch 36/200\n",
      "\u001b[1m390/390\u001b[0m \u001b[32m━━━━━━━━━━━━━━━━━━━━\u001b[0m\u001b[37m\u001b[0m \u001b[1m1s\u001b[0m 2ms/step - accuracy: 0.6782 - loss: 0.5738 - val_accuracy: 0.9523 - val_loss: 0.4267\n",
      "Epoch 37/200\n",
      "\u001b[1m390/390\u001b[0m \u001b[32m━━━━━━━━━━━━━━━━━━━━\u001b[0m\u001b[37m\u001b[0m \u001b[1m1s\u001b[0m 2ms/step - accuracy: 0.6800 - loss: 0.5686 - val_accuracy: 0.8621 - val_loss: 0.4711\n",
      "Epoch 38/200\n",
      "\u001b[1m390/390\u001b[0m \u001b[32m━━━━━━━━━━━━━━━━━━━━\u001b[0m\u001b[37m\u001b[0m \u001b[1m1s\u001b[0m 2ms/step - accuracy: 0.6839 - loss: 0.5689 - val_accuracy: 0.9076 - val_loss: 0.4506\n",
      "Epoch 39/200\n",
      "\u001b[1m390/390\u001b[0m \u001b[32m━━━━━━━━━━━━━━━━━━━━\u001b[0m\u001b[37m\u001b[0m \u001b[1m1s\u001b[0m 2ms/step - accuracy: 0.6905 - loss: 0.5621 - val_accuracy: 0.8137 - val_loss: 0.4909\n",
      "Epoch 40/200\n",
      "\u001b[1m390/390\u001b[0m \u001b[32m━━━━━━━━━━━━━━━━━━━━\u001b[0m\u001b[37m\u001b[0m \u001b[1m1s\u001b[0m 2ms/step - accuracy: 0.6882 - loss: 0.5653 - val_accuracy: 0.8303 - val_loss: 0.4931\n",
      "Epoch 41/200\n",
      "\u001b[1m390/390\u001b[0m \u001b[32m━━━━━━━━━━━━━━━━━━━━\u001b[0m\u001b[37m\u001b[0m \u001b[1m1s\u001b[0m 2ms/step - accuracy: 0.6816 - loss: 0.5681 - val_accuracy: 0.8534 - val_loss: 0.4610\n",
      "Epoch 42/200\n",
      "\u001b[1m390/390\u001b[0m \u001b[32m━━━━━━━━━━━━━━━━━━━━\u001b[0m\u001b[37m\u001b[0m \u001b[1m1s\u001b[0m 2ms/step - accuracy: 0.6830 - loss: 0.5696 - val_accuracy: 0.7899 - val_loss: 0.4886\n",
      "Epoch 43/200\n",
      "\u001b[1m390/390\u001b[0m \u001b[32m━━━━━━━━━━━━━━━━━━━━\u001b[0m\u001b[37m\u001b[0m \u001b[1m1s\u001b[0m 2ms/step - accuracy: 0.6855 - loss: 0.5618 - val_accuracy: 0.8347 - val_loss: 0.4545\n",
      "Epoch 44/200\n",
      "\u001b[1m390/390\u001b[0m \u001b[32m━━━━━━━━━━━━━━━━━━━━\u001b[0m\u001b[37m\u001b[0m \u001b[1m1s\u001b[0m 2ms/step - accuracy: 0.6851 - loss: 0.5639 - val_accuracy: 0.7697 - val_loss: 0.5142\n",
      "Epoch 45/200\n",
      "\u001b[1m390/390\u001b[0m \u001b[32m━━━━━━━━━━━━━━━━━━━━\u001b[0m\u001b[37m\u001b[0m \u001b[1m1s\u001b[0m 2ms/step - accuracy: 0.6871 - loss: 0.5634 - val_accuracy: 0.7776 - val_loss: 0.4653\n",
      "Epoch 46/200\n",
      "\u001b[1m390/390\u001b[0m \u001b[32m━━━━━━━━━━━━━━━━━━━━\u001b[0m\u001b[37m\u001b[0m \u001b[1m1s\u001b[0m 2ms/step - accuracy: 0.6919 - loss: 0.5572 - val_accuracy: 0.7336 - val_loss: 0.5035\n",
      "Epoch 47/200\n",
      "\u001b[1m390/390\u001b[0m \u001b[32m━━━━━━━━━━━━━━━━━━━━\u001b[0m\u001b[37m\u001b[0m \u001b[1m1s\u001b[0m 2ms/step - accuracy: 0.6863 - loss: 0.5657 - val_accuracy: 0.7603 - val_loss: 0.4961\n",
      "Epoch 48/200\n",
      "\u001b[1m390/390\u001b[0m \u001b[32m━━━━━━━━━━━━━━━━━━━━\u001b[0m\u001b[37m\u001b[0m \u001b[1m1s\u001b[0m 2ms/step - accuracy: 0.6900 - loss: 0.5583 - val_accuracy: 0.7401 - val_loss: 0.4995\n",
      "Epoch 49/200\n",
      "\u001b[1m390/390\u001b[0m \u001b[32m━━━━━━━━━━━━━━━━━━━━\u001b[0m\u001b[37m\u001b[0m \u001b[1m1s\u001b[0m 2ms/step - accuracy: 0.6900 - loss: 0.5550 - val_accuracy: 0.7134 - val_loss: 0.5162\n",
      "Epoch 50/200\n",
      "\u001b[1m390/390\u001b[0m \u001b[32m━━━━━━━━━━━━━━━━━━━━\u001b[0m\u001b[37m\u001b[0m \u001b[1m1s\u001b[0m 2ms/step - accuracy: 0.6914 - loss: 0.5589 - val_accuracy: 0.7329 - val_loss: 0.5219\n",
      "Epoch 51/200\n",
      "\u001b[1m390/390\u001b[0m \u001b[32m━━━━━━━━━━━━━━━━━━━━\u001b[0m\u001b[37m\u001b[0m \u001b[1m1s\u001b[0m 2ms/step - accuracy: 0.6993 - loss: 0.5473 - val_accuracy: 0.7415 - val_loss: 0.5186\n",
      "Epoch 52/200\n",
      "\u001b[1m390/390\u001b[0m \u001b[32m━━━━━━━━━━━━━━━━━━━━\u001b[0m\u001b[37m\u001b[0m \u001b[1m1s\u001b[0m 2ms/step - accuracy: 0.6831 - loss: 0.5600 - val_accuracy: 0.7516 - val_loss: 0.4906\n",
      "Epoch 53/200\n",
      "\u001b[1m390/390\u001b[0m \u001b[32m━━━━━━━━━━━━━━━━━━━━\u001b[0m\u001b[37m\u001b[0m \u001b[1m1s\u001b[0m 2ms/step - accuracy: 0.6948 - loss: 0.5552 - val_accuracy: 0.7357 - val_loss: 0.4939\n",
      "Epoch 54/200\n",
      "\u001b[1m390/390\u001b[0m \u001b[32m━━━━━━━━━━━━━━━━━━━━\u001b[0m\u001b[37m\u001b[0m \u001b[1m1s\u001b[0m 2ms/step - accuracy: 0.6902 - loss: 0.5539 - val_accuracy: 0.7004 - val_loss: 0.5307\n",
      "Epoch 55/200\n",
      "\u001b[1m390/390\u001b[0m \u001b[32m━━━━━━━━━━━━━━━━━━━━\u001b[0m\u001b[37m\u001b[0m \u001b[1m1s\u001b[0m 2ms/step - accuracy: 0.6948 - loss: 0.5540 - val_accuracy: 0.6903 - val_loss: 0.5279\n",
      "Epoch 56/200\n",
      "\u001b[1m390/390\u001b[0m \u001b[32m━━━━━━━━━━━━━━━━━━━━\u001b[0m\u001b[37m\u001b[0m \u001b[1m1s\u001b[0m 2ms/step - accuracy: 0.6846 - loss: 0.5598 - val_accuracy: 0.7018 - val_loss: 0.5192\n",
      "Epoch 57/200\n",
      "\u001b[1m390/390\u001b[0m \u001b[32m━━━━━━━━━━━━━━━━━━━━\u001b[0m\u001b[37m\u001b[0m \u001b[1m1s\u001b[0m 2ms/step - accuracy: 0.6906 - loss: 0.5458 - val_accuracy: 0.7386 - val_loss: 0.4889\n",
      "Epoch 58/200\n",
      "\u001b[1m390/390\u001b[0m \u001b[32m━━━━━━━━━━━━━━━━━━━━\u001b[0m\u001b[37m\u001b[0m \u001b[1m1s\u001b[0m 2ms/step - accuracy: 0.6936 - loss: 0.5403 - val_accuracy: 0.6975 - val_loss: 0.5393\n",
      "Epoch 59/200\n",
      "\u001b[1m390/390\u001b[0m \u001b[32m━━━━━━━━━━━━━━━━━━━━\u001b[0m\u001b[37m\u001b[0m \u001b[1m1s\u001b[0m 2ms/step - accuracy: 0.7038 - loss: 0.5384 - val_accuracy: 0.7206 - val_loss: 0.5078\n",
      "Epoch 60/200\n",
      "\u001b[1m390/390\u001b[0m \u001b[32m━━━━━━━━━━━━━━━━━━━━\u001b[0m\u001b[37m\u001b[0m \u001b[1m1s\u001b[0m 2ms/step - accuracy: 0.6996 - loss: 0.5498 - val_accuracy: 0.6982 - val_loss: 0.5306\n",
      "Epoch 61/200\n",
      "\u001b[1m390/390\u001b[0m \u001b[32m━━━━━━━━━━━━━━━━━━━━\u001b[0m\u001b[37m\u001b[0m \u001b[1m1s\u001b[0m 2ms/step - accuracy: 0.6986 - loss: 0.5480 - val_accuracy: 0.6866 - val_loss: 0.5319\n",
      "Epoch 62/200\n",
      "\u001b[1m390/390\u001b[0m \u001b[32m━━━━━━━━━━━━━━━━━━━━\u001b[0m\u001b[37m\u001b[0m \u001b[1m1s\u001b[0m 2ms/step - accuracy: 0.6942 - loss: 0.5400 - val_accuracy: 0.6383 - val_loss: 0.5618\n",
      "Epoch 63/200\n",
      "\u001b[1m390/390\u001b[0m \u001b[32m━━━━━━━━━━━━━━━━━━━━\u001b[0m\u001b[37m\u001b[0m \u001b[1m1s\u001b[0m 2ms/step - accuracy: 0.7002 - loss: 0.5402 - val_accuracy: 0.6751 - val_loss: 0.5431\n",
      "Epoch 64/200\n",
      "\u001b[1m390/390\u001b[0m \u001b[32m━━━━━━━━━━━━━━━━━━━━\u001b[0m\u001b[37m\u001b[0m \u001b[1m1s\u001b[0m 2ms/step - accuracy: 0.6965 - loss: 0.5467 - val_accuracy: 0.7329 - val_loss: 0.5009\n",
      "Epoch 65/200\n",
      "\u001b[1m390/390\u001b[0m \u001b[32m━━━━━━━━━━━━━━━━━━━━\u001b[0m\u001b[37m\u001b[0m \u001b[1m1s\u001b[0m 2ms/step - accuracy: 0.6998 - loss: 0.5360 - val_accuracy: 0.6116 - val_loss: 0.5833\n",
      "Epoch 66/200\n",
      "\u001b[1m390/390\u001b[0m \u001b[32m━━━━━━━━━━━━━━━━━━━━\u001b[0m\u001b[37m\u001b[0m \u001b[1m1s\u001b[0m 2ms/step - accuracy: 0.6970 - loss: 0.5431 - val_accuracy: 0.6708 - val_loss: 0.5446\n",
      "Epoch 67/200\n",
      "\u001b[1m390/390\u001b[0m \u001b[32m━━━━━━━━━━━━━━━━━━━━\u001b[0m\u001b[37m\u001b[0m \u001b[1m1s\u001b[0m 2ms/step - accuracy: 0.6990 - loss: 0.5446 - val_accuracy: 0.7090 - val_loss: 0.5173\n",
      "Epoch 68/200\n",
      "\u001b[1m390/390\u001b[0m \u001b[32m━━━━━━━━━━━━━━━━━━━━\u001b[0m\u001b[37m\u001b[0m \u001b[1m1s\u001b[0m 2ms/step - accuracy: 0.6841 - loss: 0.5460 - val_accuracy: 0.5863 - val_loss: 0.5979\n",
      "Epoch 69/200\n",
      "\u001b[1m390/390\u001b[0m \u001b[32m━━━━━━━━━━━━━━━━━━━━\u001b[0m\u001b[37m\u001b[0m \u001b[1m1s\u001b[0m 2ms/step - accuracy: 0.6958 - loss: 0.5469 - val_accuracy: 0.6744 - val_loss: 0.5251\n",
      "Epoch 70/200\n",
      "\u001b[1m390/390\u001b[0m \u001b[32m━━━━━━━━━━━━━━━━━━━━\u001b[0m\u001b[37m\u001b[0m \u001b[1m1s\u001b[0m 2ms/step - accuracy: 0.6975 - loss: 0.5352 - val_accuracy: 0.6477 - val_loss: 0.5512\n",
      "Epoch 71/200\n",
      "\u001b[1m390/390\u001b[0m \u001b[32m━━━━━━━━━━━━━━━━━━━━\u001b[0m\u001b[37m\u001b[0m \u001b[1m1s\u001b[0m 2ms/step - accuracy: 0.6935 - loss: 0.5344 - val_accuracy: 0.6332 - val_loss: 0.5693\n",
      "Epoch 72/200\n",
      "\u001b[1m390/390\u001b[0m \u001b[32m━━━━━━━━━━━━━━━━━━━━\u001b[0m\u001b[37m\u001b[0m \u001b[1m1s\u001b[0m 2ms/step - accuracy: 0.6914 - loss: 0.5471 - val_accuracy: 0.5964 - val_loss: 0.5877\n",
      "Epoch 73/200\n",
      "\u001b[1m390/390\u001b[0m \u001b[32m━━━━━━━━━━━━━━━━━━━━\u001b[0m\u001b[37m\u001b[0m \u001b[1m1s\u001b[0m 2ms/step - accuracy: 0.6992 - loss: 0.5408 - val_accuracy: 0.6361 - val_loss: 0.5582\n",
      "Epoch 74/200\n",
      "\u001b[1m390/390\u001b[0m \u001b[32m━━━━━━━━━━━━━━━━━━━━\u001b[0m\u001b[37m\u001b[0m \u001b[1m1s\u001b[0m 2ms/step - accuracy: 0.7086 - loss: 0.5274 - val_accuracy: 0.6758 - val_loss: 0.5429\n",
      "Epoch 75/200\n",
      "\u001b[1m390/390\u001b[0m \u001b[32m━━━━━━━━━━━━━━━━━━━━\u001b[0m\u001b[37m\u001b[0m \u001b[1m1s\u001b[0m 2ms/step - accuracy: 0.6931 - loss: 0.5454 - val_accuracy: 0.5574 - val_loss: 0.6237\n",
      "Epoch 76/200\n",
      "\u001b[1m390/390\u001b[0m \u001b[32m━━━━━━━━━━━━━━━━━━━━\u001b[0m\u001b[37m\u001b[0m \u001b[1m1s\u001b[0m 2ms/step - accuracy: 0.7017 - loss: 0.5319 - val_accuracy: 0.6332 - val_loss: 0.5625\n",
      "Epoch 77/200\n",
      "\u001b[1m390/390\u001b[0m \u001b[32m━━━━━━━━━━━━━━━━━━━━\u001b[0m\u001b[37m\u001b[0m \u001b[1m1s\u001b[0m 2ms/step - accuracy: 0.7092 - loss: 0.5291 - val_accuracy: 0.5588 - val_loss: 0.6048\n",
      "Epoch 78/200\n",
      "\u001b[1m390/390\u001b[0m \u001b[32m━━━━━━━━━━━━━━━━━━━━\u001b[0m\u001b[37m\u001b[0m \u001b[1m1s\u001b[0m 2ms/step - accuracy: 0.6928 - loss: 0.5396 - val_accuracy: 0.5264 - val_loss: 0.6461\n",
      "Epoch 79/200\n",
      "\u001b[1m390/390\u001b[0m \u001b[32m━━━━━━━━━━━━━━━━━━━━\u001b[0m\u001b[37m\u001b[0m \u001b[1m1s\u001b[0m 2ms/step - accuracy: 0.7035 - loss: 0.5292 - val_accuracy: 0.5119 - val_loss: 0.6416\n",
      "Epoch 80/200\n",
      "\u001b[1m390/390\u001b[0m \u001b[32m━━━━━━━━━━━━━━━━━━━━\u001b[0m\u001b[37m\u001b[0m \u001b[1m1s\u001b[0m 2ms/step - accuracy: 0.7088 - loss: 0.5283 - val_accuracy: 0.5495 - val_loss: 0.6166\n",
      "Epoch 81/200\n",
      "\u001b[1m390/390\u001b[0m \u001b[32m━━━━━━━━━━━━━━━━━━━━\u001b[0m\u001b[37m\u001b[0m \u001b[1m1s\u001b[0m 2ms/step - accuracy: 0.7144 - loss: 0.5214 - val_accuracy: 0.5805 - val_loss: 0.6071\n",
      "Epoch 82/200\n",
      "\u001b[1m390/390\u001b[0m \u001b[32m━━━━━━━━━━━━━━━━━━━━\u001b[0m\u001b[37m\u001b[0m \u001b[1m1s\u001b[0m 2ms/step - accuracy: 0.7003 - loss: 0.5360 - val_accuracy: 0.6195 - val_loss: 0.5595\n",
      "Epoch 83/200\n",
      "\u001b[1m390/390\u001b[0m \u001b[32m━━━━━━━━━━━━━━━━━━━━\u001b[0m\u001b[37m\u001b[0m \u001b[1m1s\u001b[0m 2ms/step - accuracy: 0.7037 - loss: 0.5307 - val_accuracy: 0.5509 - val_loss: 0.6180\n",
      "Epoch 84/200\n",
      "\u001b[1m390/390\u001b[0m \u001b[32m━━━━━━━━━━━━━━━━━━━━\u001b[0m\u001b[37m\u001b[0m \u001b[1m1s\u001b[0m 2ms/step - accuracy: 0.7070 - loss: 0.5220 - val_accuracy: 0.4931 - val_loss: 0.6562\n",
      "Epoch 85/200\n",
      "\u001b[1m390/390\u001b[0m \u001b[32m━━━━━━━━━━━━━━━━━━━━\u001b[0m\u001b[37m\u001b[0m \u001b[1m1s\u001b[0m 2ms/step - accuracy: 0.7087 - loss: 0.5255 - val_accuracy: 0.5834 - val_loss: 0.5945\n",
      "Epoch 86/200\n",
      "\u001b[1m390/390\u001b[0m \u001b[32m━━━━━━━━━━━━━━━━━━━━\u001b[0m\u001b[37m\u001b[0m \u001b[1m1s\u001b[0m 2ms/step - accuracy: 0.7076 - loss: 0.5307 - val_accuracy: 0.5986 - val_loss: 0.5899\n",
      "Epoch 87/200\n",
      "\u001b[1m390/390\u001b[0m \u001b[32m━━━━━━━━━━━━━━━━━━━━\u001b[0m\u001b[37m\u001b[0m \u001b[1m1s\u001b[0m 2ms/step - accuracy: 0.7059 - loss: 0.5304 - val_accuracy: 0.5300 - val_loss: 0.6361\n",
      "Epoch 88/200\n",
      "\u001b[1m390/390\u001b[0m \u001b[32m━━━━━━━━━━━━━━━━━━━━\u001b[0m\u001b[37m\u001b[0m \u001b[1m1s\u001b[0m 2ms/step - accuracy: 0.7108 - loss: 0.5254 - val_accuracy: 0.5408 - val_loss: 0.6280\n",
      "Epoch 89/200\n",
      "\u001b[1m390/390\u001b[0m \u001b[32m━━━━━━━━━━━━━━━━━━━━\u001b[0m\u001b[37m\u001b[0m \u001b[1m1s\u001b[0m 2ms/step - accuracy: 0.7000 - loss: 0.5355 - val_accuracy: 0.5560 - val_loss: 0.6067\n",
      "Epoch 90/200\n",
      "\u001b[1m390/390\u001b[0m \u001b[32m━━━━━━━━━━━━━━━━━━━━\u001b[0m\u001b[37m\u001b[0m \u001b[1m1s\u001b[0m 2ms/step - accuracy: 0.7197 - loss: 0.5158 - val_accuracy: 0.5401 - val_loss: 0.6193\n",
      "Epoch 91/200\n",
      "\u001b[1m390/390\u001b[0m \u001b[32m━━━━━━━━━━━━━━━━━━━━\u001b[0m\u001b[37m\u001b[0m \u001b[1m1s\u001b[0m 2ms/step - accuracy: 0.7100 - loss: 0.5246 - val_accuracy: 0.5733 - val_loss: 0.6117\n",
      "Epoch 92/200\n",
      "\u001b[1m390/390\u001b[0m \u001b[32m━━━━━━━━━━━━━━━━━━━━\u001b[0m\u001b[37m\u001b[0m \u001b[1m1s\u001b[0m 2ms/step - accuracy: 0.7080 - loss: 0.5285 - val_accuracy: 0.5054 - val_loss: 0.6612\n",
      "Epoch 93/200\n",
      "\u001b[1m390/390\u001b[0m \u001b[32m━━━━━━━━━━━━━━━━━━━━\u001b[0m\u001b[37m\u001b[0m \u001b[1m1s\u001b[0m 2ms/step - accuracy: 0.7275 - loss: 0.5136 - val_accuracy: 0.5235 - val_loss: 0.6469\n",
      "Epoch 94/200\n",
      "\u001b[1m390/390\u001b[0m \u001b[32m━━━━━━━━━━━━━━━━━━━━\u001b[0m\u001b[37m\u001b[0m \u001b[1m1s\u001b[0m 2ms/step - accuracy: 0.7012 - loss: 0.5261 - val_accuracy: 0.5394 - val_loss: 0.6516\n",
      "Epoch 95/200\n",
      "\u001b[1m390/390\u001b[0m \u001b[32m━━━━━━━━━━━━━━━━━━━━\u001b[0m\u001b[37m\u001b[0m \u001b[1m1s\u001b[0m 2ms/step - accuracy: 0.7070 - loss: 0.5191 - val_accuracy: 0.5264 - val_loss: 0.6314\n",
      "Epoch 96/200\n",
      "\u001b[1m390/390\u001b[0m \u001b[32m━━━━━━━━━━━━━━━━━━━━\u001b[0m\u001b[37m\u001b[0m \u001b[1m1s\u001b[0m 2ms/step - accuracy: 0.7243 - loss: 0.5133 - val_accuracy: 0.5018 - val_loss: 0.6814\n",
      "Epoch 97/200\n",
      "\u001b[1m390/390\u001b[0m \u001b[32m━━━━━━━━━━━━━━━━━━━━\u001b[0m\u001b[37m\u001b[0m \u001b[1m1s\u001b[0m 2ms/step - accuracy: 0.7211 - loss: 0.5066 - val_accuracy: 0.5300 - val_loss: 0.6444\n",
      "Epoch 98/200\n",
      "\u001b[1m390/390\u001b[0m \u001b[32m━━━━━━━━━━━━━━━━━━━━\u001b[0m\u001b[37m\u001b[0m \u001b[1m1s\u001b[0m 2ms/step - accuracy: 0.7185 - loss: 0.5130 - val_accuracy: 0.5292 - val_loss: 0.6534\n",
      "Epoch 99/200\n",
      "\u001b[1m390/390\u001b[0m \u001b[32m━━━━━━━━━━━━━━━━━━━━\u001b[0m\u001b[37m\u001b[0m \u001b[1m1s\u001b[0m 2ms/step - accuracy: 0.7096 - loss: 0.5277 - val_accuracy: 0.5430 - val_loss: 0.6454\n",
      "Epoch 100/200\n",
      "\u001b[1m390/390\u001b[0m \u001b[32m━━━━━━━━━━━━━━━━━━━━\u001b[0m\u001b[37m\u001b[0m \u001b[1m1s\u001b[0m 2ms/step - accuracy: 0.7117 - loss: 0.5162 - val_accuracy: 0.5805 - val_loss: 0.6062\n",
      "Epoch 101/200\n",
      "\u001b[1m390/390\u001b[0m \u001b[32m━━━━━━━━━━━━━━━━━━━━\u001b[0m\u001b[37m\u001b[0m \u001b[1m1s\u001b[0m 2ms/step - accuracy: 0.7136 - loss: 0.5220 - val_accuracy: 0.5300 - val_loss: 0.6469\n",
      "Epoch 102/200\n",
      "\u001b[1m390/390\u001b[0m \u001b[32m━━━━━━━━━━━━━━━━━━━━\u001b[0m\u001b[37m\u001b[0m \u001b[1m1s\u001b[0m 2ms/step - accuracy: 0.7125 - loss: 0.5170 - val_accuracy: 0.4866 - val_loss: 0.6860\n",
      "Epoch 103/200\n",
      "\u001b[1m390/390\u001b[0m \u001b[32m━━━━━━━━━━━━━━━━━━━━\u001b[0m\u001b[37m\u001b[0m \u001b[1m1s\u001b[0m 2ms/step - accuracy: 0.7152 - loss: 0.5225 - val_accuracy: 0.4881 - val_loss: 0.6767\n",
      "Epoch 104/200\n",
      "\u001b[1m390/390\u001b[0m \u001b[32m━━━━━━━━━━━━━━━━━━━━\u001b[0m\u001b[37m\u001b[0m \u001b[1m1s\u001b[0m 2ms/step - accuracy: 0.7095 - loss: 0.5162 - val_accuracy: 0.4527 - val_loss: 0.7180\n",
      "Epoch 105/200\n",
      "\u001b[1m390/390\u001b[0m \u001b[32m━━━━━━━━━━━━━━━━━━━━\u001b[0m\u001b[37m\u001b[0m \u001b[1m1s\u001b[0m 2ms/step - accuracy: 0.7227 - loss: 0.5190 - val_accuracy: 0.4838 - val_loss: 0.7032\n",
      "Epoch 106/200\n",
      "\u001b[1m390/390\u001b[0m \u001b[32m━━━━━━━━━━━━━━━━━━━━\u001b[0m\u001b[37m\u001b[0m \u001b[1m1s\u001b[0m 2ms/step - accuracy: 0.7211 - loss: 0.5197 - val_accuracy: 0.5083 - val_loss: 0.6707\n",
      "Epoch 107/200\n",
      "\u001b[1m390/390\u001b[0m \u001b[32m━━━━━━━━━━━━━━━━━━━━\u001b[0m\u001b[37m\u001b[0m \u001b[1m1s\u001b[0m 2ms/step - accuracy: 0.7183 - loss: 0.5143 - val_accuracy: 0.5588 - val_loss: 0.6426\n",
      "Epoch 108/200\n",
      "\u001b[1m390/390\u001b[0m \u001b[32m━━━━━━━━━━━━━━━━━━━━\u001b[0m\u001b[37m\u001b[0m \u001b[1m1s\u001b[0m 2ms/step - accuracy: 0.7136 - loss: 0.5103 - val_accuracy: 0.4960 - val_loss: 0.7145\n",
      "Epoch 109/200\n",
      "\u001b[1m390/390\u001b[0m \u001b[32m━━━━━━━━━━━━━━━━━━━━\u001b[0m\u001b[37m\u001b[0m \u001b[1m1s\u001b[0m 2ms/step - accuracy: 0.7169 - loss: 0.5180 - val_accuracy: 0.5061 - val_loss: 0.6723\n",
      "Epoch 110/200\n",
      "\u001b[1m390/390\u001b[0m \u001b[32m━━━━━━━━━━━━━━━━━━━━\u001b[0m\u001b[37m\u001b[0m \u001b[1m1s\u001b[0m 2ms/step - accuracy: 0.7193 - loss: 0.5157 - val_accuracy: 0.5755 - val_loss: 0.6388\n",
      "Epoch 111/200\n",
      "\u001b[1m390/390\u001b[0m \u001b[32m━━━━━━━━━━━━━━━━━━━━\u001b[0m\u001b[37m\u001b[0m \u001b[1m1s\u001b[0m 2ms/step - accuracy: 0.7165 - loss: 0.5198 - val_accuracy: 0.5581 - val_loss: 0.6282\n",
      "Epoch 112/200\n",
      "\u001b[1m390/390\u001b[0m \u001b[32m━━━━━━━━━━━━━━━━━━━━\u001b[0m\u001b[37m\u001b[0m \u001b[1m1s\u001b[0m 2ms/step - accuracy: 0.7208 - loss: 0.5126 - val_accuracy: 0.4751 - val_loss: 0.7553\n",
      "Epoch 113/200\n",
      "\u001b[1m390/390\u001b[0m \u001b[32m━━━━━━━━━━━━━━━━━━━━\u001b[0m\u001b[37m\u001b[0m \u001b[1m1s\u001b[0m 2ms/step - accuracy: 0.7197 - loss: 0.5071 - val_accuracy: 0.4866 - val_loss: 0.6975\n",
      "Epoch 114/200\n",
      "\u001b[1m390/390\u001b[0m \u001b[32m━━━━━━━━━━━━━━━━━━━━\u001b[0m\u001b[37m\u001b[0m \u001b[1m1s\u001b[0m 2ms/step - accuracy: 0.7150 - loss: 0.5196 - val_accuracy: 0.5076 - val_loss: 0.6980\n",
      "Epoch 115/200\n",
      "\u001b[1m390/390\u001b[0m \u001b[32m━━━━━━━━━━━━━━━━━━━━\u001b[0m\u001b[37m\u001b[0m \u001b[1m1s\u001b[0m 2ms/step - accuracy: 0.7295 - loss: 0.5060 - val_accuracy: 0.4253 - val_loss: 0.8222\n",
      "Epoch 116/200\n",
      "\u001b[1m390/390\u001b[0m \u001b[32m━━━━━━━━━━━━━━━━━━━━\u001b[0m\u001b[37m\u001b[0m \u001b[1m1s\u001b[0m 2ms/step - accuracy: 0.7224 - loss: 0.5181 - val_accuracy: 0.4989 - val_loss: 0.6970\n",
      "Epoch 117/200\n",
      "\u001b[1m390/390\u001b[0m \u001b[32m━━━━━━━━━━━━━━━━━━━━\u001b[0m\u001b[37m\u001b[0m \u001b[1m1s\u001b[0m 2ms/step - accuracy: 0.7221 - loss: 0.5100 - val_accuracy: 0.5061 - val_loss: 0.6985\n",
      "Epoch 118/200\n",
      "\u001b[1m390/390\u001b[0m \u001b[32m━━━━━━━━━━━━━━━━━━━━\u001b[0m\u001b[37m\u001b[0m \u001b[1m1s\u001b[0m 2ms/step - accuracy: 0.7291 - loss: 0.5082 - val_accuracy: 0.5292 - val_loss: 0.7038\n",
      "Epoch 119/200\n",
      "\u001b[1m390/390\u001b[0m \u001b[32m━━━━━━━━━━━━━━━━━━━━\u001b[0m\u001b[37m\u001b[0m \u001b[1m1s\u001b[0m 2ms/step - accuracy: 0.7277 - loss: 0.5022 - val_accuracy: 0.4953 - val_loss: 0.7051\n",
      "Epoch 120/200\n",
      "\u001b[1m390/390\u001b[0m \u001b[32m━━━━━━━━━━━━━━━━━━━━\u001b[0m\u001b[37m\u001b[0m \u001b[1m1s\u001b[0m 2ms/step - accuracy: 0.7259 - loss: 0.5060 - val_accuracy: 0.5206 - val_loss: 0.6793\n",
      "Epoch 121/200\n",
      "\u001b[1m390/390\u001b[0m \u001b[32m━━━━━━━━━━━━━━━━━━━━\u001b[0m\u001b[37m\u001b[0m \u001b[1m1s\u001b[0m 2ms/step - accuracy: 0.7236 - loss: 0.5113 - val_accuracy: 0.5271 - val_loss: 0.6811\n",
      "Epoch 122/200\n",
      "\u001b[1m390/390\u001b[0m \u001b[32m━━━━━━━━━━━━━━━━━━━━\u001b[0m\u001b[37m\u001b[0m \u001b[1m1s\u001b[0m 2ms/step - accuracy: 0.7306 - loss: 0.5055 - val_accuracy: 0.4968 - val_loss: 0.7375\n",
      "Epoch 123/200\n",
      "\u001b[1m390/390\u001b[0m \u001b[32m━━━━━━━━━━━━━━━━━━━━\u001b[0m\u001b[37m\u001b[0m \u001b[1m1s\u001b[0m 2ms/step - accuracy: 0.7365 - loss: 0.4983 - val_accuracy: 0.5278 - val_loss: 0.7180\n",
      "Epoch 124/200\n",
      "\u001b[1m390/390\u001b[0m \u001b[32m━━━━━━━━━━━━━━━━━━━━\u001b[0m\u001b[37m\u001b[0m \u001b[1m1s\u001b[0m 2ms/step - accuracy: 0.7282 - loss: 0.5108 - val_accuracy: 0.5458 - val_loss: 0.6622\n",
      "Epoch 125/200\n",
      "\u001b[1m390/390\u001b[0m \u001b[32m━━━━━━━━━━━━━━━━━━━━\u001b[0m\u001b[37m\u001b[0m \u001b[1m1s\u001b[0m 2ms/step - accuracy: 0.7283 - loss: 0.5070 - val_accuracy: 0.5213 - val_loss: 0.7153\n",
      "Epoch 126/200\n",
      "\u001b[1m390/390\u001b[0m \u001b[32m━━━━━━━━━━━━━━━━━━━━\u001b[0m\u001b[37m\u001b[0m \u001b[1m1s\u001b[0m 2ms/step - accuracy: 0.7321 - loss: 0.4984 - val_accuracy: 0.5596 - val_loss: 0.6418\n",
      "Epoch 127/200\n",
      "\u001b[1m390/390\u001b[0m \u001b[32m━━━━━━━━━━━━━━━━━━━━\u001b[0m\u001b[37m\u001b[0m \u001b[1m1s\u001b[0m 2ms/step - accuracy: 0.7303 - loss: 0.5068 - val_accuracy: 0.4830 - val_loss: 0.7785\n",
      "Epoch 128/200\n",
      "\u001b[1m390/390\u001b[0m \u001b[32m━━━━━━━━━━━━━━━━━━━━\u001b[0m\u001b[37m\u001b[0m \u001b[1m1s\u001b[0m 2ms/step - accuracy: 0.7352 - loss: 0.5039 - val_accuracy: 0.4823 - val_loss: 0.8539\n",
      "Epoch 129/200\n",
      "\u001b[1m390/390\u001b[0m \u001b[32m━━━━━━━━━━━━━━━━━━━━\u001b[0m\u001b[37m\u001b[0m \u001b[1m1s\u001b[0m 2ms/step - accuracy: 0.7225 - loss: 0.5071 - val_accuracy: 0.5292 - val_loss: 0.6919\n",
      "Epoch 130/200\n",
      "\u001b[1m390/390\u001b[0m \u001b[32m━━━━━━━━━━━━━━━━━━━━\u001b[0m\u001b[37m\u001b[0m \u001b[1m1s\u001b[0m 2ms/step - accuracy: 0.7265 - loss: 0.5060 - val_accuracy: 0.4939 - val_loss: 0.8335\n",
      "Epoch 131/200\n",
      "\u001b[1m390/390\u001b[0m \u001b[32m━━━━━━━━━━━━━━━━━━━━\u001b[0m\u001b[37m\u001b[0m \u001b[1m1s\u001b[0m 2ms/step - accuracy: 0.7252 - loss: 0.5083 - val_accuracy: 0.4881 - val_loss: 0.7679\n",
      "Epoch 132/200\n",
      "\u001b[1m390/390\u001b[0m \u001b[32m━━━━━━━━━━━━━━━━━━━━\u001b[0m\u001b[37m\u001b[0m \u001b[1m1s\u001b[0m 2ms/step - accuracy: 0.7356 - loss: 0.4963 - val_accuracy: 0.4650 - val_loss: 0.8089\n",
      "Epoch 133/200\n",
      "\u001b[1m390/390\u001b[0m \u001b[32m━━━━━━━━━━━━━━━━━━━━\u001b[0m\u001b[37m\u001b[0m \u001b[1m1s\u001b[0m 2ms/step - accuracy: 0.7290 - loss: 0.5035 - val_accuracy: 0.5141 - val_loss: 0.7967\n",
      "Epoch 134/200\n",
      "\u001b[1m390/390\u001b[0m \u001b[32m━━━━━━━━━━━━━━━━━━━━\u001b[0m\u001b[37m\u001b[0m \u001b[1m1s\u001b[0m 2ms/step - accuracy: 0.7375 - loss: 0.5039 - val_accuracy: 0.4939 - val_loss: 0.7935\n",
      "Epoch 135/200\n",
      "\u001b[1m390/390\u001b[0m \u001b[32m━━━━━━━━━━━━━━━━━━━━\u001b[0m\u001b[37m\u001b[0m \u001b[1m1s\u001b[0m 2ms/step - accuracy: 0.7339 - loss: 0.4989 - val_accuracy: 0.5581 - val_loss: 0.6748\n",
      "Epoch 136/200\n",
      "\u001b[1m390/390\u001b[0m \u001b[32m━━━━━━━━━━━━━━━━━━━━\u001b[0m\u001b[37m\u001b[0m \u001b[1m1s\u001b[0m 2ms/step - accuracy: 0.7325 - loss: 0.5035 - val_accuracy: 0.4874 - val_loss: 0.8079\n",
      "Epoch 137/200\n",
      "\u001b[1m390/390\u001b[0m \u001b[32m━━━━━━━━━━━━━━━━━━━━\u001b[0m\u001b[37m\u001b[0m \u001b[1m1s\u001b[0m 2ms/step - accuracy: 0.7301 - loss: 0.5053 - val_accuracy: 0.5206 - val_loss: 0.7283\n",
      "Epoch 138/200\n",
      "\u001b[1m390/390\u001b[0m \u001b[32m━━━━━━━━━━━━━━━━━━━━\u001b[0m\u001b[37m\u001b[0m \u001b[1m1s\u001b[0m 2ms/step - accuracy: 0.7342 - loss: 0.5069 - val_accuracy: 0.5112 - val_loss: 0.7566\n",
      "Epoch 139/200\n",
      "\u001b[1m390/390\u001b[0m \u001b[32m━━━━━━━━━━━━━━━━━━━━\u001b[0m\u001b[37m\u001b[0m \u001b[1m1s\u001b[0m 2ms/step - accuracy: 0.7313 - loss: 0.4966 - val_accuracy: 0.5018 - val_loss: 0.7456\n",
      "Epoch 140/200\n",
      "\u001b[1m390/390\u001b[0m \u001b[32m━━━━━━━━━━━━━━━━━━━━\u001b[0m\u001b[37m\u001b[0m \u001b[1m1s\u001b[0m 2ms/step - accuracy: 0.7286 - loss: 0.5052 - val_accuracy: 0.5292 - val_loss: 0.7657\n",
      "Epoch 141/200\n",
      "\u001b[1m390/390\u001b[0m \u001b[32m━━━━━━━━━━━━━━━━━━━━\u001b[0m\u001b[37m\u001b[0m \u001b[1m1s\u001b[0m 2ms/step - accuracy: 0.7377 - loss: 0.5016 - val_accuracy: 0.4816 - val_loss: 0.8144\n",
      "Epoch 142/200\n",
      "\u001b[1m390/390\u001b[0m \u001b[32m━━━━━━━━━━━━━━━━━━━━\u001b[0m\u001b[37m\u001b[0m \u001b[1m1s\u001b[0m 2ms/step - accuracy: 0.7387 - loss: 0.4941 - val_accuracy: 0.5422 - val_loss: 0.7382\n",
      "Epoch 143/200\n",
      "\u001b[1m390/390\u001b[0m \u001b[32m━━━━━━━━━━━━━━━━━━━━\u001b[0m\u001b[37m\u001b[0m \u001b[1m1s\u001b[0m 2ms/step - accuracy: 0.7304 - loss: 0.4978 - val_accuracy: 0.4874 - val_loss: 0.7680\n",
      "Epoch 144/200\n",
      "\u001b[1m390/390\u001b[0m \u001b[32m━━━━━━━━━━━━━━━━━━━━\u001b[0m\u001b[37m\u001b[0m \u001b[1m1s\u001b[0m 2ms/step - accuracy: 0.7358 - loss: 0.5035 - val_accuracy: 0.5509 - val_loss: 0.7138\n",
      "Epoch 145/200\n",
      "\u001b[1m390/390\u001b[0m \u001b[32m━━━━━━━━━━━━━━━━━━━━\u001b[0m\u001b[37m\u001b[0m \u001b[1m1s\u001b[0m 2ms/step - accuracy: 0.7380 - loss: 0.4987 - val_accuracy: 0.4874 - val_loss: 0.8294\n",
      "Epoch 146/200\n",
      "\u001b[1m390/390\u001b[0m \u001b[32m━━━━━━━━━━━━━━━━━━━━\u001b[0m\u001b[37m\u001b[0m \u001b[1m1s\u001b[0m 2ms/step - accuracy: 0.7342 - loss: 0.5029 - val_accuracy: 0.5220 - val_loss: 0.8332\n",
      "Epoch 147/200\n",
      "\u001b[1m390/390\u001b[0m \u001b[32m━━━━━━━━━━━━━━━━━━━━\u001b[0m\u001b[37m\u001b[0m \u001b[1m1s\u001b[0m 2ms/step - accuracy: 0.7355 - loss: 0.4955 - val_accuracy: 0.5928 - val_loss: 0.6362\n",
      "Epoch 148/200\n",
      "\u001b[1m390/390\u001b[0m \u001b[32m━━━━━━━━━━━━━━━━━━━━\u001b[0m\u001b[37m\u001b[0m \u001b[1m1s\u001b[0m 2ms/step - accuracy: 0.7430 - loss: 0.4943 - val_accuracy: 0.5653 - val_loss: 0.6637\n",
      "Epoch 149/200\n",
      "\u001b[1m390/390\u001b[0m \u001b[32m━━━━━━━━━━━━━━━━━━━━\u001b[0m\u001b[37m\u001b[0m \u001b[1m1s\u001b[0m 2ms/step - accuracy: 0.7386 - loss: 0.4954 - val_accuracy: 0.5805 - val_loss: 0.7132\n",
      "Epoch 150/200\n",
      "\u001b[1m390/390\u001b[0m \u001b[32m━━━━━━━━━━━━━━━━━━━━\u001b[0m\u001b[37m\u001b[0m \u001b[1m1s\u001b[0m 2ms/step - accuracy: 0.7398 - loss: 0.4916 - val_accuracy: 0.5769 - val_loss: 0.7022\n",
      "Epoch 151/200\n",
      "\u001b[1m390/390\u001b[0m \u001b[32m━━━━━━━━━━━━━━━━━━━━\u001b[0m\u001b[37m\u001b[0m \u001b[1m1s\u001b[0m 2ms/step - accuracy: 0.7349 - loss: 0.5042 - val_accuracy: 0.6007 - val_loss: 0.6705\n",
      "Epoch 152/200\n",
      "\u001b[1m390/390\u001b[0m \u001b[32m━━━━━━━━━━━━━━━━━━━━\u001b[0m\u001b[37m\u001b[0m \u001b[1m1s\u001b[0m 2ms/step - accuracy: 0.7311 - loss: 0.4987 - val_accuracy: 0.5480 - val_loss: 0.8895\n",
      "Epoch 153/200\n",
      "\u001b[1m390/390\u001b[0m \u001b[32m━━━━━━━━━━━━━━━━━━━━\u001b[0m\u001b[37m\u001b[0m \u001b[1m1s\u001b[0m 2ms/step - accuracy: 0.7366 - loss: 0.4981 - val_accuracy: 0.6094 - val_loss: 0.7124\n",
      "Epoch 154/200\n",
      "\u001b[1m390/390\u001b[0m \u001b[32m━━━━━━━━━━━━━━━━━━━━\u001b[0m\u001b[37m\u001b[0m \u001b[1m1s\u001b[0m 2ms/step - accuracy: 0.7318 - loss: 0.4988 - val_accuracy: 0.5292 - val_loss: 0.8017\n",
      "Epoch 155/200\n",
      "\u001b[1m390/390\u001b[0m \u001b[32m━━━━━━━━━━━━━━━━━━━━\u001b[0m\u001b[37m\u001b[0m \u001b[1m1s\u001b[0m 2ms/step - accuracy: 0.7425 - loss: 0.4985 - val_accuracy: 0.5401 - val_loss: 0.8572\n",
      "Epoch 156/200\n",
      "\u001b[1m390/390\u001b[0m \u001b[32m━━━━━━━━━━━━━━━━━━━━\u001b[0m\u001b[37m\u001b[0m \u001b[1m1s\u001b[0m 2ms/step - accuracy: 0.7352 - loss: 0.4988 - val_accuracy: 0.5487 - val_loss: 0.8633\n",
      "Epoch 157/200\n",
      "\u001b[1m390/390\u001b[0m \u001b[32m━━━━━━━━━━━━━━━━━━━━\u001b[0m\u001b[37m\u001b[0m \u001b[1m1s\u001b[0m 2ms/step - accuracy: 0.7307 - loss: 0.4981 - val_accuracy: 0.4924 - val_loss: 0.8564\n",
      "Epoch 158/200\n",
      "\u001b[1m390/390\u001b[0m \u001b[32m━━━━━━━━━━━━━━━━━━━━\u001b[0m\u001b[37m\u001b[0m \u001b[1m1s\u001b[0m 2ms/step - accuracy: 0.7488 - loss: 0.4871 - val_accuracy: 0.5292 - val_loss: 0.7831\n",
      "Epoch 159/200\n",
      "\u001b[1m390/390\u001b[0m \u001b[32m━━━━━━━━━━━━━━━━━━━━\u001b[0m\u001b[37m\u001b[0m \u001b[1m1s\u001b[0m 2ms/step - accuracy: 0.7452 - loss: 0.4917 - val_accuracy: 0.5581 - val_loss: 0.7420\n",
      "Epoch 160/200\n",
      "\u001b[1m390/390\u001b[0m \u001b[32m━━━━━━━━━━━━━━━━━━━━\u001b[0m\u001b[37m\u001b[0m \u001b[1m1s\u001b[0m 2ms/step - accuracy: 0.7462 - loss: 0.4937 - val_accuracy: 0.6375 - val_loss: 0.6468\n",
      "Epoch 161/200\n",
      "\u001b[1m390/390\u001b[0m \u001b[32m━━━━━━━━━━━━━━━━━━━━\u001b[0m\u001b[37m\u001b[0m \u001b[1m1s\u001b[0m 2ms/step - accuracy: 0.7362 - loss: 0.4939 - val_accuracy: 0.5473 - val_loss: 0.7815\n",
      "Epoch 162/200\n",
      "\u001b[1m390/390\u001b[0m \u001b[32m━━━━━━━━━━━━━━━━━━━━\u001b[0m\u001b[37m\u001b[0m \u001b[1m1s\u001b[0m 2ms/step - accuracy: 0.7441 - loss: 0.4864 - val_accuracy: 0.6029 - val_loss: 0.6773\n",
      "Epoch 163/200\n",
      "\u001b[1m390/390\u001b[0m \u001b[32m━━━━━━━━━━━━━━━━━━━━\u001b[0m\u001b[37m\u001b[0m \u001b[1m1s\u001b[0m 2ms/step - accuracy: 0.7494 - loss: 0.4835 - val_accuracy: 0.6303 - val_loss: 0.6746\n",
      "Epoch 164/200\n",
      "\u001b[1m390/390\u001b[0m \u001b[32m━━━━━━━━━━━━━━━━━━━━\u001b[0m\u001b[37m\u001b[0m \u001b[1m1s\u001b[0m 2ms/step - accuracy: 0.7433 - loss: 0.4883 - val_accuracy: 0.5993 - val_loss: 0.6768\n",
      "Epoch 165/200\n",
      "\u001b[1m390/390\u001b[0m \u001b[32m━━━━━━━━━━━━━━━━━━━━\u001b[0m\u001b[37m\u001b[0m \u001b[1m1s\u001b[0m 2ms/step - accuracy: 0.7466 - loss: 0.4824 - val_accuracy: 0.6007 - val_loss: 0.6960\n",
      "Epoch 166/200\n",
      "\u001b[1m390/390\u001b[0m \u001b[32m━━━━━━━━━━━━━━━━━━━━\u001b[0m\u001b[37m\u001b[0m \u001b[1m1s\u001b[0m 2ms/step - accuracy: 0.7449 - loss: 0.4816 - val_accuracy: 0.5978 - val_loss: 0.7574\n",
      "Epoch 167/200\n",
      "\u001b[1m390/390\u001b[0m \u001b[32m━━━━━━━━━━━━━━━━━━━━\u001b[0m\u001b[37m\u001b[0m \u001b[1m1s\u001b[0m 2ms/step - accuracy: 0.7426 - loss: 0.4881 - val_accuracy: 0.6014 - val_loss: 0.7564\n",
      "Epoch 168/200\n",
      "\u001b[1m390/390\u001b[0m \u001b[32m━━━━━━━━━━━━━━━━━━━━\u001b[0m\u001b[37m\u001b[0m \u001b[1m1s\u001b[0m 2ms/step - accuracy: 0.7458 - loss: 0.4893 - val_accuracy: 0.5523 - val_loss: 0.8724\n",
      "Epoch 169/200\n",
      "\u001b[1m390/390\u001b[0m \u001b[32m━━━━━━━━━━━━━━━━━━━━\u001b[0m\u001b[37m\u001b[0m \u001b[1m1s\u001b[0m 2ms/step - accuracy: 0.7409 - loss: 0.4934 - val_accuracy: 0.6166 - val_loss: 0.6291\n",
      "Epoch 170/200\n",
      "\u001b[1m390/390\u001b[0m \u001b[32m━━━━━━━━━━━━━━━━━━━━\u001b[0m\u001b[37m\u001b[0m \u001b[1m1s\u001b[0m 2ms/step - accuracy: 0.7461 - loss: 0.4879 - val_accuracy: 0.6058 - val_loss: 0.7688\n",
      "Epoch 171/200\n",
      "\u001b[1m390/390\u001b[0m \u001b[32m━━━━━━━━━━━━━━━━━━━━\u001b[0m\u001b[37m\u001b[0m \u001b[1m1s\u001b[0m 2ms/step - accuracy: 0.7513 - loss: 0.4827 - val_accuracy: 0.6152 - val_loss: 0.7274\n",
      "Epoch 172/200\n",
      "\u001b[1m390/390\u001b[0m \u001b[32m━━━━━━━━━━━━━━━━━━━━\u001b[0m\u001b[37m\u001b[0m \u001b[1m1s\u001b[0m 2ms/step - accuracy: 0.7472 - loss: 0.4813 - val_accuracy: 0.5834 - val_loss: 0.8386\n",
      "Epoch 173/200\n",
      "\u001b[1m390/390\u001b[0m \u001b[32m━━━━━━━━━━━━━━━━━━━━\u001b[0m\u001b[37m\u001b[0m \u001b[1m1s\u001b[0m 2ms/step - accuracy: 0.7545 - loss: 0.4808 - val_accuracy: 0.6758 - val_loss: 0.6491\n",
      "Epoch 174/200\n",
      "\u001b[1m390/390\u001b[0m \u001b[32m━━━━━━━━━━━━━━━━━━━━\u001b[0m\u001b[37m\u001b[0m \u001b[1m1s\u001b[0m 2ms/step - accuracy: 0.7475 - loss: 0.4825 - val_accuracy: 0.6426 - val_loss: 0.7455\n",
      "Epoch 175/200\n",
      "\u001b[1m390/390\u001b[0m \u001b[32m━━━━━━━━━━━━━━━━━━━━\u001b[0m\u001b[37m\u001b[0m \u001b[1m1s\u001b[0m 2ms/step - accuracy: 0.7418 - loss: 0.4811 - val_accuracy: 0.7054 - val_loss: 0.6151\n",
      "Epoch 176/200\n",
      "\u001b[1m390/390\u001b[0m \u001b[32m━━━━━━━━━━━━━━━━━━━━\u001b[0m\u001b[37m\u001b[0m \u001b[1m1s\u001b[0m 2ms/step - accuracy: 0.7378 - loss: 0.4923 - val_accuracy: 0.6484 - val_loss: 0.8035\n",
      "Epoch 177/200\n",
      "\u001b[1m390/390\u001b[0m \u001b[32m━━━━━━━━━━━━━━━━━━━━\u001b[0m\u001b[37m\u001b[0m \u001b[1m1s\u001b[0m 2ms/step - accuracy: 0.7371 - loss: 0.4953 - val_accuracy: 0.6339 - val_loss: 0.7745\n",
      "Epoch 178/200\n",
      "\u001b[1m390/390\u001b[0m \u001b[32m━━━━━━━━━━━━━━━━━━━━\u001b[0m\u001b[37m\u001b[0m \u001b[1m1s\u001b[0m 2ms/step - accuracy: 0.7516 - loss: 0.4805 - val_accuracy: 0.6303 - val_loss: 0.7705\n",
      "Epoch 179/200\n",
      "\u001b[1m390/390\u001b[0m \u001b[32m━━━━━━━━━━━━━━━━━━━━\u001b[0m\u001b[37m\u001b[0m \u001b[1m1s\u001b[0m 2ms/step - accuracy: 0.7439 - loss: 0.4880 - val_accuracy: 0.6542 - val_loss: 0.6995\n",
      "Epoch 180/200\n",
      "\u001b[1m390/390\u001b[0m \u001b[32m━━━━━━━━━━━━━━━━━━━━\u001b[0m\u001b[37m\u001b[0m \u001b[1m1s\u001b[0m 2ms/step - accuracy: 0.7463 - loss: 0.4836 - val_accuracy: 0.6722 - val_loss: 0.7063\n",
      "Epoch 181/200\n",
      "\u001b[1m390/390\u001b[0m \u001b[32m━━━━━━━━━━━━━━━━━━━━\u001b[0m\u001b[37m\u001b[0m \u001b[1m1s\u001b[0m 2ms/step - accuracy: 0.7487 - loss: 0.4875 - val_accuracy: 0.6325 - val_loss: 0.7985\n",
      "Epoch 182/200\n",
      "\u001b[1m390/390\u001b[0m \u001b[32m━━━━━━━━━━━━━━━━━━━━\u001b[0m\u001b[37m\u001b[0m \u001b[1m1s\u001b[0m 2ms/step - accuracy: 0.7649 - loss: 0.4693 - val_accuracy: 0.7495 - val_loss: 0.5898\n",
      "Epoch 183/200\n",
      "\u001b[1m390/390\u001b[0m \u001b[32m━━━━━━━━━━━━━━━━━━━━\u001b[0m\u001b[37m\u001b[0m \u001b[1m1s\u001b[0m 2ms/step - accuracy: 0.7568 - loss: 0.4819 - val_accuracy: 0.6592 - val_loss: 0.7107\n",
      "Epoch 184/200\n",
      "\u001b[1m390/390\u001b[0m \u001b[32m━━━━━━━━━━━━━━━━━━━━\u001b[0m\u001b[37m\u001b[0m \u001b[1m1s\u001b[0m 2ms/step - accuracy: 0.7500 - loss: 0.4795 - val_accuracy: 0.6823 - val_loss: 0.6689\n",
      "Epoch 185/200\n",
      "\u001b[1m390/390\u001b[0m \u001b[32m━━━━━━━━━━━━━━━━━━━━\u001b[0m\u001b[37m\u001b[0m \u001b[1m1s\u001b[0m 2ms/step - accuracy: 0.7505 - loss: 0.4830 - val_accuracy: 0.6968 - val_loss: 0.6452\n",
      "Epoch 186/200\n",
      "\u001b[1m390/390\u001b[0m \u001b[32m━━━━━━━━━━━━━━━━━━━━\u001b[0m\u001b[37m\u001b[0m \u001b[1m1s\u001b[0m 2ms/step - accuracy: 0.7484 - loss: 0.4729 - val_accuracy: 0.7032 - val_loss: 0.6310\n",
      "Epoch 187/200\n",
      "\u001b[1m390/390\u001b[0m \u001b[32m━━━━━━━━━━━━━━━━━━━━\u001b[0m\u001b[37m\u001b[0m \u001b[1m1s\u001b[0m 2ms/step - accuracy: 0.7545 - loss: 0.4855 - val_accuracy: 0.6498 - val_loss: 0.6937\n",
      "Epoch 188/200\n",
      "\u001b[1m390/390\u001b[0m \u001b[32m━━━━━━━━━━━━━━━━━━━━\u001b[0m\u001b[37m\u001b[0m \u001b[1m1s\u001b[0m 2ms/step - accuracy: 0.7516 - loss: 0.4749 - val_accuracy: 0.6664 - val_loss: 0.6738\n",
      "Epoch 189/200\n",
      "\u001b[1m390/390\u001b[0m \u001b[32m━━━━━━━━━━━━━━━━━━━━\u001b[0m\u001b[37m\u001b[0m \u001b[1m1s\u001b[0m 2ms/step - accuracy: 0.7475 - loss: 0.4894 - val_accuracy: 0.6202 - val_loss: 0.7710\n",
      "Epoch 190/200\n",
      "\u001b[1m390/390\u001b[0m \u001b[32m━━━━━━━━━━━━━━━━━━━━\u001b[0m\u001b[37m\u001b[0m \u001b[1m1s\u001b[0m 2ms/step - accuracy: 0.7568 - loss: 0.4708 - val_accuracy: 0.6816 - val_loss: 0.6645\n",
      "Epoch 191/200\n",
      "\u001b[1m390/390\u001b[0m \u001b[32m━━━━━━━━━━━━━━━━━━━━\u001b[0m\u001b[37m\u001b[0m \u001b[1m1s\u001b[0m 2ms/step - accuracy: 0.7559 - loss: 0.4729 - val_accuracy: 0.6960 - val_loss: 0.6804\n",
      "Epoch 192/200\n",
      "\u001b[1m390/390\u001b[0m \u001b[32m━━━━━━━━━━━━━━━━━━━━\u001b[0m\u001b[37m\u001b[0m \u001b[1m1s\u001b[0m 2ms/step - accuracy: 0.7491 - loss: 0.4762 - val_accuracy: 0.7791 - val_loss: 0.5596\n",
      "Epoch 193/200\n",
      "\u001b[1m390/390\u001b[0m \u001b[32m━━━━━━━━━━━━━━━━━━━━\u001b[0m\u001b[37m\u001b[0m \u001b[1m1s\u001b[0m 2ms/step - accuracy: 0.7527 - loss: 0.4821 - val_accuracy: 0.6982 - val_loss: 0.6708\n",
      "Epoch 194/200\n",
      "\u001b[1m390/390\u001b[0m \u001b[32m━━━━━━━━━━━━━━━━━━━━\u001b[0m\u001b[37m\u001b[0m \u001b[1m1s\u001b[0m 2ms/step - accuracy: 0.7577 - loss: 0.4728 - val_accuracy: 0.6780 - val_loss: 0.7279\n",
      "Epoch 195/200\n",
      "\u001b[1m390/390\u001b[0m \u001b[32m━━━━━━━━━━━━━━━━━━━━\u001b[0m\u001b[37m\u001b[0m \u001b[1m1s\u001b[0m 2ms/step - accuracy: 0.7392 - loss: 0.4905 - val_accuracy: 0.6765 - val_loss: 0.7284\n",
      "Epoch 196/200\n",
      "\u001b[1m390/390\u001b[0m \u001b[32m━━━━━━━━━━━━━━━━━━━━\u001b[0m\u001b[37m\u001b[0m \u001b[1m1s\u001b[0m 2ms/step - accuracy: 0.7587 - loss: 0.4666 - val_accuracy: 0.6801 - val_loss: 0.6979\n",
      "Epoch 197/200\n",
      "\u001b[1m390/390\u001b[0m \u001b[32m━━━━━━━━━━━━━━━━━━━━\u001b[0m\u001b[37m\u001b[0m \u001b[1m1s\u001b[0m 2ms/step - accuracy: 0.7394 - loss: 0.4891 - val_accuracy: 0.6845 - val_loss: 0.6345\n",
      "Epoch 198/200\n",
      "\u001b[1m390/390\u001b[0m \u001b[32m━━━━━━━━━━━━━━━━━━━━\u001b[0m\u001b[37m\u001b[0m \u001b[1m1s\u001b[0m 2ms/step - accuracy: 0.7474 - loss: 0.4783 - val_accuracy: 0.6982 - val_loss: 0.7137\n",
      "Epoch 199/200\n",
      "\u001b[1m390/390\u001b[0m \u001b[32m━━━━━━━━━━━━━━━━━━━━\u001b[0m\u001b[37m\u001b[0m \u001b[1m1s\u001b[0m 2ms/step - accuracy: 0.7513 - loss: 0.4787 - val_accuracy: 0.6318 - val_loss: 0.7516\n",
      "Epoch 200/200\n",
      "\u001b[1m390/390\u001b[0m \u001b[32m━━━━━━━━━━━━━━━━━━━━\u001b[0m\u001b[37m\u001b[0m \u001b[1m1s\u001b[0m 2ms/step - accuracy: 0.7529 - loss: 0.4745 - val_accuracy: 0.6744 - val_loss: 0.7136\n"
     ]
    }
   ],
   "source": [
    "from tensorflow.keras.layers import Dropout, BatchNormalization\n",
    "\n",
    "model = Sequential([\n",
    "    LSTM(2, return_sequences=True, input_shape=(X_train_seq.shape[1], X_train_seq.shape[2])),\n",
    "    Dropout(0.5),\n",
    "    BatchNormalization(),\n",
    "    LSTM(8),\n",
    "    Dropout(0.5),\n",
    "    BatchNormalization(),\n",
    "    Dense(2, activation='softmax')\n",
    "])\n",
    "\n",
    "model.compile(optimizer=AdamW(learning_rate=0.001, weight_decay=1e-5), loss='categorical_crossentropy', metrics=['accuracy'])\n",
    "\n",
    "# --- Train ---\n",
    "history = model.fit(X_train_seq, y_train_seq, epochs=200, batch_size=32, validation_split=0.1)"
   ]
  },
  {
   "cell_type": "code",
   "execution_count": 15,
   "id": "6ad36c9b-07c3-4ed5-a83c-40ea94684b16",
   "metadata": {},
   "outputs": [
    {
     "data": {
      "image/png": "[encoded data removed]",
      "text/plain": [
       "<Figure size 640x480 with 1 Axes>"
      ]
     },
     "metadata": {},
     "output_type": "display_data"
    }
   ],
   "source": [
    "import matplotlib.pyplot as plt\n",
    "\n",
    "plt.plot(history.history['accuracy'], label='train acc')\n",
    "plt.plot(history.history['val_accuracy'], label='val acc')\n",
    "plt.legend()\n",
    "plt.show()"
   ]
  },
  {
   "cell_type": "code",
   "execution_count": 16,
   "id": "e20c7231-99bf-4bfa-8d5d-75634c2c6e11",
   "metadata": {},
   "outputs": [
    {
     "name": "stdout",
     "output_type": "stream",
     "text": [
      "\u001b[1m24/24\u001b[0m \u001b[32m━━━━━━━━━━━━━━━━━━━━\u001b[0m\u001b[37m\u001b[0m \u001b[1m0s\u001b[0m 1ms/step - accuracy: 0.6200 - loss: 0.7014 \n",
      "Test Accuracy: 0.39\n"
     ]
    }
   ],
   "source": [
    "# --- Evaluate ---\n",
    "test_loss, test_acc = model.evaluate(X_test_seq, y_test_seq)\n",
    "print(f\"Test Accuracy: {test_acc:.2f}\")"
   ]
  },
  {
   "cell_type": "code",
   "execution_count": 17,
   "id": "56f9067d-1a5b-4dca-9fe2-f362d7d78a23",
   "metadata": {},
   "outputs": [
    {
     "data": {
      "image/png": "[encoded data removed]",
      "text/plain": [
       "<Figure size 640x480 with 1 Axes>"
      ]
     },
     "metadata": {},
     "output_type": "display_data"
    }
   ],
   "source": [
    "plt.plot(history.history['loss'], label='Train Loss')\n",
    "plt.plot(history.history['val_loss'], label='Val Loss')\n",
    "plt.xlabel('Epoch')\n",
    "plt.ylabel('Loss')\n",
    "plt.title('Training and Validation Loss')\n",
    "plt.legend()\n",
    "plt.show()"
   ]
  },
  {
   "cell_type": "code",
   "execution_count": 18,
   "id": "dd8580d5-bb67-40f0-b0aa-fe57cab55dc3",
   "metadata": {},
   "outputs": [
    {
     "name": "stdout",
     "output_type": "stream",
     "text": [
      "\u001b[1m24/24\u001b[0m \u001b[32m━━━━━━━━━━━━━━━━━━━━\u001b[0m\u001b[37m\u001b[0m \u001b[1m0s\u001b[0m 1ms/step  \n"
     ]
    },
    {
     "data": {
      "image/png": "[encoded data removed]",
      "text/plain": [
       "<Figure size 640x480 with 2 Axes>"
      ]
     },
     "metadata": {},
     "output_type": "display_data"
    }
   ],
   "source": [
    "# --- Predict on test set ---\n",
    "y_pred_probs = model.predict(X_test_seq)                     # Get prediction probabilities\n",
    "y_pred = np.argmax(y_pred_probs, axis=1)                 # Convert to class indices\n",
    "y_true = np.argmax(y_test_seq, axis=1)                       # Convert one-hot to class indices\n",
    "\n",
    "# --- Confusion Matrix ---\n",
    "cm = confusion_matrix(y_true, y_pred)\n",
    "disp = ConfusionMatrixDisplay(confusion_matrix=cm, display_labels=label_encoder.classes_)\n",
    "disp.plot(cmap=plt.cm.Blues)\n",
    "plt.title('Confusion Matrix')\n",
    "plt.show()\n"
   ]
  },
  {
   "cell_type": "code",
   "execution_count": 19,
   "id": "60d10bc9-0312-4024-8f4f-01894ca03d95",
   "metadata": {},
   "outputs": [
    {
     "name": "stdout",
     "output_type": "stream",
     "text": [
      "Classification Report:\n",
      "              precision    recall  f1-score   support\n",
      "\n",
      "         CSI       0.80      0.24      0.37       570\n",
      "   FirstYear       0.28      0.83      0.41       198\n",
      "\n",
      "    accuracy                           0.39       768\n",
      "   macro avg       0.54      0.54      0.39       768\n",
      "weighted avg       0.67      0.39      0.38       768\n",
      "\n"
     ]
    }
   ],
   "source": [
    "# Print classification report\n",
    "print(\"Classification Report:\")\n",
    "print(classification_report(y_true, y_pred, target_names=label_encoder.classes_))"
   ]
  },
  {
   "cell_type": "code",
   "execution_count": 20,
   "id": "f41abc9f-40f7-4859-a6d9-58f4d1fb02ce",
   "metadata": {},
   "outputs": [
    {
     "name": "stdout",
     "output_type": "stream",
     "text": [
      "\u001b[1m1/4\u001b[0m \u001b[32m━━━━━\u001b[0m\u001b[37m━━━━━━━━━━━━━━━\u001b[0m \u001b[1m0s\u001b[0m 120ms/step"
     ]
    },
    {
     "name": "stderr",
     "output_type": "stream",
     "text": [
      "/home/sam/anaconda3/envs/tf310/lib/python3.10/site-packages/tqdm/auto.py:21: TqdmWarning: IProgress not found. Please update jupyter and ipywidgets. See https://ipywidgets.readthedocs.io/en/stable/user_install.html\n",
      "  from .autonotebook import tqdm as notebook_tqdm\n"
     ]
    },
    {
     "name": "stdout",
     "output_type": "stream",
     "text": [
      "\u001b[1m4/4\u001b[0m \u001b[32m━━━━━━━━━━━━━━━━━━━━\u001b[0m\u001b[37m\u001b[0m \u001b[1m0s\u001b[0m 44ms/step\n"
     ]
    },
    {
     "name": "stderr",
     "output_type": "stream",
     "text": [
      "  0%|                                                    | 0/10 [00:00<?, ?it/s]"
     ]
    },
    {
     "name": "stdout",
     "output_type": "stream",
     "text": [
      "\u001b[1m1/1\u001b[0m \u001b[32m━━━━━━━━━━━━━━━━━━━━\u001b[0m\u001b[37m\u001b[0m \u001b[1m0s\u001b[0m 17ms/step\n",
      "\u001b[1m1594/1594\u001b[0m \u001b[32m━━━━━━━━━━━━━━━━━━━━\u001b[0m\u001b[37m\u001b[0m \u001b[1m1s\u001b[0m 512us/step\n"
     ]
    },
    {
     "name": "stderr",
     "output_type": "stream",
     "text": [
      " 10%|████▍                                       | 1/10 [00:01<00:09,  1.09s/it]"
     ]
    },
    {
     "name": "stdout",
     "output_type": "stream",
     "text": [
      "\u001b[1m1/1\u001b[0m \u001b[32m━━━━━━━━━━━━━━━━━━━━\u001b[0m\u001b[37m\u001b[0m \u001b[1m0s\u001b[0m 18ms/step\n",
      "\u001b[1m1594/1594\u001b[0m \u001b[32m━━━━━━━━━━━━━━━━━━━━\u001b[0m\u001b[37m\u001b[0m \u001b[1m1s\u001b[0m 497us/step\n"
     ]
    },
    {
     "name": "stderr",
     "output_type": "stream",
     "text": [
      " 20%|████████▊                                   | 2/10 [00:02<00:08,  1.03s/it]"
     ]
    },
    {
     "name": "stdout",
     "output_type": "stream",
     "text": [
      "\u001b[1m1/1\u001b[0m \u001b[32m━━━━━━━━━━━━━━━━━━━━\u001b[0m\u001b[37m\u001b[0m \u001b[1m0s\u001b[0m 18ms/step\n",
      "\u001b[1m1594/1594\u001b[0m \u001b[32m━━━━━━━━━━━━━━━━━━━━\u001b[0m\u001b[37m\u001b[0m \u001b[1m1s\u001b[0m 503us/step\n"
     ]
    },
    {
     "name": "stderr",
     "output_type": "stream",
     "text": [
      " 30%|█████████████▏                              | 3/10 [00:03<00:07,  1.01s/it]"
     ]
    },
    {
     "name": "stdout",
     "output_type": "stream",
     "text": [
      "\u001b[1m1/1\u001b[0m \u001b[32m━━━━━━━━━━━━━━━━━━━━\u001b[0m\u001b[37m\u001b[0m \u001b[1m0s\u001b[0m 18ms/step\n",
      "\u001b[1m1594/1594\u001b[0m \u001b[32m━━━━━━━━━━━━━━━━━━━━\u001b[0m\u001b[37m\u001b[0m \u001b[1m1s\u001b[0m 501us/step\n"
     ]
    },
    {
     "name": "stderr",
     "output_type": "stream",
     "text": [
      " 40%|█████████████████▌                          | 4/10 [00:04<00:06,  1.01s/it]"
     ]
    },
    {
     "name": "stdout",
     "output_type": "stream",
     "text": [
      "\u001b[1m1/1\u001b[0m \u001b[32m━━━━━━━━━━━━━━━━━━━━\u001b[0m\u001b[37m\u001b[0m \u001b[1m0s\u001b[0m 18ms/step\n",
      "\u001b[1m1594/1594\u001b[0m \u001b[32m━━━━━━━━━━━━━━━━━━━━\u001b[0m\u001b[37m\u001b[0m \u001b[1m1s\u001b[0m 497us/step\n"
     ]
    },
    {
     "name": "stderr",
     "output_type": "stream",
     "text": [
      " 50%|██████████████████████                      | 5/10 [00:05<00:05,  1.00s/it]"
     ]
    },
    {
     "name": "stdout",
     "output_type": "stream",
     "text": [
      "\u001b[1m1/1\u001b[0m \u001b[32m━━━━━━━━━━━━━━━━━━━━\u001b[0m\u001b[37m\u001b[0m \u001b[1m0s\u001b[0m 17ms/step\n",
      "\u001b[1m1594/1594\u001b[0m \u001b[32m━━━━━━━━━━━━━━━━━━━━\u001b[0m\u001b[37m\u001b[0m \u001b[1m1s\u001b[0m 497us/step\n"
     ]
    },
    {
     "name": "stderr",
     "output_type": "stream",
     "text": [
      " 60%|██████████████████████████▍                 | 6/10 [00:06<00:03,  1.00it/s]"
     ]
    },
    {
     "name": "stdout",
     "output_type": "stream",
     "text": [
      "\u001b[1m1/1\u001b[0m \u001b[32m━━━━━━━━━━━━━━━━━━━━\u001b[0m\u001b[37m\u001b[0m \u001b[1m0s\u001b[0m 18ms/step\n",
      "\u001b[1m1594/1594\u001b[0m \u001b[32m━━━━━━━━━━━━━━━━━━━━\u001b[0m\u001b[37m\u001b[0m \u001b[1m1s\u001b[0m 497us/step\n"
     ]
    },
    {
     "name": "stderr",
     "output_type": "stream",
     "text": [
      " 70%|██████████████████████████████▊             | 7/10 [00:07<00:02,  1.01it/s]"
     ]
    },
    {
     "name": "stdout",
     "output_type": "stream",
     "text": [
      "\u001b[1m1/1\u001b[0m \u001b[32m━━━━━━━━━━━━━━━━━━━━\u001b[0m\u001b[37m\u001b[0m \u001b[1m0s\u001b[0m 18ms/step\n",
      "\u001b[1m1594/1594\u001b[0m \u001b[32m━━━━━━━━━━━━━━━━━━━━\u001b[0m\u001b[37m\u001b[0m \u001b[1m1s\u001b[0m 493us/step\n"
     ]
    },
    {
     "name": "stderr",
     "output_type": "stream",
     "text": [
      " 80%|███████████████████████████████████▏        | 8/10 [00:08<00:01,  1.01it/s]"
     ]
    },
    {
     "name": "stdout",
     "output_type": "stream",
     "text": [
      "\u001b[1m1/1\u001b[0m \u001b[32m━━━━━━━━━━━━━━━━━━━━\u001b[0m\u001b[37m\u001b[0m \u001b[1m0s\u001b[0m 18ms/step\n",
      "\u001b[1m1594/1594\u001b[0m \u001b[32m━━━━━━━━━━━━━━━━━━━━\u001b[0m\u001b[37m\u001b[0m \u001b[1m1s\u001b[0m 499us/step\n"
     ]
    },
    {
     "name": "stderr",
     "output_type": "stream",
     "text": [
      " 90%|███████████████████████████████████████▌    | 9/10 [00:09<00:00,  1.01it/s]"
     ]
    },
    {
     "name": "stdout",
     "output_type": "stream",
     "text": [
      "\u001b[1m1/1\u001b[0m \u001b[32m━━━━━━━━━━━━━━━━━━━━\u001b[0m\u001b[37m\u001b[0m \u001b[1m0s\u001b[0m 18ms/step\n",
      "\u001b[1m1594/1594\u001b[0m \u001b[32m━━━━━━━━━━━━━━━━━━━━\u001b[0m\u001b[37m\u001b[0m \u001b[1m1s\u001b[0m 491us/step\n"
     ]
    },
    {
     "name": "stderr",
     "output_type": "stream",
     "text": [
      "100%|███████████████████████████████████████████| 10/10 [00:10<00:00,  1.00s/it]\n"
     ]
    }
   ],
   "source": [
    "import shap\n",
    "\n",
    "timesteps = X_train_seq.shape[1]\n",
    "feature_size = X_train_seq.shape[2]\n",
    "\n",
    "# Flatten over time for KernelExplainer input (required to make it 2D)\n",
    "background = X_train_seq[:100].mean(axis=1)  # shape: (100, features)\n",
    "\n",
    "# Define prediction function that reshapes 2D input back to 3D for the LSTM\n",
    "def predict_fn(x):\n",
    "    x_reshaped = x.reshape((x.shape[0], 1, feature_size))  # reshape to (batch, 1, features)\n",
    "    return model.predict(x_reshaped)\n",
    "\n",
    "explainer = shap.KernelExplainer(predict_fn, background)\n",
    "\n",
    "# Flatten test samples too\n",
    "X_test_flat = X_test_seq[:10].mean(axis=1)  # shape: (10, features)\n",
    "\n",
    "# Explain predictions\n",
    "shap_values = explainer.shap_values(X_test_flat)"
   ]
  },
  {
   "cell_type": "code",
   "execution_count": 21,
   "id": "f6e186e0-cd92-4439-b55b-917b98524b59",
   "metadata": {},
   "outputs": [
    {
     "name": "stdout",
     "output_type": "stream",
     "text": [
      "\n",
      "Top features for class CSI\n",
      "FixNr     0.003656\n",
      "Scene     0.002974\n",
      "Start     0.002696\n",
      "End       0.001806\n",
      "X         0.000391\n",
      "Y         0.000165\n",
      "Image     0.000121\n",
      "FixDur    0.000050\n",
      "ROI       0.000006\n",
      "dtype: float64\n",
      "\n",
      "Top features for class FirstYear\n",
      "FixNr     0.003656\n",
      "Scene     0.002974\n",
      "Start     0.002696\n",
      "End       0.001806\n",
      "X         0.000391\n",
      "Y         0.000165\n",
      "Image     0.000121\n",
      "FixDur    0.000050\n",
      "ROI       0.000006\n",
      "dtype: float64\n"
     ]
    }
   ],
   "source": [
    "# Assume: shap_values has shape (samples, features, classes)\n",
    "n_classes = shap_values.shape[2]\n",
    "feature_names = features  # or manually define if needed\n",
    "\n",
    "for class_idx in range(n_classes):\n",
    "    print(f\"\\nTop features for class {label_encoder.classes_[class_idx]}\")\n",
    "    \n",
    "    # Take absolute SHAP values for the given class and average over samples\n",
    "    class_shap = np.abs(shap_values[:, :, class_idx]).mean(axis=0)  # shape: (features,)\n",
    "    \n",
    "    top_features = pd.Series(class_shap, index=feature_names).sort_values(ascending=False)\n",
    "    print(top_features)"
   ]
  }
 ],
 "metadata": {
  "kernelspec": {
   "display_name": "Python 3 (ipykernel)",
   "language": "python",
   "name": "python3"
  },
  "language_info": {
   "codemirror_mode": {
    "name": "ipython",
    "version": 3
   },
   "file_extension": ".py",
   "mimetype": "text/x-python",
   "name": "python",
   "nbconvert_exporter": "python",
   "pygments_lexer": "ipython3",
   "version": "3.10.16"
  }
 },
 "nbformat": 4,
 "nbformat_minor": 5
}
