{
 "cells": [
  {
   "cell_type": "code",
   "execution_count": null,
   "id": "63667985-c651-427a-9ff6-68c3e8b99a1e",
   "metadata": {},
   "outputs": [
    {
     "name": "stderr",
     "output_type": "stream",
     "text": [
      "2025-06-02 17:10:41.625416: I tensorflow/core/util/port.cc:153] oneDNN custom operations are on. You may see slightly different numerical results due to floating-point round-off errors from different computation orders. To turn them off, set the environment variable `TF_ENABLE_ONEDNN_OPTS=0`.\n",
      "2025-06-02 17:10:41.634434: E external/local_xla/xla/stream_executor/cuda/cuda_fft.cc:467] Unable to register cuFFT factory: Attempting to register factory for plugin cuFFT when one has already been registered\n",
      "WARNING: All log messages before absl::InitializeLog() is called are written to STDERR\n",
      "E0000 00:00:1748877041.644802  396494 cuda_dnn.cc:8579] Unable to register cuDNN factory: Attempting to register factory for plugin cuDNN when one has already been registered\n",
      "E0000 00:00:1748877041.648449  396494 cuda_blas.cc:1407] Unable to register cuBLAS factory: Attempting to register factory for plugin cuBLAS when one has already been registered\n",
      "W0000 00:00:1748877041.656253  396494 computation_placer.cc:177] computation placer already registered. Please check linkage and avoid linking the same target more than once.\n",
      "W0000 00:00:1748877041.656265  396494 computation_placer.cc:177] computation placer already registered. Please check linkage and avoid linking the same target more than once.\n",
      "W0000 00:00:1748877041.656267  396494 computation_placer.cc:177] computation placer already registered. Please check linkage and avoid linking the same target more than once.\n",
      "W0000 00:00:1748877041.656267  396494 computation_placer.cc:177] computation placer already registered. Please check linkage and avoid linking the same target more than once.\n",
      "2025-06-02 17:10:41.659044: I tensorflow/core/platform/cpu_feature_guard.cc:210] This TensorFlow binary is optimized to use available CPU instructions in performance-critical operations.\n",
      "To enable the following instructions: AVX2 AVX_VNNI FMA, in other operations, rebuild TensorFlow with the appropriate compiler flags.\n"
     ]
    }
   ],
   "source": [
    "import numpy as np\n",
    "import pandas as pd\n",
    "import matplotlib.pyplot as plt\n",
    "\n",
    "from sklearn.preprocessing import LabelEncoder, StandardScaler\n",
    "from sklearn.model_selection import train_test_split\n",
    "from sklearn.metrics import classification_report, accuracy_score, confusion_matrix, ConfusionMatrixDisplay\n",
    "\n",
    "from tensorflow.keras.models import Sequential\n",
    "from tensorflow.keras.layers import LSTM, Dense\n",
    "from tensorflow.keras.utils import to_categorical\n",
    "from tensorflow.keras.optimizers import AdamW\n",
    "\n",
    "df = pd.read_csv(\"../../data/csv/cleaned_fix.csv\")\n",
    "selected_columns = [\"Image\", \"Scene\", \"ROI\", \"FixDur\", \"FixNr\", \"Start\", \"End\", \"X\", \"Y\", \"Participant\", \"experience\"]\n",
    "df_filtered =  df[selected_columns]"
   ]
  },
  {
   "cell_type": "code",
   "execution_count": 2,
   "id": "e11b0310-6f7d-4834-8a70-7d3ad2b41ee2",
   "metadata": {},
   "outputs": [
    {
     "data": {
      "text/plain": [
       "30135"
      ]
     },
     "execution_count": 2,
     "metadata": {},
     "output_type": "execute_result"
    }
   ],
   "source": [
    "len(df)"
   ]
  },
  {
   "cell_type": "code",
   "execution_count": 3,
   "id": "4634a531-d087-4552-8f84-3b15ffb12c8a",
   "metadata": {},
   "outputs": [
    {
     "name": "stderr",
     "output_type": "stream",
     "text": [
      "/tmp/ipykernel_396494/4086940616.py:1: SettingWithCopyWarning: \n",
      "A value is trying to be set on a copy of a slice from a DataFrame\n",
      "\n",
      "See the caveats in the documentation: https://pandas.pydata.org/pandas-docs/stable/user_guide/indexing.html#returning-a-view-versus-a-copy\n",
      "  df_filtered.sort_values(by=['Participant', 'FixNr'], inplace=True)\n"
     ]
    }
   ],
   "source": [
    "df_filtered.sort_values(by=['Participant', 'FixNr'], inplace=True)"
   ]
  },
  {
   "cell_type": "code",
   "execution_count": 4,
   "id": "b0edc1e3-0730-4b5e-bf70-15deaa008152",
   "metadata": {},
   "outputs": [],
   "source": [
    "# Sum FixNr per participant within each experience group\n",
    "participant_fixnr = df_filtered.groupby(['experience', 'Participant'])['FixNr'].sum().reset_index()\n",
    "\n",
    "# For each experience group, get the participant with the lowest FixNr\n",
    "lowest_fixnr_participants = participant_fixnr.loc[participant_fixnr.groupby('experience')['FixNr'].idxmin()]\n",
    "\n",
    "# Extract the participant IDs for the test set\n",
    "test_participants = lowest_fixnr_participants['Participant'].values\n",
    "\n",
    "test_df = df_filtered[df_filtered['Participant'].isin(test_participants)]\n",
    "train_df = df_filtered[~df_filtered['Participant'].isin(test_participants)]"
   ]
  },
  {
   "cell_type": "code",
   "execution_count": 5,
   "id": "89b67c24-aa12-44fb-864b-c2d9cd801ea6",
   "metadata": {},
   "outputs": [
    {
     "data": {
      "text/plain": [
       "array([1012., 9008.,   16.,   33.])"
      ]
     },
     "execution_count": 5,
     "metadata": {},
     "output_type": "execute_result"
    }
   ],
   "source": [
    "test_participants"
   ]
  },
  {
   "cell_type": "code",
   "execution_count": 6,
   "id": "16a1ecb4-8e75-4988-8b03-1ee582575d33",
   "metadata": {},
   "outputs": [
    {
     "data": {
      "text/plain": [
       "28316"
      ]
     },
     "execution_count": 6,
     "metadata": {},
     "output_type": "execute_result"
    }
   ],
   "source": [
    "len(train_df)"
   ]
  },
  {
   "cell_type": "code",
   "execution_count": 7,
   "id": "b8d679b4-aed4-4775-b2e6-ed0a989484a9",
   "metadata": {},
   "outputs": [
    {
     "data": {
      "text/plain": [
       "array([  16.,   33., 1012., 9008.])"
      ]
     },
     "execution_count": 7,
     "metadata": {},
     "output_type": "execute_result"
    }
   ],
   "source": [
    "test_df['Participant'].unique()\n"
   ]
  },
  {
   "cell_type": "code",
   "execution_count": 8,
   "id": "951109a4-c354-45a2-aa57-ac261c266ea0",
   "metadata": {},
   "outputs": [
    {
     "data": {
      "text/plain": [
       "array([2.000e+00, 4.000e+00, 7.000e+00, 1.100e+01, 1.200e+01, 1.300e+01,\n",
       "       1.400e+01, 1.500e+01, 1.800e+01, 1.900e+01, 2.000e+01, 2.100e+01,\n",
       "       2.300e+01, 2.400e+01, 2.500e+01, 2.800e+01, 2.900e+01, 3.000e+01,\n",
       "       3.200e+01, 1.010e+03, 1.011e+03, 1.013e+03, 1.014e+03, 1.017e+03,\n",
       "       1.018e+03, 1.019e+03, 1.020e+03, 9.001e+03, 9.002e+03, 9.003e+03,\n",
       "       9.004e+03, 9.005e+03])"
      ]
     },
     "execution_count": 8,
     "metadata": {},
     "output_type": "execute_result"
    }
   ],
   "source": [
    "train_df['Participant'].unique()"
   ]
  },
  {
   "cell_type": "code",
   "execution_count": 9,
   "id": "2a9249f6-d1ab-46a1-8098-87c47b7479d4",
   "metadata": {},
   "outputs": [],
   "source": [
    "features = [\"Image\", \"Scene\", \"ROI\", \"FixDur\", \"FixNr\", \"Start\", \"End\", \"X\", \"Y\"]\n",
    "features = [\"Image\", \"Scene\", \"ROI\", \"FixDur\", \"Start\", \"End\", \"X\", \"Y\"]\n",
    "\n",
    "label_col = 'experience'"
   ]
  },
  {
   "cell_type": "code",
   "execution_count": 10,
   "id": "257519ca-15e4-45d5-9091-c5a52517b01d",
   "metadata": {},
   "outputs": [],
   "source": [
    "X_train_raw = train_df[features]\n",
    "y_train_raw = train_df[label_col]\n",
    "X_test_raw = test_df[features]\n",
    "y_test_raw = test_df[label_col]"
   ]
  },
  {
   "cell_type": "code",
   "execution_count": 11,
   "id": "e8503c67-1d8a-443c-a08c-d3122eb8e0db",
   "metadata": {},
   "outputs": [],
   "source": [
    "label_encoder = LabelEncoder()\n",
    "y_train_encoded = label_encoder.fit_transform(y_train_raw)\n",
    "y_test_encoded = label_encoder.transform(y_test_raw)\n",
    "y_train_onehot = to_categorical(y_train_encoded)\n",
    "y_test_onehot = to_categorical(y_test_encoded)"
   ]
  },
  {
   "cell_type": "code",
   "execution_count": 12,
   "id": "e67123e4-4f73-430e-a52a-caed07b51af7",
   "metadata": {},
   "outputs": [],
   "source": [
    "scaler = StandardScaler()\n",
    "X_train_scaled = scaler.fit_transform(X_train_raw)\n",
    "X_test_scaled = scaler.transform(X_test_raw)"
   ]
  },
  {
   "cell_type": "code",
   "execution_count": 13,
   "id": "33ca87e7-6513-4488-bf54-33636500641f",
   "metadata": {},
   "outputs": [],
   "source": [
    "# --- Sliding window function ---\n",
    "def create_sequences(X, y, window_size):\n",
    "    X_seq, y_seq = [], []\n",
    "    for i in range(len(X) - window_size+1):\n",
    "        X_seq.append(X[i:i+window_size])\n",
    "        y_seq.append(y[i+window_size - 1])  # predict last item in window\n",
    "    return np.array(X_seq), np.array(y_seq)"
   ]
  },
  {
   "cell_type": "code",
   "execution_count": 14,
   "id": "12e8012a-ae2c-482c-8f33-610a6031bf2a",
   "metadata": {},
   "outputs": [],
   "source": [
    "window_size = 5  # adjust as needed\n",
    "X_train_seq, y_train_seq = create_sequences(X_train_scaled, y_train_onehot, window_size)\n",
    "X_test_seq, y_test_seq = create_sequences(X_test_scaled, y_test_onehot, window_size)"
   ]
  },
  {
   "cell_type": "code",
   "execution_count": 15,
   "id": "332d26a2-1837-4f34-afb4-e5b5157f5aba",
   "metadata": {
    "scrolled": true
   },
   "outputs": [
    {
     "name": "stdout",
     "output_type": "stream",
     "text": [
      "Epoch 1/200\n"
     ]
    },
    {
     "name": "stderr",
     "output_type": "stream",
     "text": [
      "W0000 00:00:1748877044.276945  396494 gpu_device.cc:2341] Cannot dlopen some GPU libraries. Please make sure the missing libraries mentioned above are installed properly if you would like to use GPU. Follow the guide at https://www.tensorflow.org/install/gpu for how to download and setup the required libraries for your platform.\n",
      "Skipping registering GPU devices...\n",
      "/home/sam/anaconda3/envs/tf310/lib/python3.10/site-packages/keras/src/layers/rnn/rnn.py:200: UserWarning: Do not pass an `input_shape`/`input_dim` argument to a layer. When using Sequential models, prefer using an `Input(shape)` object as the first layer in the model instead.\n",
      "  super().__init__(**kwargs)\n"
     ]
    },
    {
     "name": "stdout",
     "output_type": "stream",
     "text": [
      "\u001b[1m797/797\u001b[0m \u001b[32m━━━━━━━━━━━━━━━━━━━━\u001b[0m\u001b[37m\u001b[0m \u001b[1m3s\u001b[0m 2ms/step - accuracy: 0.2738 - loss: 1.5574 - val_accuracy: 0.0000e+00 - val_loss: 1.7734\n",
      "Epoch 2/200\n",
      "\u001b[1m797/797\u001b[0m \u001b[32m━━━━━━━━━━━━━━━━━━━━\u001b[0m\u001b[37m\u001b[0m \u001b[1m2s\u001b[0m 2ms/step - accuracy: 0.3064 - loss: 1.3733 - val_accuracy: 0.0000e+00 - val_loss: 1.7691\n",
      "Epoch 3/200\n",
      "\u001b[1m797/797\u001b[0m \u001b[32m━━━━━━━━━━━━━━━━━━━━\u001b[0m\u001b[37m\u001b[0m \u001b[1m1s\u001b[0m 2ms/step - accuracy: 0.3224 - loss: 1.3585 - val_accuracy: 0.0000e+00 - val_loss: 1.7692\n",
      "Epoch 4/200\n",
      "\u001b[1m797/797\u001b[0m \u001b[32m━━━━━━━━━━━━━━━━━━━━\u001b[0m\u001b[37m\u001b[0m \u001b[1m2s\u001b[0m 2ms/step - accuracy: 0.3258 - loss: 1.3505 - val_accuracy: 0.0000e+00 - val_loss: 1.7946\n",
      "Epoch 5/200\n",
      "\u001b[1m797/797\u001b[0m \u001b[32m━━━━━━━━━━━━━━━━━━━━\u001b[0m\u001b[37m\u001b[0m \u001b[1m1s\u001b[0m 2ms/step - accuracy: 0.3349 - loss: 1.3466 - val_accuracy: 3.5311e-04 - val_loss: 1.8577\n",
      "Epoch 6/200\n",
      "\u001b[1m797/797\u001b[0m \u001b[32m━━━━━━━━━━━━━━━━━━━━\u001b[0m\u001b[37m\u001b[0m \u001b[1m2s\u001b[0m 2ms/step - accuracy: 0.3434 - loss: 1.3390 - val_accuracy: 0.0042 - val_loss: 1.8919\n",
      "Epoch 7/200\n",
      "\u001b[1m797/797\u001b[0m \u001b[32m━━━━━━━━━━━━━━━━━━━━\u001b[0m\u001b[37m\u001b[0m \u001b[1m1s\u001b[0m 2ms/step - accuracy: 0.3372 - loss: 1.3356 - val_accuracy: 0.0018 - val_loss: 1.9522\n",
      "Epoch 8/200\n",
      "\u001b[1m797/797\u001b[0m \u001b[32m━━━━━━━━━━━━━━━━━━━━\u001b[0m\u001b[37m\u001b[0m \u001b[1m2s\u001b[0m 2ms/step - accuracy: 0.3471 - loss: 1.3342 - val_accuracy: 3.5311e-04 - val_loss: 1.9851\n",
      "Epoch 9/200\n",
      "\u001b[1m797/797\u001b[0m \u001b[32m━━━━━━━━━━━━━━━━━━━━\u001b[0m\u001b[37m\u001b[0m \u001b[1m2s\u001b[0m 2ms/step - accuracy: 0.3438 - loss: 1.3284 - val_accuracy: 0.0014 - val_loss: 1.9711\n",
      "Epoch 10/200\n",
      "\u001b[1m797/797\u001b[0m \u001b[32m━━━━━━━━━━━━━━━━━━━━\u001b[0m\u001b[37m\u001b[0m \u001b[1m2s\u001b[0m 2ms/step - accuracy: 0.3600 - loss: 1.3231 - val_accuracy: 3.5311e-04 - val_loss: 2.0148\n",
      "Epoch 11/200\n",
      "\u001b[1m797/797\u001b[0m \u001b[32m━━━━━━━━━━━━━━━━━━━━\u001b[0m\u001b[37m\u001b[0m \u001b[1m1s\u001b[0m 2ms/step - accuracy: 0.3596 - loss: 1.3156 - val_accuracy: 3.5311e-04 - val_loss: 2.0202\n",
      "Epoch 12/200\n",
      "\u001b[1m797/797\u001b[0m \u001b[32m━━━━━━━━━━━━━━━━━━━━\u001b[0m\u001b[37m\u001b[0m \u001b[1m2s\u001b[0m 2ms/step - accuracy: 0.3508 - loss: 1.3221 - val_accuracy: 0.0000e+00 - val_loss: 2.0360\n",
      "Epoch 13/200\n",
      "\u001b[1m797/797\u001b[0m \u001b[32m━━━━━━━━━━━━━━━━━━━━\u001b[0m\u001b[37m\u001b[0m \u001b[1m2s\u001b[0m 2ms/step - accuracy: 0.3551 - loss: 1.3179 - val_accuracy: 0.0000e+00 - val_loss: 2.0689\n",
      "Epoch 14/200\n",
      "\u001b[1m797/797\u001b[0m \u001b[32m━━━━━━━━━━━━━━━━━━━━\u001b[0m\u001b[37m\u001b[0m \u001b[1m1s\u001b[0m 2ms/step - accuracy: 0.3584 - loss: 1.3154 - val_accuracy: 0.0000e+00 - val_loss: 2.0737\n",
      "Epoch 15/200\n",
      "\u001b[1m797/797\u001b[0m \u001b[32m━━━━━━━━━━━━━━━━━━━━\u001b[0m\u001b[37m\u001b[0m \u001b[1m1s\u001b[0m 2ms/step - accuracy: 0.3589 - loss: 1.3125 - val_accuracy: 0.0000e+00 - val_loss: 2.0444\n",
      "Epoch 16/200\n",
      "\u001b[1m797/797\u001b[0m \u001b[32m━━━━━━━━━━━━━━━━━━━━\u001b[0m\u001b[37m\u001b[0m \u001b[1m2s\u001b[0m 2ms/step - accuracy: 0.3591 - loss: 1.3093 - val_accuracy: 0.0000e+00 - val_loss: 2.1053\n",
      "Epoch 17/200\n",
      "\u001b[1m797/797\u001b[0m \u001b[32m━━━━━━━━━━━━━━━━━━━━\u001b[0m\u001b[37m\u001b[0m \u001b[1m2s\u001b[0m 2ms/step - accuracy: 0.3636 - loss: 1.3059 - val_accuracy: 0.0000e+00 - val_loss: 2.0946\n",
      "Epoch 18/200\n",
      "\u001b[1m797/797\u001b[0m \u001b[32m━━━━━━━━━━━━━━━━━━━━\u001b[0m\u001b[37m\u001b[0m \u001b[1m1s\u001b[0m 2ms/step - accuracy: 0.3640 - loss: 1.3072 - val_accuracy: 0.0000e+00 - val_loss: 2.1472\n",
      "Epoch 19/200\n",
      "\u001b[1m797/797\u001b[0m \u001b[32m━━━━━━━━━━━━━━━━━━━━\u001b[0m\u001b[37m\u001b[0m \u001b[1m1s\u001b[0m 2ms/step - accuracy: 0.3656 - loss: 1.3019 - val_accuracy: 0.0000e+00 - val_loss: 2.0944\n",
      "Epoch 20/200\n",
      "\u001b[1m797/797\u001b[0m \u001b[32m━━━━━━━━━━━━━━━━━━━━\u001b[0m\u001b[37m\u001b[0m \u001b[1m2s\u001b[0m 2ms/step - accuracy: 0.3643 - loss: 1.3043 - val_accuracy: 0.0000e+00 - val_loss: 2.1126\n",
      "Epoch 21/200\n",
      "\u001b[1m797/797\u001b[0m \u001b[32m━━━━━━━━━━━━━━━━━━━━\u001b[0m\u001b[37m\u001b[0m \u001b[1m2s\u001b[0m 2ms/step - accuracy: 0.3704 - loss: 1.2993 - val_accuracy: 0.0000e+00 - val_loss: 2.1856\n",
      "Epoch 22/200\n",
      "\u001b[1m797/797\u001b[0m \u001b[32m━━━━━━━━━━━━━━━━━━━━\u001b[0m\u001b[37m\u001b[0m \u001b[1m2s\u001b[0m 2ms/step - accuracy: 0.3648 - loss: 1.3038 - val_accuracy: 0.0000e+00 - val_loss: 2.1661\n",
      "Epoch 23/200\n",
      "\u001b[1m797/797\u001b[0m \u001b[32m━━━━━━━━━━━━━━━━━━━━\u001b[0m\u001b[37m\u001b[0m \u001b[1m2s\u001b[0m 2ms/step - accuracy: 0.3701 - loss: 1.3013 - val_accuracy: 0.0000e+00 - val_loss: 2.1396\n",
      "Epoch 24/200\n",
      "\u001b[1m797/797\u001b[0m \u001b[32m━━━━━━━━━━━━━━━━━━━━\u001b[0m\u001b[37m\u001b[0m \u001b[1m2s\u001b[0m 2ms/step - accuracy: 0.3741 - loss: 1.2970 - val_accuracy: 0.0000e+00 - val_loss: 2.1491\n",
      "Epoch 25/200\n",
      "\u001b[1m797/797\u001b[0m \u001b[32m━━━━━━━━━━━━━━━━━━━━\u001b[0m\u001b[37m\u001b[0m \u001b[1m2s\u001b[0m 2ms/step - accuracy: 0.3661 - loss: 1.2997 - val_accuracy: 0.0000e+00 - val_loss: 2.1681\n",
      "Epoch 26/200\n",
      "\u001b[1m797/797\u001b[0m \u001b[32m━━━━━━━━━━━━━━━━━━━━\u001b[0m\u001b[37m\u001b[0m \u001b[1m2s\u001b[0m 2ms/step - accuracy: 0.3727 - loss: 1.2951 - val_accuracy: 0.0000e+00 - val_loss: 2.1435\n",
      "Epoch 27/200\n",
      "\u001b[1m797/797\u001b[0m \u001b[32m━━━━━━━━━━━━━━━━━━━━\u001b[0m\u001b[37m\u001b[0m \u001b[1m2s\u001b[0m 2ms/step - accuracy: 0.3701 - loss: 1.2938 - val_accuracy: 0.0000e+00 - val_loss: 2.1544\n",
      "Epoch 28/200\n",
      "\u001b[1m797/797\u001b[0m \u001b[32m━━━━━━━━━━━━━━━━━━━━\u001b[0m\u001b[37m\u001b[0m \u001b[1m2s\u001b[0m 2ms/step - accuracy: 0.3756 - loss: 1.2935 - val_accuracy: 0.0000e+00 - val_loss: 2.2060\n",
      "Epoch 29/200\n",
      "\u001b[1m797/797\u001b[0m \u001b[32m━━━━━━━━━━━━━━━━━━━━\u001b[0m\u001b[37m\u001b[0m \u001b[1m1s\u001b[0m 2ms/step - accuracy: 0.3713 - loss: 1.2938 - val_accuracy: 0.0000e+00 - val_loss: 2.1915\n",
      "Epoch 30/200\n",
      "\u001b[1m797/797\u001b[0m \u001b[32m━━━━━━━━━━━━━━━━━━━━\u001b[0m\u001b[37m\u001b[0m \u001b[1m2s\u001b[0m 2ms/step - accuracy: 0.3785 - loss: 1.2914 - val_accuracy: 0.0000e+00 - val_loss: 2.2317\n",
      "Epoch 31/200\n",
      "\u001b[1m797/797\u001b[0m \u001b[32m━━━━━━━━━━━━━━━━━━━━\u001b[0m\u001b[37m\u001b[0m \u001b[1m2s\u001b[0m 2ms/step - accuracy: 0.3732 - loss: 1.2911 - val_accuracy: 0.0000e+00 - val_loss: 2.1870\n",
      "Epoch 32/200\n",
      "\u001b[1m797/797\u001b[0m \u001b[32m━━━━━━━━━━━━━━━━━━━━\u001b[0m\u001b[37m\u001b[0m \u001b[1m2s\u001b[0m 2ms/step - accuracy: 0.3675 - loss: 1.2992 - val_accuracy: 0.0000e+00 - val_loss: 2.2168\n",
      "Epoch 33/200\n",
      "\u001b[1m797/797\u001b[0m \u001b[32m━━━━━━━━━━━━━━━━━━━━\u001b[0m\u001b[37m\u001b[0m \u001b[1m2s\u001b[0m 2ms/step - accuracy: 0.3741 - loss: 1.2941 - val_accuracy: 0.0000e+00 - val_loss: 2.1862\n",
      "Epoch 34/200\n",
      "\u001b[1m797/797\u001b[0m \u001b[32m━━━━━━━━━━━━━━━━━━━━\u001b[0m\u001b[37m\u001b[0m \u001b[1m2s\u001b[0m 2ms/step - accuracy: 0.3710 - loss: 1.2948 - val_accuracy: 0.0000e+00 - val_loss: 2.1831\n",
      "Epoch 35/200\n",
      "\u001b[1m797/797\u001b[0m \u001b[32m━━━━━━━━━━━━━━━━━━━━\u001b[0m\u001b[37m\u001b[0m \u001b[1m2s\u001b[0m 2ms/step - accuracy: 0.3753 - loss: 1.2938 - val_accuracy: 0.0000e+00 - val_loss: 2.1816\n",
      "Epoch 36/200\n",
      "\u001b[1m797/797\u001b[0m \u001b[32m━━━━━━━━━━━━━━━━━━━━\u001b[0m\u001b[37m\u001b[0m \u001b[1m2s\u001b[0m 2ms/step - accuracy: 0.3770 - loss: 1.2928 - val_accuracy: 0.0000e+00 - val_loss: 2.1948\n",
      "Epoch 37/200\n",
      "\u001b[1m797/797\u001b[0m \u001b[32m━━━━━━━━━━━━━━━━━━━━\u001b[0m\u001b[37m\u001b[0m \u001b[1m2s\u001b[0m 2ms/step - accuracy: 0.3836 - loss: 1.2874 - val_accuracy: 0.0000e+00 - val_loss: 2.2025\n",
      "Epoch 38/200\n",
      "\u001b[1m797/797\u001b[0m \u001b[32m━━━━━━━━━━━━━━━━━━━━\u001b[0m\u001b[37m\u001b[0m \u001b[1m2s\u001b[0m 2ms/step - accuracy: 0.3834 - loss: 1.2880 - val_accuracy: 0.0000e+00 - val_loss: 2.2249\n",
      "Epoch 39/200\n",
      "\u001b[1m797/797\u001b[0m \u001b[32m━━━━━━━━━━━━━━━━━━━━\u001b[0m\u001b[37m\u001b[0m \u001b[1m2s\u001b[0m 2ms/step - accuracy: 0.3800 - loss: 1.2877 - val_accuracy: 0.0000e+00 - val_loss: 2.1886\n",
      "Epoch 40/200\n",
      "\u001b[1m797/797\u001b[0m \u001b[32m━━━━━━━━━━━━━━━━━━━━\u001b[0m\u001b[37m\u001b[0m \u001b[1m2s\u001b[0m 2ms/step - accuracy: 0.3763 - loss: 1.2857 - val_accuracy: 0.0000e+00 - val_loss: 2.2310\n",
      "Epoch 41/200\n",
      "\u001b[1m797/797\u001b[0m \u001b[32m━━━━━━━━━━━━━━━━━━━━\u001b[0m\u001b[37m\u001b[0m \u001b[1m2s\u001b[0m 2ms/step - accuracy: 0.3758 - loss: 1.2895 - val_accuracy: 0.0000e+00 - val_loss: 2.1854\n",
      "Epoch 42/200\n",
      "\u001b[1m797/797\u001b[0m \u001b[32m━━━━━━━━━━━━━━━━━━━━\u001b[0m\u001b[37m\u001b[0m \u001b[1m2s\u001b[0m 2ms/step - accuracy: 0.3746 - loss: 1.2882 - val_accuracy: 0.0000e+00 - val_loss: 2.1714\n",
      "Epoch 43/200\n",
      "\u001b[1m797/797\u001b[0m \u001b[32m━━━━━━━━━━━━━━━━━━━━\u001b[0m\u001b[37m\u001b[0m \u001b[1m1s\u001b[0m 2ms/step - accuracy: 0.3820 - loss: 1.2882 - val_accuracy: 0.0000e+00 - val_loss: 2.1917\n",
      "Epoch 44/200\n",
      "\u001b[1m797/797\u001b[0m \u001b[32m━━━━━━━━━━━━━━━━━━━━\u001b[0m\u001b[37m\u001b[0m \u001b[1m2s\u001b[0m 2ms/step - accuracy: 0.3789 - loss: 1.2852 - val_accuracy: 0.0000e+00 - val_loss: 2.1997\n",
      "Epoch 45/200\n",
      "\u001b[1m797/797\u001b[0m \u001b[32m━━━━━━━━━━━━━━━━━━━━\u001b[0m\u001b[37m\u001b[0m \u001b[1m2s\u001b[0m 2ms/step - accuracy: 0.3747 - loss: 1.2888 - val_accuracy: 0.0000e+00 - val_loss: 2.1716\n",
      "Epoch 46/200\n",
      "\u001b[1m797/797\u001b[0m \u001b[32m━━━━━━━━━━━━━━━━━━━━\u001b[0m\u001b[37m\u001b[0m \u001b[1m2s\u001b[0m 2ms/step - accuracy: 0.3814 - loss: 1.2831 - val_accuracy: 0.0000e+00 - val_loss: 2.1991\n",
      "Epoch 47/200\n",
      "\u001b[1m797/797\u001b[0m \u001b[32m━━━━━━━━━━━━━━━━━━━━\u001b[0m\u001b[37m\u001b[0m \u001b[1m2s\u001b[0m 2ms/step - accuracy: 0.3759 - loss: 1.2865 - val_accuracy: 0.0000e+00 - val_loss: 2.1835\n",
      "Epoch 48/200\n",
      "\u001b[1m797/797\u001b[0m \u001b[32m━━━━━━━━━━━━━━━━━━━━\u001b[0m\u001b[37m\u001b[0m \u001b[1m2s\u001b[0m 2ms/step - accuracy: 0.3788 - loss: 1.2858 - val_accuracy: 0.0000e+00 - val_loss: 2.1561\n",
      "Epoch 49/200\n",
      "\u001b[1m797/797\u001b[0m \u001b[32m━━━━━━━━━━━━━━━━━━━━\u001b[0m\u001b[37m\u001b[0m \u001b[1m2s\u001b[0m 2ms/step - accuracy: 0.3838 - loss: 1.2824 - val_accuracy: 0.0000e+00 - val_loss: 2.1897\n",
      "Epoch 50/200\n",
      "\u001b[1m797/797\u001b[0m \u001b[32m━━━━━━━━━━━━━━━━━━━━\u001b[0m\u001b[37m\u001b[0m \u001b[1m2s\u001b[0m 2ms/step - accuracy: 0.3782 - loss: 1.2849 - val_accuracy: 0.0000e+00 - val_loss: 2.2574\n",
      "Epoch 51/200\n",
      "\u001b[1m797/797\u001b[0m \u001b[32m━━━━━━━━━━━━━━━━━━━━\u001b[0m\u001b[37m\u001b[0m \u001b[1m2s\u001b[0m 2ms/step - accuracy: 0.3814 - loss: 1.2845 - val_accuracy: 0.0000e+00 - val_loss: 2.1601\n",
      "Epoch 52/200\n",
      "\u001b[1m797/797\u001b[0m \u001b[32m━━━━━━━━━━━━━━━━━━━━\u001b[0m\u001b[37m\u001b[0m \u001b[1m2s\u001b[0m 2ms/step - accuracy: 0.3807 - loss: 1.2864 - val_accuracy: 0.0000e+00 - val_loss: 2.2170\n",
      "Epoch 53/200\n",
      "\u001b[1m797/797\u001b[0m \u001b[32m━━━━━━━━━━━━━━━━━━━━\u001b[0m\u001b[37m\u001b[0m \u001b[1m2s\u001b[0m 2ms/step - accuracy: 0.3833 - loss: 1.2815 - val_accuracy: 0.0000e+00 - val_loss: 2.2154\n",
      "Epoch 54/200\n",
      "\u001b[1m797/797\u001b[0m \u001b[32m━━━━━━━━━━━━━━━━━━━━\u001b[0m\u001b[37m\u001b[0m \u001b[1m2s\u001b[0m 2ms/step - accuracy: 0.3870 - loss: 1.2783 - val_accuracy: 0.0000e+00 - val_loss: 2.1846\n",
      "Epoch 55/200\n",
      "\u001b[1m797/797\u001b[0m \u001b[32m━━━━━━━━━━━━━━━━━━━━\u001b[0m\u001b[37m\u001b[0m \u001b[1m2s\u001b[0m 2ms/step - accuracy: 0.3840 - loss: 1.2781 - val_accuracy: 0.0000e+00 - val_loss: 2.2422\n",
      "Epoch 56/200\n",
      "\u001b[1m797/797\u001b[0m \u001b[32m━━━━━━━━━━━━━━━━━━━━\u001b[0m\u001b[37m\u001b[0m \u001b[1m2s\u001b[0m 2ms/step - accuracy: 0.3751 - loss: 1.2840 - val_accuracy: 0.0000e+00 - val_loss: 2.2657\n",
      "Epoch 57/200\n",
      "\u001b[1m797/797\u001b[0m \u001b[32m━━━━━━━━━━━━━━━━━━━━\u001b[0m\u001b[37m\u001b[0m \u001b[1m2s\u001b[0m 2ms/step - accuracy: 0.3757 - loss: 1.2806 - val_accuracy: 0.0000e+00 - val_loss: 2.1946\n",
      "Epoch 58/200\n",
      "\u001b[1m797/797\u001b[0m \u001b[32m━━━━━━━━━━━━━━━━━━━━\u001b[0m\u001b[37m\u001b[0m \u001b[1m2s\u001b[0m 2ms/step - accuracy: 0.3846 - loss: 1.2795 - val_accuracy: 0.0000e+00 - val_loss: 2.2549\n",
      "Epoch 59/200\n",
      "\u001b[1m797/797\u001b[0m \u001b[32m━━━━━━━━━━━━━━━━━━━━\u001b[0m\u001b[37m\u001b[0m \u001b[1m2s\u001b[0m 2ms/step - accuracy: 0.3787 - loss: 1.2778 - val_accuracy: 0.0000e+00 - val_loss: 2.1680\n",
      "Epoch 60/200\n",
      "\u001b[1m797/797\u001b[0m \u001b[32m━━━━━━━━━━━━━━━━━━━━\u001b[0m\u001b[37m\u001b[0m \u001b[1m2s\u001b[0m 2ms/step - accuracy: 0.3839 - loss: 1.2718 - val_accuracy: 0.0000e+00 - val_loss: 2.1538\n",
      "Epoch 61/200\n",
      "\u001b[1m797/797\u001b[0m \u001b[32m━━━━━━━━━━━━━━━━━━━━\u001b[0m\u001b[37m\u001b[0m \u001b[1m2s\u001b[0m 2ms/step - accuracy: 0.3848 - loss: 1.2772 - val_accuracy: 0.0000e+00 - val_loss: 2.1223\n",
      "Epoch 62/200\n",
      "\u001b[1m797/797\u001b[0m \u001b[32m━━━━━━━━━━━━━━━━━━━━\u001b[0m\u001b[37m\u001b[0m \u001b[1m2s\u001b[0m 2ms/step - accuracy: 0.3793 - loss: 1.2810 - val_accuracy: 0.0000e+00 - val_loss: 2.2186\n",
      "Epoch 63/200\n",
      "\u001b[1m797/797\u001b[0m \u001b[32m━━━━━━━━━━━━━━━━━━━━\u001b[0m\u001b[37m\u001b[0m \u001b[1m2s\u001b[0m 2ms/step - accuracy: 0.3819 - loss: 1.2773 - val_accuracy: 0.0000e+00 - val_loss: 2.2187\n",
      "Epoch 64/200\n",
      "\u001b[1m797/797\u001b[0m \u001b[32m━━━━━━━━━━━━━━━━━━━━\u001b[0m\u001b[37m\u001b[0m \u001b[1m2s\u001b[0m 2ms/step - accuracy: 0.3912 - loss: 1.2746 - val_accuracy: 0.0000e+00 - val_loss: 2.1779\n",
      "Epoch 65/200\n",
      "\u001b[1m797/797\u001b[0m \u001b[32m━━━━━━━━━━━━━━━━━━━━\u001b[0m\u001b[37m\u001b[0m \u001b[1m2s\u001b[0m 2ms/step - accuracy: 0.3861 - loss: 1.2755 - val_accuracy: 0.0000e+00 - val_loss: 2.2129\n",
      "Epoch 66/200\n",
      "\u001b[1m797/797\u001b[0m \u001b[32m━━━━━━━━━━━━━━━━━━━━\u001b[0m\u001b[37m\u001b[0m \u001b[1m2s\u001b[0m 2ms/step - accuracy: 0.3866 - loss: 1.2782 - val_accuracy: 0.0000e+00 - val_loss: 2.2090\n",
      "Epoch 67/200\n",
      "\u001b[1m797/797\u001b[0m \u001b[32m━━━━━━━━━━━━━━━━━━━━\u001b[0m\u001b[37m\u001b[0m \u001b[1m2s\u001b[0m 2ms/step - accuracy: 0.3821 - loss: 1.2789 - val_accuracy: 0.0000e+00 - val_loss: 2.1643\n",
      "Epoch 68/200\n",
      "\u001b[1m797/797\u001b[0m \u001b[32m━━━━━━━━━━━━━━━━━━━━\u001b[0m\u001b[37m\u001b[0m \u001b[1m2s\u001b[0m 2ms/step - accuracy: 0.3862 - loss: 1.2765 - val_accuracy: 0.0000e+00 - val_loss: 2.1927\n",
      "Epoch 69/200\n",
      "\u001b[1m797/797\u001b[0m \u001b[32m━━━━━━━━━━━━━━━━━━━━\u001b[0m\u001b[37m\u001b[0m \u001b[1m2s\u001b[0m 2ms/step - accuracy: 0.3856 - loss: 1.2741 - val_accuracy: 0.0000e+00 - val_loss: 2.1520\n",
      "Epoch 70/200\n",
      "\u001b[1m797/797\u001b[0m \u001b[32m━━━━━━━━━━━━━━━━━━━━\u001b[0m\u001b[37m\u001b[0m \u001b[1m2s\u001b[0m 2ms/step - accuracy: 0.3895 - loss: 1.2727 - val_accuracy: 3.5311e-04 - val_loss: 2.1730\n",
      "Epoch 71/200\n",
      "\u001b[1m797/797\u001b[0m \u001b[32m━━━━━━━━━━━━━━━━━━━━\u001b[0m\u001b[37m\u001b[0m \u001b[1m2s\u001b[0m 2ms/step - accuracy: 0.3761 - loss: 1.2831 - val_accuracy: 0.0000e+00 - val_loss: 2.1489\n",
      "Epoch 72/200\n",
      "\u001b[1m797/797\u001b[0m \u001b[32m━━━━━━━━━━━━━━━━━━━━\u001b[0m\u001b[37m\u001b[0m \u001b[1m2s\u001b[0m 2ms/step - accuracy: 0.3820 - loss: 1.2778 - val_accuracy: 0.0000e+00 - val_loss: 2.2517\n",
      "Epoch 73/200\n",
      "\u001b[1m797/797\u001b[0m \u001b[32m━━━━━━━━━━━━━━━━━━━━\u001b[0m\u001b[37m\u001b[0m \u001b[1m2s\u001b[0m 2ms/step - accuracy: 0.3897 - loss: 1.2717 - val_accuracy: 0.0000e+00 - val_loss: 2.2361\n",
      "Epoch 74/200\n",
      "\u001b[1m797/797\u001b[0m \u001b[32m━━━━━━━━━━━━━━━━━━━━\u001b[0m\u001b[37m\u001b[0m \u001b[1m2s\u001b[0m 2ms/step - accuracy: 0.3894 - loss: 1.2719 - val_accuracy: 0.0000e+00 - val_loss: 2.1506\n",
      "Epoch 75/200\n",
      "\u001b[1m797/797\u001b[0m \u001b[32m━━━━━━━━━━━━━━━━━━━━\u001b[0m\u001b[37m\u001b[0m \u001b[1m2s\u001b[0m 2ms/step - accuracy: 0.3874 - loss: 1.2792 - val_accuracy: 0.0000e+00 - val_loss: 2.1924\n",
      "Epoch 76/200\n",
      "\u001b[1m797/797\u001b[0m \u001b[32m━━━━━━━━━━━━━━━━━━━━\u001b[0m\u001b[37m\u001b[0m \u001b[1m2s\u001b[0m 2ms/step - accuracy: 0.3956 - loss: 1.2711 - val_accuracy: 0.0000e+00 - val_loss: 2.1937\n",
      "Epoch 77/200\n",
      "\u001b[1m797/797\u001b[0m \u001b[32m━━━━━━━━━━━━━━━━━━━━\u001b[0m\u001b[37m\u001b[0m \u001b[1m2s\u001b[0m 2ms/step - accuracy: 0.3855 - loss: 1.2737 - val_accuracy: 3.5311e-04 - val_loss: 2.2331\n",
      "Epoch 78/200\n",
      "\u001b[1m797/797\u001b[0m \u001b[32m━━━━━━━━━━━━━━━━━━━━\u001b[0m\u001b[37m\u001b[0m \u001b[1m2s\u001b[0m 2ms/step - accuracy: 0.3926 - loss: 1.2692 - val_accuracy: 7.0621e-04 - val_loss: 2.1403\n",
      "Epoch 79/200\n",
      "\u001b[1m797/797\u001b[0m \u001b[32m━━━━━━━━━━━━━━━━━━━━\u001b[0m\u001b[37m\u001b[0m \u001b[1m2s\u001b[0m 2ms/step - accuracy: 0.3800 - loss: 1.2762 - val_accuracy: 0.0000e+00 - val_loss: 2.1955\n",
      "Epoch 80/200\n",
      "\u001b[1m797/797\u001b[0m \u001b[32m━━━━━━━━━━━━━━━━━━━━\u001b[0m\u001b[37m\u001b[0m \u001b[1m2s\u001b[0m 2ms/step - accuracy: 0.3817 - loss: 1.2757 - val_accuracy: 0.0000e+00 - val_loss: 2.2134\n",
      "Epoch 81/200\n",
      "\u001b[1m797/797\u001b[0m \u001b[32m━━━━━━━━━━━━━━━━━━━━\u001b[0m\u001b[37m\u001b[0m \u001b[1m2s\u001b[0m 2ms/step - accuracy: 0.3842 - loss: 1.2753 - val_accuracy: 3.5311e-04 - val_loss: 2.1654\n",
      "Epoch 82/200\n",
      "\u001b[1m797/797\u001b[0m \u001b[32m━━━━━━━━━━━━━━━━━━━━\u001b[0m\u001b[37m\u001b[0m \u001b[1m2s\u001b[0m 2ms/step - accuracy: 0.3860 - loss: 1.2730 - val_accuracy: 3.5311e-04 - val_loss: 2.1526\n",
      "Epoch 83/200\n",
      "\u001b[1m797/797\u001b[0m \u001b[32m━━━━━━━━━━━━━━━━━━━━\u001b[0m\u001b[37m\u001b[0m \u001b[1m2s\u001b[0m 2ms/step - accuracy: 0.3911 - loss: 1.2680 - val_accuracy: 3.5311e-04 - val_loss: 2.1645\n",
      "Epoch 84/200\n",
      "\u001b[1m797/797\u001b[0m \u001b[32m━━━━━━━━━━━━━━━━━━━━\u001b[0m\u001b[37m\u001b[0m \u001b[1m2s\u001b[0m 2ms/step - accuracy: 0.3889 - loss: 1.2740 - val_accuracy: 0.0000e+00 - val_loss: 2.2236\n",
      "Epoch 85/200\n",
      "\u001b[1m797/797\u001b[0m \u001b[32m━━━━━━━━━━━━━━━━━━━━\u001b[0m\u001b[37m\u001b[0m \u001b[1m2s\u001b[0m 2ms/step - accuracy: 0.3902 - loss: 1.2700 - val_accuracy: 3.5311e-04 - val_loss: 2.1552\n",
      "Epoch 86/200\n",
      "\u001b[1m797/797\u001b[0m \u001b[32m━━━━━━━━━━━━━━━━━━━━\u001b[0m\u001b[37m\u001b[0m \u001b[1m2s\u001b[0m 2ms/step - accuracy: 0.3891 - loss: 1.2755 - val_accuracy: 3.5311e-04 - val_loss: 2.1329\n",
      "Epoch 87/200\n",
      "\u001b[1m797/797\u001b[0m \u001b[32m━━━━━━━━━━━━━━━━━━━━\u001b[0m\u001b[37m\u001b[0m \u001b[1m2s\u001b[0m 2ms/step - accuracy: 0.3801 - loss: 1.2796 - val_accuracy: 3.5311e-04 - val_loss: 2.1335\n",
      "Epoch 88/200\n",
      "\u001b[1m797/797\u001b[0m \u001b[32m━━━━━━━━━━━━━━━━━━━━\u001b[0m\u001b[37m\u001b[0m \u001b[1m2s\u001b[0m 2ms/step - accuracy: 0.3952 - loss: 1.2724 - val_accuracy: 0.0000e+00 - val_loss: 2.1382\n",
      "Epoch 89/200\n",
      "\u001b[1m797/797\u001b[0m \u001b[32m━━━━━━━━━━━━━━━━━━━━\u001b[0m\u001b[37m\u001b[0m \u001b[1m2s\u001b[0m 2ms/step - accuracy: 0.3882 - loss: 1.2724 - val_accuracy: 3.5311e-04 - val_loss: 2.1621\n",
      "Epoch 90/200\n",
      "\u001b[1m797/797\u001b[0m \u001b[32m━━━━━━━━━━━━━━━━━━━━\u001b[0m\u001b[37m\u001b[0m \u001b[1m2s\u001b[0m 2ms/step - accuracy: 0.3891 - loss: 1.2722 - val_accuracy: 0.0000e+00 - val_loss: 2.1212\n",
      "Epoch 91/200\n",
      "\u001b[1m797/797\u001b[0m \u001b[32m━━━━━━━━━━━━━━━━━━━━\u001b[0m\u001b[37m\u001b[0m \u001b[1m2s\u001b[0m 2ms/step - accuracy: 0.3934 - loss: 1.2678 - val_accuracy: 3.5311e-04 - val_loss: 2.1854\n",
      "Epoch 92/200\n",
      "\u001b[1m797/797\u001b[0m \u001b[32m━━━━━━━━━━━━━━━━━━━━\u001b[0m\u001b[37m\u001b[0m \u001b[1m2s\u001b[0m 2ms/step - accuracy: 0.3894 - loss: 1.2707 - val_accuracy: 3.5311e-04 - val_loss: 2.1366\n",
      "Epoch 93/200\n",
      "\u001b[1m797/797\u001b[0m \u001b[32m━━━━━━━━━━━━━━━━━━━━\u001b[0m\u001b[37m\u001b[0m \u001b[1m2s\u001b[0m 2ms/step - accuracy: 0.3864 - loss: 1.2646 - val_accuracy: 0.0000e+00 - val_loss: 2.1005\n",
      "Epoch 94/200\n",
      "\u001b[1m797/797\u001b[0m \u001b[32m━━━━━━━━━━━━━━━━━━━━\u001b[0m\u001b[37m\u001b[0m \u001b[1m2s\u001b[0m 2ms/step - accuracy: 0.3940 - loss: 1.2735 - val_accuracy: 7.0621e-04 - val_loss: 2.1547\n",
      "Epoch 95/200\n",
      "\u001b[1m797/797\u001b[0m \u001b[32m━━━━━━━━━━━━━━━━━━━━\u001b[0m\u001b[37m\u001b[0m \u001b[1m2s\u001b[0m 2ms/step - accuracy: 0.3865 - loss: 1.2661 - val_accuracy: 3.5311e-04 - val_loss: 2.1820\n",
      "Epoch 96/200\n",
      "\u001b[1m797/797\u001b[0m \u001b[32m━━━━━━━━━━━━━━━━━━━━\u001b[0m\u001b[37m\u001b[0m \u001b[1m2s\u001b[0m 2ms/step - accuracy: 0.3856 - loss: 1.2711 - val_accuracy: 7.0621e-04 - val_loss: 2.1566\n",
      "Epoch 97/200\n",
      "\u001b[1m797/797\u001b[0m \u001b[32m━━━━━━━━━━━━━━━━━━━━\u001b[0m\u001b[37m\u001b[0m \u001b[1m2s\u001b[0m 2ms/step - accuracy: 0.3896 - loss: 1.2733 - val_accuracy: 0.0000e+00 - val_loss: 2.1940\n",
      "Epoch 98/200\n",
      "\u001b[1m797/797\u001b[0m \u001b[32m━━━━━━━━━━━━━━━━━━━━\u001b[0m\u001b[37m\u001b[0m \u001b[1m2s\u001b[0m 2ms/step - accuracy: 0.3941 - loss: 1.2677 - val_accuracy: 3.5311e-04 - val_loss: 2.1770\n",
      "Epoch 99/200\n",
      "\u001b[1m797/797\u001b[0m \u001b[32m━━━━━━━━━━━━━━━━━━━━\u001b[0m\u001b[37m\u001b[0m \u001b[1m2s\u001b[0m 2ms/step - accuracy: 0.3989 - loss: 1.2630 - val_accuracy: 0.0014 - val_loss: 2.1330\n",
      "Epoch 100/200\n",
      "\u001b[1m797/797\u001b[0m \u001b[32m━━━━━━━━━━━━━━━━━━━━\u001b[0m\u001b[37m\u001b[0m \u001b[1m2s\u001b[0m 2ms/step - accuracy: 0.3928 - loss: 1.2613 - val_accuracy: 0.0014 - val_loss: 2.0705\n",
      "Epoch 101/200\n",
      "\u001b[1m797/797\u001b[0m \u001b[32m━━━━━━━━━━━━━━━━━━━━\u001b[0m\u001b[37m\u001b[0m \u001b[1m2s\u001b[0m 2ms/step - accuracy: 0.3884 - loss: 1.2662 - val_accuracy: 0.0000e+00 - val_loss: 2.1655\n",
      "Epoch 102/200\n",
      "\u001b[1m797/797\u001b[0m \u001b[32m━━━━━━━━━━━━━━━━━━━━\u001b[0m\u001b[37m\u001b[0m \u001b[1m2s\u001b[0m 2ms/step - accuracy: 0.3873 - loss: 1.2672 - val_accuracy: 0.0011 - val_loss: 2.1673\n",
      "Epoch 103/200\n",
      "\u001b[1m797/797\u001b[0m \u001b[32m━━━━━━━━━━━━━━━━━━━━\u001b[0m\u001b[37m\u001b[0m \u001b[1m2s\u001b[0m 2ms/step - accuracy: 0.3919 - loss: 1.2618 - val_accuracy: 7.0621e-04 - val_loss: 2.1061\n",
      "Epoch 104/200\n",
      "\u001b[1m797/797\u001b[0m \u001b[32m━━━━━━━━━━━━━━━━━━━━\u001b[0m\u001b[37m\u001b[0m \u001b[1m2s\u001b[0m 2ms/step - accuracy: 0.3945 - loss: 1.2689 - val_accuracy: 0.0000e+00 - val_loss: 2.1221\n",
      "Epoch 105/200\n",
      "\u001b[1m797/797\u001b[0m \u001b[32m━━━━━━━━━━━━━━━━━━━━\u001b[0m\u001b[37m\u001b[0m \u001b[1m2s\u001b[0m 2ms/step - accuracy: 0.3847 - loss: 1.2726 - val_accuracy: 3.5311e-04 - val_loss: 2.1613\n",
      "Epoch 106/200\n",
      "\u001b[1m797/797\u001b[0m \u001b[32m━━━━━━━━━━━━━━━━━━━━\u001b[0m\u001b[37m\u001b[0m \u001b[1m2s\u001b[0m 2ms/step - accuracy: 0.3943 - loss: 1.2626 - val_accuracy: 3.5311e-04 - val_loss: 2.1341\n",
      "Epoch 107/200\n",
      "\u001b[1m797/797\u001b[0m \u001b[32m━━━━━━━━━━━━━━━━━━━━\u001b[0m\u001b[37m\u001b[0m \u001b[1m2s\u001b[0m 2ms/step - accuracy: 0.3919 - loss: 1.2662 - val_accuracy: 0.0000e+00 - val_loss: 2.1218\n",
      "Epoch 108/200\n",
      "\u001b[1m797/797\u001b[0m \u001b[32m━━━━━━━━━━━━━━━━━━━━\u001b[0m\u001b[37m\u001b[0m \u001b[1m2s\u001b[0m 2ms/step - accuracy: 0.3916 - loss: 1.2635 - val_accuracy: 3.5311e-04 - val_loss: 2.0943\n",
      "Epoch 109/200\n",
      "\u001b[1m797/797\u001b[0m \u001b[32m━━━━━━━━━━━━━━━━━━━━\u001b[0m\u001b[37m\u001b[0m \u001b[1m2s\u001b[0m 2ms/step - accuracy: 0.3920 - loss: 1.2677 - val_accuracy: 3.5311e-04 - val_loss: 2.0980\n",
      "Epoch 110/200\n",
      "\u001b[1m797/797\u001b[0m \u001b[32m━━━━━━━━━━━━━━━━━━━━\u001b[0m\u001b[37m\u001b[0m \u001b[1m2s\u001b[0m 2ms/step - accuracy: 0.3892 - loss: 1.2711 - val_accuracy: 3.5311e-04 - val_loss: 2.1141\n",
      "Epoch 111/200\n",
      "\u001b[1m797/797\u001b[0m \u001b[32m━━━━━━━━━━━━━━━━━━━━\u001b[0m\u001b[37m\u001b[0m \u001b[1m2s\u001b[0m 2ms/step - accuracy: 0.3966 - loss: 1.2584 - val_accuracy: 3.5311e-04 - val_loss: 2.1365\n",
      "Epoch 112/200\n",
      "\u001b[1m797/797\u001b[0m \u001b[32m━━━━━━━━━━━━━━━━━━━━\u001b[0m\u001b[37m\u001b[0m \u001b[1m2s\u001b[0m 2ms/step - accuracy: 0.3943 - loss: 1.2631 - val_accuracy: 3.5311e-04 - val_loss: 2.0744\n",
      "Epoch 113/200\n",
      "\u001b[1m797/797\u001b[0m \u001b[32m━━━━━━━━━━━━━━━━━━━━\u001b[0m\u001b[37m\u001b[0m \u001b[1m2s\u001b[0m 2ms/step - accuracy: 0.3960 - loss: 1.2635 - val_accuracy: 7.0621e-04 - val_loss: 2.0688\n",
      "Epoch 114/200\n",
      "\u001b[1m797/797\u001b[0m \u001b[32m━━━━━━━━━━━━━━━━━━━━\u001b[0m\u001b[37m\u001b[0m \u001b[1m2s\u001b[0m 2ms/step - accuracy: 0.3931 - loss: 1.2655 - val_accuracy: 3.5311e-04 - val_loss: 2.0792\n",
      "Epoch 115/200\n",
      "\u001b[1m797/797\u001b[0m \u001b[32m━━━━━━━━━━━━━━━━━━━━\u001b[0m\u001b[37m\u001b[0m \u001b[1m2s\u001b[0m 2ms/step - accuracy: 0.3938 - loss: 1.2611 - val_accuracy: 3.5311e-04 - val_loss: 2.0936\n",
      "Epoch 116/200\n",
      "\u001b[1m797/797\u001b[0m \u001b[32m━━━━━━━━━━━━━━━━━━━━\u001b[0m\u001b[37m\u001b[0m \u001b[1m2s\u001b[0m 2ms/step - accuracy: 0.3977 - loss: 1.2654 - val_accuracy: 3.5311e-04 - val_loss: 2.0794\n",
      "Epoch 117/200\n",
      "\u001b[1m797/797\u001b[0m \u001b[32m━━━━━━━━━━━━━━━━━━━━\u001b[0m\u001b[37m\u001b[0m \u001b[1m2s\u001b[0m 2ms/step - accuracy: 0.3943 - loss: 1.2620 - val_accuracy: 3.5311e-04 - val_loss: 2.0884\n",
      "Epoch 118/200\n",
      "\u001b[1m797/797\u001b[0m \u001b[32m━━━━━━━━━━━━━━━━━━━━\u001b[0m\u001b[37m\u001b[0m \u001b[1m2s\u001b[0m 2ms/step - accuracy: 0.3950 - loss: 1.2634 - val_accuracy: 3.5311e-04 - val_loss: 2.0935\n",
      "Epoch 119/200\n",
      "\u001b[1m797/797\u001b[0m \u001b[32m━━━━━━━━━━━━━━━━━━━━\u001b[0m\u001b[37m\u001b[0m \u001b[1m2s\u001b[0m 2ms/step - accuracy: 0.3892 - loss: 1.2633 - val_accuracy: 3.5311e-04 - val_loss: 2.1392\n",
      "Epoch 120/200\n",
      "\u001b[1m797/797\u001b[0m \u001b[32m━━━━━━━━━━━━━━━━━━━━\u001b[0m\u001b[37m\u001b[0m \u001b[1m2s\u001b[0m 2ms/step - accuracy: 0.3940 - loss: 1.2610 - val_accuracy: 3.5311e-04 - val_loss: 2.0468\n",
      "Epoch 121/200\n",
      "\u001b[1m797/797\u001b[0m \u001b[32m━━━━━━━━━━━━━━━━━━━━\u001b[0m\u001b[37m\u001b[0m \u001b[1m2s\u001b[0m 2ms/step - accuracy: 0.3964 - loss: 1.2604 - val_accuracy: 0.0000e+00 - val_loss: 2.0563\n",
      "Epoch 122/200\n",
      "\u001b[1m797/797\u001b[0m \u001b[32m━━━━━━━━━━━━━━━━━━━━\u001b[0m\u001b[37m\u001b[0m \u001b[1m2s\u001b[0m 2ms/step - accuracy: 0.3985 - loss: 1.2532 - val_accuracy: 3.5311e-04 - val_loss: 2.0651\n",
      "Epoch 123/200\n",
      "\u001b[1m797/797\u001b[0m \u001b[32m━━━━━━━━━━━━━━━━━━━━\u001b[0m\u001b[37m\u001b[0m \u001b[1m2s\u001b[0m 2ms/step - accuracy: 0.3957 - loss: 1.2616 - val_accuracy: 0.0000e+00 - val_loss: 2.0926\n",
      "Epoch 124/200\n",
      "\u001b[1m797/797\u001b[0m \u001b[32m━━━━━━━━━━━━━━━━━━━━\u001b[0m\u001b[37m\u001b[0m \u001b[1m2s\u001b[0m 2ms/step - accuracy: 0.4035 - loss: 1.2574 - val_accuracy: 3.5311e-04 - val_loss: 2.0845\n",
      "Epoch 125/200\n",
      "\u001b[1m797/797\u001b[0m \u001b[32m━━━━━━━━━━━━━━━━━━━━\u001b[0m\u001b[37m\u001b[0m \u001b[1m2s\u001b[0m 2ms/step - accuracy: 0.3998 - loss: 1.2601 - val_accuracy: 3.5311e-04 - val_loss: 2.1179\n",
      "Epoch 126/200\n",
      "\u001b[1m797/797\u001b[0m \u001b[32m━━━━━━━━━━━━━━━━━━━━\u001b[0m\u001b[37m\u001b[0m \u001b[1m2s\u001b[0m 2ms/step - accuracy: 0.4033 - loss: 1.2499 - val_accuracy: 3.5311e-04 - val_loss: 1.9993\n",
      "Epoch 127/200\n",
      "\u001b[1m797/797\u001b[0m \u001b[32m━━━━━━━━━━━━━━━━━━━━\u001b[0m\u001b[37m\u001b[0m \u001b[1m2s\u001b[0m 2ms/step - accuracy: 0.3963 - loss: 1.2551 - val_accuracy: 0.0000e+00 - val_loss: 2.0621\n",
      "Epoch 128/200\n",
      "\u001b[1m797/797\u001b[0m \u001b[32m━━━━━━━━━━━━━━━━━━━━\u001b[0m\u001b[37m\u001b[0m \u001b[1m2s\u001b[0m 2ms/step - accuracy: 0.4051 - loss: 1.2472 - val_accuracy: 0.0000e+00 - val_loss: 2.0725\n",
      "Epoch 129/200\n",
      "\u001b[1m797/797\u001b[0m \u001b[32m━━━━━━━━━━━━━━━━━━━━\u001b[0m\u001b[37m\u001b[0m \u001b[1m2s\u001b[0m 2ms/step - accuracy: 0.4025 - loss: 1.2509 - val_accuracy: 0.0000e+00 - val_loss: 2.0556\n",
      "Epoch 130/200\n",
      "\u001b[1m797/797\u001b[0m \u001b[32m━━━━━━━━━━━━━━━━━━━━\u001b[0m\u001b[37m\u001b[0m \u001b[1m2s\u001b[0m 2ms/step - accuracy: 0.4107 - loss: 1.2489 - val_accuracy: 0.0000e+00 - val_loss: 2.0047\n",
      "Epoch 131/200\n",
      "\u001b[1m797/797\u001b[0m \u001b[32m━━━━━━━━━━━━━━━━━━━━\u001b[0m\u001b[37m\u001b[0m \u001b[1m2s\u001b[0m 2ms/step - accuracy: 0.3981 - loss: 1.2501 - val_accuracy: 3.5311e-04 - val_loss: 2.0703\n",
      "Epoch 132/200\n",
      "\u001b[1m797/797\u001b[0m \u001b[32m━━━━━━━━━━━━━━━━━━━━\u001b[0m\u001b[37m\u001b[0m \u001b[1m2s\u001b[0m 2ms/step - accuracy: 0.4010 - loss: 1.2510 - val_accuracy: 0.0000e+00 - val_loss: 2.0866\n",
      "Epoch 133/200\n",
      "\u001b[1m797/797\u001b[0m \u001b[32m━━━━━━━━━━━━━━━━━━━━\u001b[0m\u001b[37m\u001b[0m \u001b[1m2s\u001b[0m 2ms/step - accuracy: 0.3932 - loss: 1.2551 - val_accuracy: 0.0000e+00 - val_loss: 2.0387\n",
      "Epoch 134/200\n",
      "\u001b[1m797/797\u001b[0m \u001b[32m━━━━━━━━━━━━━━━━━━━━\u001b[0m\u001b[37m\u001b[0m \u001b[1m2s\u001b[0m 2ms/step - accuracy: 0.4071 - loss: 1.2420 - val_accuracy: 0.0000e+00 - val_loss: 2.0531\n",
      "Epoch 135/200\n",
      "\u001b[1m797/797\u001b[0m \u001b[32m━━━━━━━━━━━━━━━━━━━━\u001b[0m\u001b[37m\u001b[0m \u001b[1m2s\u001b[0m 2ms/step - accuracy: 0.4076 - loss: 1.2395 - val_accuracy: 0.0000e+00 - val_loss: 2.0728\n",
      "Epoch 136/200\n",
      "\u001b[1m797/797\u001b[0m \u001b[32m━━━━━━━━━━━━━━━━━━━━\u001b[0m\u001b[37m\u001b[0m \u001b[1m2s\u001b[0m 2ms/step - accuracy: 0.3959 - loss: 1.2551 - val_accuracy: 0.0000e+00 - val_loss: 2.0668\n",
      "Epoch 137/200\n",
      "\u001b[1m797/797\u001b[0m \u001b[32m━━━━━━━━━━━━━━━━━━━━\u001b[0m\u001b[37m\u001b[0m \u001b[1m2s\u001b[0m 2ms/step - accuracy: 0.4011 - loss: 1.2509 - val_accuracy: 0.0000e+00 - val_loss: 2.0863\n",
      "Epoch 138/200\n",
      "\u001b[1m797/797\u001b[0m \u001b[32m━━━━━━━━━━━━━━━━━━━━\u001b[0m\u001b[37m\u001b[0m \u001b[1m2s\u001b[0m 2ms/step - accuracy: 0.4073 - loss: 1.2401 - val_accuracy: 0.0000e+00 - val_loss: 2.0603\n",
      "Epoch 139/200\n",
      "\u001b[1m797/797\u001b[0m \u001b[32m━━━━━━━━━━━━━━━━━━━━\u001b[0m\u001b[37m\u001b[0m \u001b[1m2s\u001b[0m 2ms/step - accuracy: 0.3894 - loss: 1.2502 - val_accuracy: 0.0000e+00 - val_loss: 2.0715\n",
      "Epoch 140/200\n",
      "\u001b[1m797/797\u001b[0m \u001b[32m━━━━━━━━━━━━━━━━━━━━\u001b[0m\u001b[37m\u001b[0m \u001b[1m2s\u001b[0m 2ms/step - accuracy: 0.3909 - loss: 1.2557 - val_accuracy: 0.0000e+00 - val_loss: 2.1222\n",
      "Epoch 141/200\n",
      "\u001b[1m797/797\u001b[0m \u001b[32m━━━━━━━━━━━━━━━━━━━━\u001b[0m\u001b[37m\u001b[0m \u001b[1m2s\u001b[0m 2ms/step - accuracy: 0.4029 - loss: 1.2490 - val_accuracy: 0.0000e+00 - val_loss: 2.1192\n",
      "Epoch 142/200\n",
      "\u001b[1m797/797\u001b[0m \u001b[32m━━━━━━━━━━━━━━━━━━━━\u001b[0m\u001b[37m\u001b[0m \u001b[1m2s\u001b[0m 2ms/step - accuracy: 0.4037 - loss: 1.2479 - val_accuracy: 0.0000e+00 - val_loss: 2.0767\n",
      "Epoch 143/200\n",
      "\u001b[1m797/797\u001b[0m \u001b[32m━━━━━━━━━━━━━━━━━━━━\u001b[0m\u001b[37m\u001b[0m \u001b[1m2s\u001b[0m 2ms/step - accuracy: 0.4057 - loss: 1.2407 - val_accuracy: 0.0000e+00 - val_loss: 2.0758\n",
      "Epoch 144/200\n",
      "\u001b[1m797/797\u001b[0m \u001b[32m━━━━━━━━━━━━━━━━━━━━\u001b[0m\u001b[37m\u001b[0m \u001b[1m2s\u001b[0m 2ms/step - accuracy: 0.4055 - loss: 1.2410 - val_accuracy: 0.0000e+00 - val_loss: 2.1040\n",
      "Epoch 145/200\n",
      "\u001b[1m797/797\u001b[0m \u001b[32m━━━━━━━━━━━━━━━━━━━━\u001b[0m\u001b[37m\u001b[0m \u001b[1m2s\u001b[0m 2ms/step - accuracy: 0.4006 - loss: 1.2463 - val_accuracy: 0.0000e+00 - val_loss: 2.1293\n",
      "Epoch 146/200\n",
      "\u001b[1m797/797\u001b[0m \u001b[32m━━━━━━━━━━━━━━━━━━━━\u001b[0m\u001b[37m\u001b[0m \u001b[1m2s\u001b[0m 2ms/step - accuracy: 0.4121 - loss: 1.2408 - val_accuracy: 0.0000e+00 - val_loss: 2.0374\n",
      "Epoch 147/200\n",
      "\u001b[1m797/797\u001b[0m \u001b[32m━━━━━━━━━━━━━━━━━━━━\u001b[0m\u001b[37m\u001b[0m \u001b[1m2s\u001b[0m 2ms/step - accuracy: 0.4003 - loss: 1.2428 - val_accuracy: 0.0000e+00 - val_loss: 2.0621\n",
      "Epoch 148/200\n",
      "\u001b[1m797/797\u001b[0m \u001b[32m━━━━━━━━━━━━━━━━━━━━\u001b[0m\u001b[37m\u001b[0m \u001b[1m2s\u001b[0m 2ms/step - accuracy: 0.3979 - loss: 1.2436 - val_accuracy: 0.0000e+00 - val_loss: 2.0836\n",
      "Epoch 149/200\n",
      "\u001b[1m797/797\u001b[0m \u001b[32m━━━━━━━━━━━━━━━━━━━━\u001b[0m\u001b[37m\u001b[0m \u001b[1m2s\u001b[0m 2ms/step - accuracy: 0.3980 - loss: 1.2482 - val_accuracy: 0.0000e+00 - val_loss: 2.0386\n",
      "Epoch 150/200\n",
      "\u001b[1m797/797\u001b[0m \u001b[32m━━━━━━━━━━━━━━━━━━━━\u001b[0m\u001b[37m\u001b[0m \u001b[1m2s\u001b[0m 2ms/step - accuracy: 0.4013 - loss: 1.2425 - val_accuracy: 0.0000e+00 - val_loss: 2.0262\n",
      "Epoch 151/200\n",
      "\u001b[1m797/797\u001b[0m \u001b[32m━━━━━━━━━━━━━━━━━━━━\u001b[0m\u001b[37m\u001b[0m \u001b[1m2s\u001b[0m 2ms/step - accuracy: 0.4043 - loss: 1.2386 - val_accuracy: 0.0000e+00 - val_loss: 2.0421\n",
      "Epoch 152/200\n",
      "\u001b[1m797/797\u001b[0m \u001b[32m━━━━━━━━━━━━━━━━━━━━\u001b[0m\u001b[37m\u001b[0m \u001b[1m2s\u001b[0m 2ms/step - accuracy: 0.3996 - loss: 1.2450 - val_accuracy: 0.0000e+00 - val_loss: 2.0952\n",
      "Epoch 153/200\n",
      "\u001b[1m797/797\u001b[0m \u001b[32m━━━━━━━━━━━━━━━━━━━━\u001b[0m\u001b[37m\u001b[0m \u001b[1m2s\u001b[0m 2ms/step - accuracy: 0.4073 - loss: 1.2353 - val_accuracy: 0.0000e+00 - val_loss: 2.0941\n",
      "Epoch 154/200\n",
      "\u001b[1m797/797\u001b[0m \u001b[32m━━━━━━━━━━━━━━━━━━━━\u001b[0m\u001b[37m\u001b[0m \u001b[1m2s\u001b[0m 2ms/step - accuracy: 0.4022 - loss: 1.2494 - val_accuracy: 0.0000e+00 - val_loss: 2.0655\n",
      "Epoch 155/200\n",
      "\u001b[1m797/797\u001b[0m \u001b[32m━━━━━━━━━━━━━━━━━━━━\u001b[0m\u001b[37m\u001b[0m \u001b[1m2s\u001b[0m 2ms/step - accuracy: 0.4069 - loss: 1.2382 - val_accuracy: 0.0000e+00 - val_loss: 2.1170\n",
      "Epoch 156/200\n",
      "\u001b[1m797/797\u001b[0m \u001b[32m━━━━━━━━━━━━━━━━━━━━\u001b[0m\u001b[37m\u001b[0m \u001b[1m2s\u001b[0m 2ms/step - accuracy: 0.4109 - loss: 1.2321 - val_accuracy: 0.0000e+00 - val_loss: 2.0836\n",
      "Epoch 157/200\n",
      "\u001b[1m797/797\u001b[0m \u001b[32m━━━━━━━━━━━━━━━━━━━━\u001b[0m\u001b[37m\u001b[0m \u001b[1m2s\u001b[0m 2ms/step - accuracy: 0.4110 - loss: 1.2358 - val_accuracy: 0.0000e+00 - val_loss: 2.1106\n",
      "Epoch 158/200\n",
      "\u001b[1m797/797\u001b[0m \u001b[32m━━━━━━━━━━━━━━━━━━━━\u001b[0m\u001b[37m\u001b[0m \u001b[1m2s\u001b[0m 2ms/step - accuracy: 0.4062 - loss: 1.2413 - val_accuracy: 0.0000e+00 - val_loss: 2.0709\n",
      "Epoch 159/200\n",
      "\u001b[1m797/797\u001b[0m \u001b[32m━━━━━━━━━━━━━━━━━━━━\u001b[0m\u001b[37m\u001b[0m \u001b[1m2s\u001b[0m 2ms/step - accuracy: 0.4066 - loss: 1.2385 - val_accuracy: 0.0000e+00 - val_loss: 2.1064\n",
      "Epoch 160/200\n",
      "\u001b[1m797/797\u001b[0m \u001b[32m━━━━━━━━━━━━━━━━━━━━\u001b[0m\u001b[37m\u001b[0m \u001b[1m2s\u001b[0m 2ms/step - accuracy: 0.4066 - loss: 1.2366 - val_accuracy: 0.0000e+00 - val_loss: 2.0710\n",
      "Epoch 161/200\n",
      "\u001b[1m797/797\u001b[0m \u001b[32m━━━━━━━━━━━━━━━━━━━━\u001b[0m\u001b[37m\u001b[0m \u001b[1m2s\u001b[0m 2ms/step - accuracy: 0.4032 - loss: 1.2430 - val_accuracy: 0.0000e+00 - val_loss: 2.0667\n",
      "Epoch 162/200\n",
      "\u001b[1m797/797\u001b[0m \u001b[32m━━━━━━━━━━━━━━━━━━━━\u001b[0m\u001b[37m\u001b[0m \u001b[1m2s\u001b[0m 2ms/step - accuracy: 0.4027 - loss: 1.2387 - val_accuracy: 0.0000e+00 - val_loss: 2.0775\n",
      "Epoch 163/200\n",
      "\u001b[1m797/797\u001b[0m \u001b[32m━━━━━━━━━━━━━━━━━━━━\u001b[0m\u001b[37m\u001b[0m \u001b[1m2s\u001b[0m 2ms/step - accuracy: 0.4068 - loss: 1.2330 - val_accuracy: 0.0000e+00 - val_loss: 2.1117\n",
      "Epoch 164/200\n",
      "\u001b[1m797/797\u001b[0m \u001b[32m━━━━━━━━━━━━━━━━━━━━\u001b[0m\u001b[37m\u001b[0m \u001b[1m2s\u001b[0m 2ms/step - accuracy: 0.4085 - loss: 1.2339 - val_accuracy: 0.0000e+00 - val_loss: 2.0587\n",
      "Epoch 165/200\n",
      "\u001b[1m797/797\u001b[0m \u001b[32m━━━━━━━━━━━━━━━━━━━━\u001b[0m\u001b[37m\u001b[0m \u001b[1m2s\u001b[0m 2ms/step - accuracy: 0.4077 - loss: 1.2318 - val_accuracy: 0.0000e+00 - val_loss: 2.0903\n",
      "Epoch 166/200\n",
      "\u001b[1m797/797\u001b[0m \u001b[32m━━━━━━━━━━━━━━━━━━━━\u001b[0m\u001b[37m\u001b[0m \u001b[1m2s\u001b[0m 2ms/step - accuracy: 0.4069 - loss: 1.2384 - val_accuracy: 0.0000e+00 - val_loss: 2.0114\n",
      "Epoch 167/200\n",
      "\u001b[1m797/797\u001b[0m \u001b[32m━━━━━━━━━━━━━━━━━━━━\u001b[0m\u001b[37m\u001b[0m \u001b[1m2s\u001b[0m 2ms/step - accuracy: 0.4056 - loss: 1.2361 - val_accuracy: 0.0000e+00 - val_loss: 2.1461\n",
      "Epoch 168/200\n",
      "\u001b[1m797/797\u001b[0m \u001b[32m━━━━━━━━━━━━━━━━━━━━\u001b[0m\u001b[37m\u001b[0m \u001b[1m2s\u001b[0m 2ms/step - accuracy: 0.4093 - loss: 1.2328 - val_accuracy: 0.0000e+00 - val_loss: 2.0260\n",
      "Epoch 169/200\n",
      "\u001b[1m797/797\u001b[0m \u001b[32m━━━━━━━━━━━━━━━━━━━━\u001b[0m\u001b[37m\u001b[0m \u001b[1m2s\u001b[0m 2ms/step - accuracy: 0.4092 - loss: 1.2328 - val_accuracy: 0.0000e+00 - val_loss: 2.0807\n",
      "Epoch 170/200\n",
      "\u001b[1m797/797\u001b[0m \u001b[32m━━━━━━━━━━━━━━━━━━━━\u001b[0m\u001b[37m\u001b[0m \u001b[1m2s\u001b[0m 2ms/step - accuracy: 0.4129 - loss: 1.2328 - val_accuracy: 0.0000e+00 - val_loss: 2.0665\n",
      "Epoch 171/200\n",
      "\u001b[1m797/797\u001b[0m \u001b[32m━━━━━━━━━━━━━━━━━━━━\u001b[0m\u001b[37m\u001b[0m \u001b[1m2s\u001b[0m 2ms/step - accuracy: 0.4181 - loss: 1.2287 - val_accuracy: 0.0000e+00 - val_loss: 2.0866\n",
      "Epoch 172/200\n",
      "\u001b[1m797/797\u001b[0m \u001b[32m━━━━━━━━━━━━━━━━━━━━\u001b[0m\u001b[37m\u001b[0m \u001b[1m2s\u001b[0m 2ms/step - accuracy: 0.4106 - loss: 1.2357 - val_accuracy: 0.0000e+00 - val_loss: 2.0755\n",
      "Epoch 173/200\n",
      "\u001b[1m797/797\u001b[0m \u001b[32m━━━━━━━━━━━━━━━━━━━━\u001b[0m\u001b[37m\u001b[0m \u001b[1m2s\u001b[0m 2ms/step - accuracy: 0.4091 - loss: 1.2309 - val_accuracy: 0.0000e+00 - val_loss: 2.0973\n",
      "Epoch 174/200\n",
      "\u001b[1m797/797\u001b[0m \u001b[32m━━━━━━━━━━━━━━━━━━━━\u001b[0m\u001b[37m\u001b[0m \u001b[1m2s\u001b[0m 2ms/step - accuracy: 0.4102 - loss: 1.2272 - val_accuracy: 0.0000e+00 - val_loss: 2.0985\n",
      "Epoch 175/200\n",
      "\u001b[1m797/797\u001b[0m \u001b[32m━━━━━━━━━━━━━━━━━━━━\u001b[0m\u001b[37m\u001b[0m \u001b[1m2s\u001b[0m 2ms/step - accuracy: 0.4069 - loss: 1.2295 - val_accuracy: 0.0000e+00 - val_loss: 2.0747\n",
      "Epoch 176/200\n",
      "\u001b[1m797/797\u001b[0m \u001b[32m━━━━━━━━━━━━━━━━━━━━\u001b[0m\u001b[37m\u001b[0m \u001b[1m2s\u001b[0m 2ms/step - accuracy: 0.4064 - loss: 1.2275 - val_accuracy: 0.0000e+00 - val_loss: 2.1254\n",
      "Epoch 177/200\n",
      "\u001b[1m797/797\u001b[0m \u001b[32m━━━━━━━━━━━━━━━━━━━━\u001b[0m\u001b[37m\u001b[0m \u001b[1m2s\u001b[0m 2ms/step - accuracy: 0.4034 - loss: 1.2346 - val_accuracy: 0.0000e+00 - val_loss: 2.0990\n",
      "Epoch 178/200\n",
      "\u001b[1m797/797\u001b[0m \u001b[32m━━━━━━━━━━━━━━━━━━━━\u001b[0m\u001b[37m\u001b[0m \u001b[1m2s\u001b[0m 2ms/step - accuracy: 0.4094 - loss: 1.2347 - val_accuracy: 0.0000e+00 - val_loss: 2.0683\n",
      "Epoch 179/200\n",
      "\u001b[1m797/797\u001b[0m \u001b[32m━━━━━━━━━━━━━━━━━━━━\u001b[0m\u001b[37m\u001b[0m \u001b[1m2s\u001b[0m 2ms/step - accuracy: 0.4096 - loss: 1.2355 - val_accuracy: 0.0000e+00 - val_loss: 2.0861\n",
      "Epoch 180/200\n",
      "\u001b[1m797/797\u001b[0m \u001b[32m━━━━━━━━━━━━━━━━━━━━\u001b[0m\u001b[37m\u001b[0m \u001b[1m2s\u001b[0m 2ms/step - accuracy: 0.4086 - loss: 1.2312 - val_accuracy: 0.0000e+00 - val_loss: 2.0704\n",
      "Epoch 181/200\n",
      "\u001b[1m797/797\u001b[0m \u001b[32m━━━━━━━━━━━━━━━━━━━━\u001b[0m\u001b[37m\u001b[0m \u001b[1m2s\u001b[0m 2ms/step - accuracy: 0.4158 - loss: 1.2247 - val_accuracy: 0.0000e+00 - val_loss: 2.0346\n",
      "Epoch 182/200\n",
      "\u001b[1m797/797\u001b[0m \u001b[32m━━━━━━━━━━━━━━━━━━━━\u001b[0m\u001b[37m\u001b[0m \u001b[1m2s\u001b[0m 2ms/step - accuracy: 0.4119 - loss: 1.2291 - val_accuracy: 0.0000e+00 - val_loss: 2.0390\n",
      "Epoch 183/200\n",
      "\u001b[1m797/797\u001b[0m \u001b[32m━━━━━━━━━━━━━━━━━━━━\u001b[0m\u001b[37m\u001b[0m \u001b[1m2s\u001b[0m 2ms/step - accuracy: 0.4163 - loss: 1.2262 - val_accuracy: 0.0000e+00 - val_loss: 2.0769\n",
      "Epoch 184/200\n",
      "\u001b[1m797/797\u001b[0m \u001b[32m━━━━━━━━━━━━━━━━━━━━\u001b[0m\u001b[37m\u001b[0m \u001b[1m2s\u001b[0m 2ms/step - accuracy: 0.4122 - loss: 1.2258 - val_accuracy: 0.0000e+00 - val_loss: 2.0301\n",
      "Epoch 185/200\n",
      "\u001b[1m797/797\u001b[0m \u001b[32m━━━━━━━━━━━━━━━━━━━━\u001b[0m\u001b[37m\u001b[0m \u001b[1m2s\u001b[0m 2ms/step - accuracy: 0.4082 - loss: 1.2365 - val_accuracy: 0.0000e+00 - val_loss: 2.0747\n",
      "Epoch 186/200\n",
      "\u001b[1m797/797\u001b[0m \u001b[32m━━━━━━━━━━━━━━━━━━━━\u001b[0m\u001b[37m\u001b[0m \u001b[1m2s\u001b[0m 2ms/step - accuracy: 0.4135 - loss: 1.2264 - val_accuracy: 0.0000e+00 - val_loss: 2.0917\n",
      "Epoch 187/200\n",
      "\u001b[1m797/797\u001b[0m \u001b[32m━━━━━━━━━━━━━━━━━━━━\u001b[0m\u001b[37m\u001b[0m \u001b[1m2s\u001b[0m 2ms/step - accuracy: 0.4241 - loss: 1.2206 - val_accuracy: 0.0000e+00 - val_loss: 2.0901\n",
      "Epoch 188/200\n",
      "\u001b[1m797/797\u001b[0m \u001b[32m━━━━━━━━━━━━━━━━━━━━\u001b[0m\u001b[37m\u001b[0m \u001b[1m2s\u001b[0m 2ms/step - accuracy: 0.4141 - loss: 1.2259 - val_accuracy: 0.0000e+00 - val_loss: 2.0035\n",
      "Epoch 189/200\n",
      "\u001b[1m797/797\u001b[0m \u001b[32m━━━━━━━━━━━━━━━━━━━━\u001b[0m\u001b[37m\u001b[0m \u001b[1m2s\u001b[0m 2ms/step - accuracy: 0.4178 - loss: 1.2228 - val_accuracy: 0.0000e+00 - val_loss: 2.0140\n",
      "Epoch 190/200\n",
      "\u001b[1m797/797\u001b[0m \u001b[32m━━━━━━━━━━━━━━━━━━━━\u001b[0m\u001b[37m\u001b[0m \u001b[1m2s\u001b[0m 2ms/step - accuracy: 0.4176 - loss: 1.2216 - val_accuracy: 0.0000e+00 - val_loss: 2.0065\n",
      "Epoch 191/200\n",
      "\u001b[1m797/797\u001b[0m \u001b[32m━━━━━━━━━━━━━━━━━━━━\u001b[0m\u001b[37m\u001b[0m \u001b[1m2s\u001b[0m 2ms/step - accuracy: 0.4098 - loss: 1.2243 - val_accuracy: 0.0000e+00 - val_loss: 2.0750\n",
      "Epoch 192/200\n",
      "\u001b[1m797/797\u001b[0m \u001b[32m━━━━━━━━━━━━━━━━━━━━\u001b[0m\u001b[37m\u001b[0m \u001b[1m2s\u001b[0m 2ms/step - accuracy: 0.4142 - loss: 1.2278 - val_accuracy: 0.0000e+00 - val_loss: 2.0592\n",
      "Epoch 193/200\n",
      "\u001b[1m797/797\u001b[0m \u001b[32m━━━━━━━━━━━━━━━━━━━━\u001b[0m\u001b[37m\u001b[0m \u001b[1m2s\u001b[0m 2ms/step - accuracy: 0.4087 - loss: 1.2246 - val_accuracy: 0.0000e+00 - val_loss: 2.0811\n",
      "Epoch 194/200\n",
      "\u001b[1m797/797\u001b[0m \u001b[32m━━━━━━━━━━━━━━━━━━━━\u001b[0m\u001b[37m\u001b[0m \u001b[1m2s\u001b[0m 2ms/step - accuracy: 0.4206 - loss: 1.2153 - val_accuracy: 0.0000e+00 - val_loss: 2.1270\n",
      "Epoch 195/200\n",
      "\u001b[1m797/797\u001b[0m \u001b[32m━━━━━━━━━━━━━━━━━━━━\u001b[0m\u001b[37m\u001b[0m \u001b[1m2s\u001b[0m 2ms/step - accuracy: 0.4156 - loss: 1.2288 - val_accuracy: 0.0000e+00 - val_loss: 2.1339\n",
      "Epoch 196/200\n",
      "\u001b[1m797/797\u001b[0m \u001b[32m━━━━━━━━━━━━━━━━━━━━\u001b[0m\u001b[37m\u001b[0m \u001b[1m2s\u001b[0m 2ms/step - accuracy: 0.4154 - loss: 1.2156 - val_accuracy: 0.0000e+00 - val_loss: 2.0464\n",
      "Epoch 197/200\n",
      "\u001b[1m797/797\u001b[0m \u001b[32m━━━━━━━━━━━━━━━━━━━━\u001b[0m\u001b[37m\u001b[0m \u001b[1m2s\u001b[0m 2ms/step - accuracy: 0.4162 - loss: 1.2228 - val_accuracy: 0.0000e+00 - val_loss: 2.0648\n",
      "Epoch 198/200\n",
      "\u001b[1m797/797\u001b[0m \u001b[32m━━━━━━━━━━━━━━━━━━━━\u001b[0m\u001b[37m\u001b[0m \u001b[1m2s\u001b[0m 2ms/step - accuracy: 0.4164 - loss: 1.2244 - val_accuracy: 0.0000e+00 - val_loss: 2.1047\n",
      "Epoch 199/200\n",
      "\u001b[1m797/797\u001b[0m \u001b[32m━━━━━━━━━━━━━━━━━━━━\u001b[0m\u001b[37m\u001b[0m \u001b[1m2s\u001b[0m 2ms/step - accuracy: 0.4172 - loss: 1.2190 - val_accuracy: 0.0000e+00 - val_loss: 2.0103\n",
      "Epoch 200/200\n",
      "\u001b[1m797/797\u001b[0m \u001b[32m━━━━━━━━━━━━━━━━━━━━\u001b[0m\u001b[37m\u001b[0m \u001b[1m2s\u001b[0m 2ms/step - accuracy: 0.4115 - loss: 1.2251 - val_accuracy: 0.0000e+00 - val_loss: 2.0897\n"
     ]
    }
   ],
   "source": [
    "from tensorflow.keras.layers import Dropout, BatchNormalization\n",
    "\n",
    "model = Sequential([\n",
    "    LSTM(4, return_sequences=True, input_shape=(X_train_seq.shape[1], X_train_seq.shape[2])),\n",
    "    Dropout(0.5),\n",
    "    BatchNormalization(),\n",
    "    LSTM(8),\n",
    "    Dropout(0.5),\n",
    "    BatchNormalization(),\n",
    "    Dense(4, activation='softmax')\n",
    "])\n",
    "\n",
    "model.compile(optimizer=AdamW(learning_rate=0.001, weight_decay=1e-5), loss='categorical_crossentropy', metrics=['accuracy'])\n",
    "\n",
    "# --- Train ---\n",
    "history = model.fit(X_train_seq, y_train_seq, epochs=200, batch_size=32, validation_split=0.1)"
   ]
  },
  {
   "cell_type": "code",
   "execution_count": 16,
   "id": "6ad36c9b-07c3-4ed5-a83c-40ea94684b16",
   "metadata": {},
   "outputs": [
    {
     "data": {
      "image/png": "[encoded data removed]",
      "text/plain": [
       "<Figure size 640x480 with 1 Axes>"
      ]
     },
     "metadata": {},
     "output_type": "display_data"
    }
   ],
   "source": [
    "import matplotlib.pyplot as plt\n",
    "\n",
    "plt.plot(history.history['accuracy'], label='train acc')\n",
    "plt.plot(history.history['val_accuracy'], label='val acc')\n",
    "plt.legend()\n",
    "plt.show()"
   ]
  },
  {
   "cell_type": "code",
   "execution_count": 17,
   "id": "e20c7231-99bf-4bfa-8d5d-75634c2c6e11",
   "metadata": {},
   "outputs": [
    {
     "name": "stdout",
     "output_type": "stream",
     "text": [
      "\u001b[1m57/57\u001b[0m \u001b[32m━━━━━━━━━━━━━━━━━━━━\u001b[0m\u001b[37m\u001b[0m \u001b[1m0s\u001b[0m 1ms/step - accuracy: 0.3615 - loss: 1.3524  \n",
      "Test Accuracy: 0.24\n"
     ]
    }
   ],
   "source": [
    "# --- Evaluate ---\n",
    "test_loss, test_acc = model.evaluate(X_test_seq, y_test_seq)\n",
    "print(f\"Test Accuracy: {test_acc:.2f}\")"
   ]
  },
  {
   "cell_type": "code",
   "execution_count": 18,
   "id": "56f9067d-1a5b-4dca-9fe2-f362d7d78a23",
   "metadata": {},
   "outputs": [
    {
     "data": {
      "image/png": "[encoded data removed]",
      "text/plain": [
       "<Figure size 640x480 with 1 Axes>"
      ]
     },
     "metadata": {},
     "output_type": "display_data"
    }
   ],
   "source": [
    "plt.plot(history.history['loss'], label='Train Loss')\n",
    "plt.plot(history.history['val_loss'], label='Val Loss')\n",
    "plt.xlabel('Epoch')\n",
    "plt.ylabel('Loss')\n",
    "plt.title('Training and Validation Loss')\n",
    "plt.legend()\n",
    "plt.show()"
   ]
  },
  {
   "cell_type": "code",
   "execution_count": 19,
   "id": "dd8580d5-bb67-40f0-b0aa-fe57cab55dc3",
   "metadata": {},
   "outputs": [
    {
     "name": "stdout",
     "output_type": "stream",
     "text": [
      "\u001b[1m57/57\u001b[0m \u001b[32m━━━━━━━━━━━━━━━━━━━━\u001b[0m\u001b[37m\u001b[0m \u001b[1m0s\u001b[0m 3ms/step\n"
     ]
    },
    {
     "data": {
      "image/png": "[encoded data removed]",
      "text/plain": [
       "<Figure size 640x480 with 2 Axes>"
      ]
     },
     "metadata": {},
     "output_type": "display_data"
    }
   ],
   "source": [
    "# --- Predict on test set ---\n",
    "y_pred_probs = model.predict(X_test_seq)                     # Get prediction probabilities\n",
    "y_pred = np.argmax(y_pred_probs, axis=1)                 # Convert to class indices\n",
    "y_true = np.argmax(y_test_seq, axis=1)                       # Convert one-hot to class indices\n",
    "\n",
    "# --- Confusion Matrix ---\n",
    "cm = confusion_matrix(y_true, y_pred)\n",
    "disp = ConfusionMatrixDisplay(confusion_matrix=cm, display_labels=label_encoder.classes_)\n",
    "disp.plot(cmap=plt.cm.Blues)\n",
    "plt.title('Confusion Matrix')\n",
    "plt.show()\n"
   ]
  },
  {
   "cell_type": "code",
   "execution_count": 20,
   "id": "60d10bc9-0312-4024-8f4f-01894ca03d95",
   "metadata": {},
   "outputs": [
    {
     "name": "stdout",
     "output_type": "stream",
     "text": [
      "Classification Report:\n",
      "              precision    recall  f1-score   support\n",
      "\n",
      "         CSI       0.17      0.05      0.08       570\n",
      "     Control       0.00      0.00      0.00       555\n",
      "   FirstYear       0.04      0.07      0.05       198\n",
      "   ThirdYear       0.30      0.81      0.44       492\n",
      "\n",
      "    accuracy                           0.24      1815\n",
      "   macro avg       0.13      0.23      0.14      1815\n",
      "weighted avg       0.14      0.24      0.15      1815\n",
      "\n"
     ]
    },
    {
     "name": "stderr",
     "output_type": "stream",
     "text": [
      "/home/sam/anaconda3/envs/tf310/lib/python3.10/site-packages/sklearn/metrics/_classification.py:1565: UndefinedMetricWarning: Precision is ill-defined and being set to 0.0 in labels with no predicted samples. Use `zero_division` parameter to control this behavior.\n",
      "  _warn_prf(average, modifier, f\"{metric.capitalize()} is\", len(result))\n",
      "/home/sam/anaconda3/envs/tf310/lib/python3.10/site-packages/sklearn/metrics/_classification.py:1565: UndefinedMetricWarning: Precision is ill-defined and being set to 0.0 in labels with no predicted samples. Use `zero_division` parameter to control this behavior.\n",
      "  _warn_prf(average, modifier, f\"{metric.capitalize()} is\", len(result))\n",
      "/home/sam/anaconda3/envs/tf310/lib/python3.10/site-packages/sklearn/metrics/_classification.py:1565: UndefinedMetricWarning: Precision is ill-defined and being set to 0.0 in labels with no predicted samples. Use `zero_division` parameter to control this behavior.\n",
      "  _warn_prf(average, modifier, f\"{metric.capitalize()} is\", len(result))\n"
     ]
    }
   ],
   "source": [
    "# Print classification report\n",
    "print(\"Classification Report:\")\n",
    "print(classification_report(y_true, y_pred, target_names=label_encoder.classes_))"
   ]
  },
  {
   "cell_type": "code",
   "execution_count": 21,
   "id": "63c4353e-4135-49de-aa4e-1368fa9f4336",
   "metadata": {},
   "outputs": [
    {
     "name": "stderr",
     "output_type": "stream",
     "text": [
      "/home/sam/anaconda3/envs/tf310/lib/python3.10/site-packages/tqdm/auto.py:21: TqdmWarning: IProgress not found. Please update jupyter and ipywidgets. See https://ipywidgets.readthedocs.io/en/stable/user_install.html\n",
      "  from .autonotebook import tqdm as notebook_tqdm\n"
     ]
    },
    {
     "name": "stdout",
     "output_type": "stream",
     "text": [
      "\u001b[1m4/4\u001b[0m \u001b[32m━━━━━━━━━━━━━━━━━━━━\u001b[0m\u001b[37m\u001b[0m \u001b[1m0s\u001b[0m 4ms/step  \n"
     ]
    },
    {
     "name": "stderr",
     "output_type": "stream",
     "text": [
      "  0%|                                                    | 0/10 [00:00<?, ?it/s]"
     ]
    },
    {
     "name": "stdout",
     "output_type": "stream",
     "text": [
      "\u001b[1m1/1\u001b[0m \u001b[32m━━━━━━━━━━━━━━━━━━━━\u001b[0m\u001b[37m\u001b[0m \u001b[1m0s\u001b[0m 19ms/step\n",
      "\u001b[1m794/794\u001b[0m \u001b[32m━━━━━━━━━━━━━━━━━━━━\u001b[0m\u001b[37m\u001b[0m \u001b[1m0s\u001b[0m 530us/step\n"
     ]
    },
    {
     "name": "stderr",
     "output_type": "stream",
     "text": [
      " 10%|████▍                                       | 1/10 [00:00<00:05,  1.69it/s]"
     ]
    },
    {
     "name": "stdout",
     "output_type": "stream",
     "text": [
      "\u001b[1m1/1\u001b[0m \u001b[32m━━━━━━━━━━━━━━━━━━━━\u001b[0m\u001b[37m\u001b[0m \u001b[1m0s\u001b[0m 18ms/step\n",
      "\u001b[1m794/794\u001b[0m \u001b[32m━━━━━━━━━━━━━━━━━━━━\u001b[0m\u001b[37m\u001b[0m \u001b[1m0s\u001b[0m 504us/step\n"
     ]
    },
    {
     "name": "stderr",
     "output_type": "stream",
     "text": [
      " 20%|████████▊                                   | 2/10 [00:01<00:04,  1.79it/s]"
     ]
    },
    {
     "name": "stdout",
     "output_type": "stream",
     "text": [
      "\u001b[1m1/1\u001b[0m \u001b[32m━━━━━━━━━━━━━━━━━━━━\u001b[0m\u001b[37m\u001b[0m \u001b[1m0s\u001b[0m 18ms/step\n",
      "\u001b[1m794/794\u001b[0m \u001b[32m━━━━━━━━━━━━━━━━━━━━\u001b[0m\u001b[37m\u001b[0m \u001b[1m0s\u001b[0m 502us/step\n"
     ]
    },
    {
     "name": "stderr",
     "output_type": "stream",
     "text": [
      " 30%|█████████████▏                              | 3/10 [00:01<00:03,  1.83it/s]"
     ]
    },
    {
     "name": "stdout",
     "output_type": "stream",
     "text": [
      "\u001b[1m1/1\u001b[0m \u001b[32m━━━━━━━━━━━━━━━━━━━━\u001b[0m\u001b[37m\u001b[0m \u001b[1m0s\u001b[0m 17ms/step\n",
      "\u001b[1m794/794\u001b[0m \u001b[32m━━━━━━━━━━━━━━━━━━━━\u001b[0m\u001b[37m\u001b[0m \u001b[1m0s\u001b[0m 498us/step\n"
     ]
    },
    {
     "name": "stderr",
     "output_type": "stream",
     "text": [
      " 40%|█████████████████▌                          | 4/10 [00:02<00:03,  1.85it/s]"
     ]
    },
    {
     "name": "stdout",
     "output_type": "stream",
     "text": [
      "\u001b[1m1/1\u001b[0m \u001b[32m━━━━━━━━━━━━━━━━━━━━\u001b[0m\u001b[37m\u001b[0m \u001b[1m0s\u001b[0m 19ms/step\n",
      "\u001b[1m794/794\u001b[0m \u001b[32m━━━━━━━━━━━━━━━━━━━━\u001b[0m\u001b[37m\u001b[0m \u001b[1m0s\u001b[0m 501us/step\n"
     ]
    },
    {
     "name": "stderr",
     "output_type": "stream",
     "text": [
      " 50%|██████████████████████                      | 5/10 [00:02<00:02,  1.86it/s]"
     ]
    },
    {
     "name": "stdout",
     "output_type": "stream",
     "text": [
      "\u001b[1m1/1\u001b[0m \u001b[32m━━━━━━━━━━━━━━━━━━━━\u001b[0m\u001b[37m\u001b[0m \u001b[1m0s\u001b[0m 17ms/step\n",
      "\u001b[1m794/794\u001b[0m \u001b[32m━━━━━━━━━━━━━━━━━━━━\u001b[0m\u001b[37m\u001b[0m \u001b[1m0s\u001b[0m 497us/step\n"
     ]
    },
    {
     "name": "stderr",
     "output_type": "stream",
     "text": [
      " 60%|██████████████████████████▍                 | 6/10 [00:03<00:02,  1.87it/s]"
     ]
    },
    {
     "name": "stdout",
     "output_type": "stream",
     "text": [
      "\u001b[1m1/1\u001b[0m \u001b[32m━━━━━━━━━━━━━━━━━━━━\u001b[0m\u001b[37m\u001b[0m \u001b[1m0s\u001b[0m 19ms/step\n",
      "\u001b[1m794/794\u001b[0m \u001b[32m━━━━━━━━━━━━━━━━━━━━\u001b[0m\u001b[37m\u001b[0m \u001b[1m0s\u001b[0m 507us/step\n"
     ]
    },
    {
     "name": "stderr",
     "output_type": "stream",
     "text": [
      " 70%|██████████████████████████████▊             | 7/10 [00:03<00:01,  1.87it/s]"
     ]
    },
    {
     "name": "stdout",
     "output_type": "stream",
     "text": [
      "\u001b[1m1/1\u001b[0m \u001b[32m━━━━━━━━━━━━━━━━━━━━\u001b[0m\u001b[37m\u001b[0m \u001b[1m0s\u001b[0m 17ms/step\n",
      "\u001b[1m794/794\u001b[0m \u001b[32m━━━━━━━━━━━━━━━━━━━━\u001b[0m\u001b[37m\u001b[0m \u001b[1m0s\u001b[0m 506us/step\n"
     ]
    },
    {
     "name": "stderr",
     "output_type": "stream",
     "text": [
      " 80%|███████████████████████████████████▏        | 8/10 [00:04<00:01,  1.87it/s]"
     ]
    },
    {
     "name": "stdout",
     "output_type": "stream",
     "text": [
      "\u001b[1m1/1\u001b[0m \u001b[32m━━━━━━━━━━━━━━━━━━━━\u001b[0m\u001b[37m\u001b[0m \u001b[1m0s\u001b[0m 19ms/step\n",
      "\u001b[1m794/794\u001b[0m \u001b[32m━━━━━━━━━━━━━━━━━━━━\u001b[0m\u001b[37m\u001b[0m \u001b[1m0s\u001b[0m 503us/step\n"
     ]
    },
    {
     "name": "stderr",
     "output_type": "stream",
     "text": [
      " 90%|███████████████████████████████████████▌    | 9/10 [00:04<00:00,  1.87it/s]"
     ]
    },
    {
     "name": "stdout",
     "output_type": "stream",
     "text": [
      "\u001b[1m1/1\u001b[0m \u001b[32m━━━━━━━━━━━━━━━━━━━━\u001b[0m\u001b[37m\u001b[0m \u001b[1m0s\u001b[0m 18ms/step\n",
      "\u001b[1m794/794\u001b[0m \u001b[32m━━━━━━━━━━━━━━━━━━━━\u001b[0m\u001b[37m\u001b[0m \u001b[1m0s\u001b[0m 501us/step\n"
     ]
    },
    {
     "name": "stderr",
     "output_type": "stream",
     "text": [
      "100%|███████████████████████████████████████████| 10/10 [00:05<00:00,  1.86it/s]\n"
     ]
    }
   ],
   "source": [
    "import shap\n",
    "\n",
    "timesteps = X_train_seq.shape[1]\n",
    "feature_size = X_train_seq.shape[2]\n",
    "\n",
    "# Flatten over time for KernelExplainer input (required to make it 2D)\n",
    "background = X_train_seq[:100].mean(axis=1)  # shape: (100, features)\n",
    "\n",
    "# Define prediction function that reshapes 2D input back to 3D for the LSTM\n",
    "def predict_fn(x):\n",
    "    x_reshaped = x.reshape((x.shape[0], 1, feature_size))  # reshape to (batch, 1, features)\n",
    "    return model.predict(x_reshaped)\n",
    "\n",
    "explainer = shap.KernelExplainer(predict_fn, background)\n",
    "\n",
    "# Flatten test samples too\n",
    "X_test_flat = X_test_seq[:10].mean(axis=1)  # shape: (10, features)\n",
    "\n",
    "# Explain predictions\n",
    "shap_values = explainer.shap_values(X_test_flat)"
   ]
  },
  {
   "cell_type": "code",
   "execution_count": 22,
   "id": "90798501-17f1-4d3d-b12a-c8cbab738bc5",
   "metadata": {},
   "outputs": [
    {
     "name": "stdout",
     "output_type": "stream",
     "text": [
      "\n",
      "Top features for class CSI\n",
      "Scene     0.004021\n",
      "Image     0.001495\n",
      "Start     0.000592\n",
      "End       0.000494\n",
      "Y         0.000428\n",
      "ROI       0.000132\n",
      "FixDur    0.000083\n",
      "X         0.000060\n",
      "dtype: float64\n",
      "\n",
      "Top features for class Control\n",
      "Image     0.000140\n",
      "End       0.000075\n",
      "Start     0.000072\n",
      "Scene     0.000042\n",
      "X         0.000015\n",
      "FixDur    0.000011\n",
      "Y         0.000006\n",
      "ROI       0.000005\n",
      "dtype: float64\n",
      "\n",
      "Top features for class FirstYear\n",
      "Scene     0.002930\n",
      "Image     0.001189\n",
      "Start     0.000442\n",
      "End       0.000378\n",
      "Y         0.000311\n",
      "ROI       0.000102\n",
      "FixDur    0.000063\n",
      "X         0.000051\n",
      "dtype: float64\n",
      "\n",
      "Top features for class ThirdYear\n",
      "Scene     0.001121\n",
      "Image     0.000444\n",
      "Start     0.000222\n",
      "End       0.000193\n",
      "Y         0.000118\n",
      "ROI       0.000029\n",
      "X         0.000026\n",
      "FixDur    0.000022\n",
      "dtype: float64\n"
     ]
    }
   ],
   "source": [
    "# Assume: shap_values has shape (samples, features, classes)\n",
    "n_classes = shap_values.shape[2]\n",
    "feature_names = features  # or manually define if needed\n",
    "\n",
    "for class_idx in range(n_classes):\n",
    "    print(f\"\\nTop features for class {label_encoder.classes_[class_idx]}\")\n",
    "    \n",
    "    # Take absolute SHAP values for the given class and average over samples\n",
    "    class_shap = np.abs(shap_values[:, :, class_idx]).mean(axis=0)  # shape: (features,)\n",
    "    \n",
    "    top_features = pd.Series(class_shap, index=feature_names).sort_values(ascending=False)\n",
    "    print(top_features)"
   ]
  }
 ],
 "metadata": {
  "kernelspec": {
   "display_name": "Python 3 (ipykernel)",
   "language": "python",
   "name": "python3"
  },
  "language_info": {
   "codemirror_mode": {
    "name": "ipython",
    "version": 3
   },
   "file_extension": ".py",
   "mimetype": "text/x-python",
   "name": "python",
   "nbconvert_exporter": "python",
   "pygments_lexer": "ipython3",
   "version": "3.10.16"
  }
 },
 "nbformat": 4,
 "nbformat_minor": 5
}
