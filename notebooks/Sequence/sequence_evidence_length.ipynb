{
 "cells": [
  {
   "cell_type": "code",
   "execution_count": null,
   "id": "42720dcb-311f-4b23-9bc2-12e3453772cd",
   "metadata": {},
   "outputs": [],
   "source": [
    "import pandas as pd\n",
    "\n",
    "pad = \"../../data/csv/\"\n",
    "image_pad =  \"../../data/Images/CrimeScenes/\"\n",
    "\n",
    "df = pd.read_csv(pad + 'fix_evidence.csv')\n",
    "\n",
    "# Replace NaNs in 'Evidence' just in case\n",
    "df['Evidence'] = df['Evidence'].fillna('')\n",
    "\n",
    "# Group by participant and aggregate evidence into lists\n",
    "grouped = df.groupby(['Participant', 'experience'])['Evidence'].agg(list).reset_index()\n",
    "\n",
    "# Determine the max sequence length\n",
    "max_len = grouped['Evidence'].apply(len).max()\n",
    "\n",
    "# Pad each list with 'PAD' to the max length\n",
    "grouped['evidence_sequence'] = grouped['Evidence'].apply(\n",
    "    lambda x: ','.join(map(str, x + [-1] * (max_len - len(x))))\n",
    ")\n",
    "\n",
    "# Drop the original list column if not needed\n",
    "grouped = grouped.drop(columns=['Evidence'])\n",
    "\n",
    "# Save to CSV\n",
    "grouped.to_csv(pad + 'csi_data_evidence_padded.csv', index=False)\n"
   ]
  },
  {
   "cell_type": "code",
   "execution_count": null,
   "id": "594dc935-ded1-4429-ae29-ec2bb74c5c01",
   "metadata": {},
   "outputs": [],
   "source": [
    "import pandas as pd\n",
    "\n",
    "pad = \"../../data/csv/\"\n",
    "image_pad =  \"../../data/Images/CrimeScenes/\"\n",
    "\n",
    "df = pd.read_csv(pad + 'fix_evidence.csv')\n",
    "\n",
    "# Replace NaNs in 'Evidence' just in case\n",
    "df['Evidence'] = df['Evidence'].fillna('')\n",
    "\n",
    "# Group by Participant, Image, and Scene and aggregate evidence into lists\n",
    "grouped = df.groupby(['Participant', 'Image', 'Scene'])['Evidence'].agg(list).reset_index()\n",
    "\n",
    "# Determine the max sequence length across all groups\n",
    "max_len = grouped['Evidence'].apply(len).max()\n",
    "\n",
    "# Pad each list with -1 to the max length and convert to comma-separated string\n",
    "grouped['evidence_sequence'] = grouped['Evidence'].apply(\n",
    "    lambda x: ','.join(map(str, x + [-1] * (max_len - len(x))))\n",
    ")\n",
    "\n",
    "# Drop the original list column if not needed\n",
    "grouped = grouped.drop(columns=['Evidence'])\n",
    "\n",
    "# Save to CSV\n",
    "grouped.to_csv(pad + 'csi_data_evidence_padded_by_image_scene.csv', index=False)\n"
   ]
  }
 ],
 "metadata": {
  "kernelspec": {
   "display_name": "Python 3 (ipykernel)",
   "language": "python",
   "name": "python3"
  },
  "language_info": {
   "codemirror_mode": {
    "name": "ipython",
    "version": 3
   },
   "file_extension": ".py",
   "mimetype": "text/x-python",
   "name": "python",
   "nbconvert_exporter": "python",
   "pygments_lexer": "ipython3",
   "version": "3.12.9"
  }
 },
 "nbformat": 4,
 "nbformat_minor": 5
}
