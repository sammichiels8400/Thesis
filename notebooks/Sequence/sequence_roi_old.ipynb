{
  "cells": [
    {
      "cell_type": "markdown",
      "id": "98fb24cf-0c2c-42a9-9a19-05c1aea64d4a",
      "metadata": {},
      "source": [
        "# Sequence\n",
        "\n",
        "In this notebook I have merged two different csv's. The first one is the particpants csv, and the other one is the fixations csv. I combined the csv's based on the participants and made a sequence of the order at which the participants look at things. This gives us one csv with the following columns: participant, experience and obs_sequence.\n"
      ]
    },
    {
      "cell_type": "code",
      "execution_count": null,
      "id": "1a1777c0-3faa-4c3c-8011-6e917a026179",
      "metadata": {
        "tags": []
      },
      "outputs": [
        {
          "data": {
            "text/html": [
              "<div>\n",
              "<style scoped>\n",
              "    .dataframe tbody tr th:only-of-type {\n",
              "        vertical-align: middle;\n",
              "    }\n",
              "\n",
              "    .dataframe tbody tr th {\n",
              "        vertical-align: top;\n",
              "    }\n",
              "\n",
              "    .dataframe thead th {\n",
              "        text-align: right;\n",
              "    }\n",
              "</style>\n",
              "<table border=\"1\" class=\"dataframe\">\n",
              "  <thead>\n",
              "    <tr style=\"text-align: right;\">\n",
              "      <th></th>\n",
              "      <th>Participant</th>\n",
              "      <th>obs_sequence</th>\n",
              "      <th>experience</th>\n",
              "    </tr>\n",
              "  </thead>\n",
              "  <tbody>\n",
              "    <tr>\n",
              "      <th>0</th>\n",
              "      <td>2.0</td>\n",
              "      <td>[0, 22, 9, 8, 0, 0, 0, 0, 0, 8, 8, 7, 17, 15, ...</td>\n",
              "      <td>Control</td>\n",
              "    </tr>\n",
              "    <tr>\n",
              "      <th>1708</th>\n",
              "      <td>4.0</td>\n",
              "      <td>[19, 9, 0, 0, 0, 0, 0, 0, 0, 0, 8, 8, 8, 8, 19...</td>\n",
              "      <td>FirstYear</td>\n",
              "    </tr>\n",
              "    <tr>\n",
              "      <th>2145</th>\n",
              "      <td>7.0</td>\n",
              "      <td>[0, 18, 8, 0, 0, 0, 0, 0, 12, 7, 15, 2, 2, 7, ...</td>\n",
              "      <td>Control</td>\n",
              "    </tr>\n",
              "    <tr>\n",
              "      <th>3017</th>\n",
              "      <td>11.0</td>\n",
              "      <td>[15, 0, 23, 9, 9, 0, 8, 9, 0, 0, 0, 9, 0, 0, 8...</td>\n",
              "      <td>ThirdYear</td>\n",
              "    </tr>\n",
              "    <tr>\n",
              "      <th>3685</th>\n",
              "      <td>12.0</td>\n",
              "      <td>[19, 9, 19, 8, 0, 0, 11, 0, 0, 0, 0, 0, 0, 19,...</td>\n",
              "      <td>FirstYear</td>\n",
              "    </tr>\n",
              "  </tbody>\n",
              "</table>\n",
              "</div>"
            ],
            "text/plain": [
              "      Participant                                       obs_sequence  \\\n",
              "0             2.0  [0, 22, 9, 8, 0, 0, 0, 0, 0, 8, 8, 7, 17, 15, ...   \n",
              "1708          4.0  [19, 9, 0, 0, 0, 0, 0, 0, 0, 0, 8, 8, 8, 8, 19...   \n",
              "2145          7.0  [0, 18, 8, 0, 0, 0, 0, 0, 12, 7, 15, 2, 2, 7, ...   \n",
              "3017         11.0  [15, 0, 23, 9, 9, 0, 8, 9, 0, 0, 0, 9, 0, 0, 8...   \n",
              "3685         12.0  [19, 9, 19, 8, 0, 0, 11, 0, 0, 0, 0, 0, 0, 19,...   \n",
              "\n",
              "     experience  \n",
              "0       Control  \n",
              "1708  FirstYear  \n",
              "2145    Control  \n",
              "3017  ThirdYear  \n",
              "3685  FirstYear  "
            ]
          },
          "execution_count": 1,
          "metadata": {},
          "output_type": "execute_result"
        }
      ],
      "source": [
        "import pandas as pd\n",
        "\n",
        "pad = \"../../data/csv/\"\n",
        "image_pad =  \"../../data/Images/CrimeScenes/\"\n",
        "\n",
        "df = pd.read_csv(pad + 'fix_evidence.csv')\n",
        "\n",
        "# Create a sequence of obs_names per participant\n",
        "df['roi_sequence'] = df.groupby('Participant')['ROI'].transform(lambda x: ','.join(map(str, x)))\n",
        "\n",
        "# Drop duplicates to keep only one sequence per participant\n",
        "df_sequence = df[['Participant', 'roi_sequence', 'experience']].drop_duplicates()\n",
        "\n",
        "# Resulting dataset\n",
        "df_sequence.head()\n",
        "\n",
        "df_sequence.to_csv(pad + 'csi_data_roi.csv', index=False)"
      ]
    },
    {
      "cell_type": "code",
      "execution_count": 2,
      "id": "d26a6a2f-d75e-4d3f-9ef1-ff95542ed4ce",
      "metadata": {},
      "outputs": [],
      "source": [
        "# Function to collapse the list by removing consecutive duplicates\n",
        "def collapse_numbers(numbers):\n",
        "    result = []\n",
        "    for num in numbers:\n",
        "        if not result or num != result[-1]:\n",
        "            result.append(num)\n",
        "    return result"
      ]
    },
    {
      "cell_type": "code",
      "execution_count": 3,
      "id": "2ec9c2dc",
      "metadata": {},
      "outputs": [],
      "source": [
        "df_sequence['collapsed'] = df_sequence['obs_sequence'].apply(lambda x : collapse_numbers(x))"
      ]
    },
    {
      "cell_type": "code",
      "execution_count": 4,
      "id": "28ad93a5",
      "metadata": {},
      "outputs": [
        {
          "data": {
            "text/html": [
              "<div>\n",
              "<style scoped>\n",
              "    .dataframe tbody tr th:only-of-type {\n",
              "        vertical-align: middle;\n",
              "    }\n",
              "\n",
              "    .dataframe tbody tr th {\n",
              "        vertical-align: top;\n",
              "    }\n",
              "\n",
              "    .dataframe thead th {\n",
              "        text-align: right;\n",
              "    }\n",
              "</style>\n",
              "<table border=\"1\" class=\"dataframe\">\n",
              "  <thead>\n",
              "    <tr style=\"text-align: right;\">\n",
              "      <th></th>\n",
              "      <th>Participant</th>\n",
              "      <th>obs_sequence</th>\n",
              "      <th>experience</th>\n",
              "      <th>collapsed</th>\n",
              "    </tr>\n",
              "  </thead>\n",
              "  <tbody>\n",
              "    <tr>\n",
              "      <th>0</th>\n",
              "      <td>2.0</td>\n",
              "      <td>[0, 22, 9, 8, 0, 0, 0, 0, 0, 8, 8, 7, 17, 15, ...</td>\n",
              "      <td>Control</td>\n",
              "      <td>[0, 22, 9, 8, 0, 8, 7, 17, 15, 8, 0, 9, 0, 23,...</td>\n",
              "    </tr>\n",
              "    <tr>\n",
              "      <th>1708</th>\n",
              "      <td>4.0</td>\n",
              "      <td>[19, 9, 0, 0, 0, 0, 0, 0, 0, 0, 8, 8, 8, 8, 19...</td>\n",
              "      <td>FirstYear</td>\n",
              "      <td>[19, 9, 0, 8, 19, 0, 7, 0, 9, 7, 21, 0, 9, 8, ...</td>\n",
              "    </tr>\n",
              "    <tr>\n",
              "      <th>2145</th>\n",
              "      <td>7.0</td>\n",
              "      <td>[0, 18, 8, 0, 0, 0, 0, 0, 12, 7, 15, 2, 2, 7, ...</td>\n",
              "      <td>Control</td>\n",
              "      <td>[0, 18, 8, 0, 12, 7, 15, 2, 7, 9, 0, 9, 2, 17,...</td>\n",
              "    </tr>\n",
              "    <tr>\n",
              "      <th>3017</th>\n",
              "      <td>11.0</td>\n",
              "      <td>[15, 0, 23, 9, 9, 0, 8, 9, 0, 0, 0, 9, 0, 0, 8...</td>\n",
              "      <td>ThirdYear</td>\n",
              "      <td>[15, 0, 23, 9, 0, 8, 9, 0, 9, 0, 8, 0, 8, 0, 8...</td>\n",
              "    </tr>\n",
              "    <tr>\n",
              "      <th>3685</th>\n",
              "      <td>12.0</td>\n",
              "      <td>[19, 9, 19, 8, 0, 0, 11, 0, 0, 0, 0, 0, 0, 19,...</td>\n",
              "      <td>FirstYear</td>\n",
              "      <td>[19, 9, 19, 8, 0, 11, 0, 19, 0, 17, 13, 15, 2,...</td>\n",
              "    </tr>\n",
              "  </tbody>\n",
              "</table>\n",
              "</div>"
            ],
            "text/plain": [
              "      Participant                                       obs_sequence  \\\n",
              "0             2.0  [0, 22, 9, 8, 0, 0, 0, 0, 0, 8, 8, 7, 17, 15, ...   \n",
              "1708          4.0  [19, 9, 0, 0, 0, 0, 0, 0, 0, 0, 8, 8, 8, 8, 19...   \n",
              "2145          7.0  [0, 18, 8, 0, 0, 0, 0, 0, 12, 7, 15, 2, 2, 7, ...   \n",
              "3017         11.0  [15, 0, 23, 9, 9, 0, 8, 9, 0, 0, 0, 9, 0, 0, 8...   \n",
              "3685         12.0  [19, 9, 19, 8, 0, 0, 11, 0, 0, 0, 0, 0, 0, 19,...   \n",
              "\n",
              "     experience                                          collapsed  \n",
              "0       Control  [0, 22, 9, 8, 0, 8, 7, 17, 15, 8, 0, 9, 0, 23,...  \n",
              "1708  FirstYear  [19, 9, 0, 8, 19, 0, 7, 0, 9, 7, 21, 0, 9, 8, ...  \n",
              "2145    Control  [0, 18, 8, 0, 12, 7, 15, 2, 7, 9, 0, 9, 2, 17,...  \n",
              "3017  ThirdYear  [15, 0, 23, 9, 0, 8, 9, 0, 9, 0, 8, 0, 8, 0, 8...  \n",
              "3685  FirstYear  [19, 9, 19, 8, 0, 11, 0, 19, 0, 17, 13, 15, 2,...  "
            ]
          },
          "execution_count": 4,
          "metadata": {},
          "output_type": "execute_result"
        }
      ],
      "source": [
        "df_sequence.head()"
      ]
    },
    {
      "cell_type": "code",
      "execution_count": 5,
      "id": "41850e5d-c6c4-4555-90b9-c2e643f9d447",
      "metadata": {
        "tags": []
      },
      "outputs": [],
      "source": [
        "df = pd.read_csv(pad + 'fix_evidence.csv')\n",
        "\n",
        "# Fill missing evidence values if any\n",
        "df['ROI'] = df['ROI'].fillna('')\n",
        "\n",
        "# Create a sequence of Evidence per Participant, Image, Scene\n",
        "df['roi_sequence'] = df.groupby(['Participant', 'Image', 'Scene'])['ROI'].transform(lambda x: ','.join(map(str, x)))\n",
        "\n",
        "# Drop duplicates to keep one row per unique group\n",
        "df_sequence = df[['Participant', 'Image', 'Scene', 'roi_sequence', 'experience']].drop_duplicates()\n",
        "\n",
        "\n",
        "df_name_sequence.to_csv(pad + 'csi_data.csv', index=False)"
      ]
    },
    {
      "cell_type": "markdown",
      "id": "d6ad1e34",
      "metadata": {},
      "source": [
        "function to calculate the values within the list.\n"
      ]
    },
    {
      "cell_type": "code",
      "execution_count": 6,
      "id": "c343beec-0d76-46b0-9adf-2a3f223de29a",
      "metadata": {},
      "outputs": [],
      "source": [
        "# Function to collapse the list with the numbers calculated\n",
        "def count_consecutive_occurrences(lst):\n",
        "    result = []\n",
        "    count = 1  # Initialize counter\n",
        "\n",
        "    for i in range(1, len(lst)):\n",
        "        if lst[i] == lst[i - 1]:  # If current value equals the previous one\n",
        "            count += 1  # Increment counter\n",
        "        else:\n",
        "            result.append(count)  # Append the count to result\n",
        "            count = 1  # Reset counter\n",
        "\n",
        "    result.append(count)  # Append the last count\n",
        "    return result\n"
      ]
    },
    {
      "cell_type": "code",
      "execution_count": 7,
      "id": "d46794c3",
      "metadata": {},
      "outputs": [
        {
          "name": "stdout",
          "output_type": "stream",
          "text": [
            "[1, 2, 1, 1, 3]\n"
          ]
        }
      ],
      "source": [
        "input_list = [1, 5, 5, 6, 4, 1, 1, 1]\n",
        "output_list = count_consecutive_occurrences(input_list)\n",
        "print(output_list)"
      ]
    },
    {
      "cell_type": "code",
      "execution_count": 8,
      "id": "c5cd22bc",
      "metadata": {},
      "outputs": [],
      "source": [
        "df_sequence['collapse_amount'] = df_sequence['obs_sequence'].apply(lambda x : count_consecutive_occurrences(x))"
      ]
    },
    {
      "cell_type": "code",
      "execution_count": 9,
      "id": "63f53eef",
      "metadata": {},
      "outputs": [
        {
          "data": {
            "text/html": [
              "<div>\n",
              "<style scoped>\n",
              "    .dataframe tbody tr th:only-of-type {\n",
              "        vertical-align: middle;\n",
              "    }\n",
              "\n",
              "    .dataframe tbody tr th {\n",
              "        vertical-align: top;\n",
              "    }\n",
              "\n",
              "    .dataframe thead th {\n",
              "        text-align: right;\n",
              "    }\n",
              "</style>\n",
              "<table border=\"1\" class=\"dataframe\">\n",
              "  <thead>\n",
              "    <tr style=\"text-align: right;\">\n",
              "      <th></th>\n",
              "      <th>Participant</th>\n",
              "      <th>obs_sequence</th>\n",
              "      <th>experience</th>\n",
              "      <th>collapsed</th>\n",
              "      <th>collapse_amount</th>\n",
              "    </tr>\n",
              "  </thead>\n",
              "  <tbody>\n",
              "    <tr>\n",
              "      <th>0</th>\n",
              "      <td>2.0</td>\n",
              "      <td>[0, 22, 9, 8, 0, 0, 0, 0, 0, 8, 8, 7, 17, 15, ...</td>\n",
              "      <td>Control</td>\n",
              "      <td>[0, 22, 9, 8, 0, 8, 7, 17, 15, 8, 0, 9, 0, 23,...</td>\n",
              "      <td>[1, 1, 1, 1, 5, 2, 1, 1, 1, 1, 1, 1, 1, 1, 1, ...</td>\n",
              "    </tr>\n",
              "    <tr>\n",
              "      <th>1708</th>\n",
              "      <td>4.0</td>\n",
              "      <td>[19, 9, 0, 0, 0, 0, 0, 0, 0, 0, 8, 8, 8, 8, 19...</td>\n",
              "      <td>FirstYear</td>\n",
              "      <td>[19, 9, 0, 8, 19, 0, 7, 0, 9, 7, 21, 0, 9, 8, ...</td>\n",
              "      <td>[1, 1, 8, 4, 1, 1, 1, 3, 3, 1, 1, 2, 2, 1, 1, ...</td>\n",
              "    </tr>\n",
              "    <tr>\n",
              "      <th>2145</th>\n",
              "      <td>7.0</td>\n",
              "      <td>[0, 18, 8, 0, 0, 0, 0, 0, 12, 7, 15, 2, 2, 7, ...</td>\n",
              "      <td>Control</td>\n",
              "      <td>[0, 18, 8, 0, 12, 7, 15, 2, 7, 9, 0, 9, 2, 17,...</td>\n",
              "      <td>[1, 1, 1, 5, 1, 1, 1, 2, 1, 1, 2, 1, 2, 3, 1, ...</td>\n",
              "    </tr>\n",
              "    <tr>\n",
              "      <th>3017</th>\n",
              "      <td>11.0</td>\n",
              "      <td>[15, 0, 23, 9, 9, 0, 8, 9, 0, 0, 0, 9, 0, 0, 8...</td>\n",
              "      <td>ThirdYear</td>\n",
              "      <td>[15, 0, 23, 9, 0, 8, 9, 0, 9, 0, 8, 0, 8, 0, 8...</td>\n",
              "      <td>[1, 1, 1, 2, 1, 1, 1, 3, 1, 2, 1, 1, 1, 1, 1, ...</td>\n",
              "    </tr>\n",
              "    <tr>\n",
              "      <th>3685</th>\n",
              "      <td>12.0</td>\n",
              "      <td>[19, 9, 19, 8, 0, 0, 11, 0, 0, 0, 0, 0, 0, 19,...</td>\n",
              "      <td>FirstYear</td>\n",
              "      <td>[19, 9, 19, 8, 0, 11, 0, 19, 0, 17, 13, 15, 2,...</td>\n",
              "      <td>[1, 1, 1, 1, 2, 1, 6, 1, 1, 1, 1, 1, 2, 2, 1, ...</td>\n",
              "    </tr>\n",
              "  </tbody>\n",
              "</table>\n",
              "</div>"
            ],
            "text/plain": [
              "      Participant                                       obs_sequence  \\\n",
              "0             2.0  [0, 22, 9, 8, 0, 0, 0, 0, 0, 8, 8, 7, 17, 15, ...   \n",
              "1708          4.0  [19, 9, 0, 0, 0, 0, 0, 0, 0, 0, 8, 8, 8, 8, 19...   \n",
              "2145          7.0  [0, 18, 8, 0, 0, 0, 0, 0, 12, 7, 15, 2, 2, 7, ...   \n",
              "3017         11.0  [15, 0, 23, 9, 9, 0, 8, 9, 0, 0, 0, 9, 0, 0, 8...   \n",
              "3685         12.0  [19, 9, 19, 8, 0, 0, 11, 0, 0, 0, 0, 0, 0, 19,...   \n",
              "\n",
              "     experience                                          collapsed  \\\n",
              "0       Control  [0, 22, 9, 8, 0, 8, 7, 17, 15, 8, 0, 9, 0, 23,...   \n",
              "1708  FirstYear  [19, 9, 0, 8, 19, 0, 7, 0, 9, 7, 21, 0, 9, 8, ...   \n",
              "2145    Control  [0, 18, 8, 0, 12, 7, 15, 2, 7, 9, 0, 9, 2, 17,...   \n",
              "3017  ThirdYear  [15, 0, 23, 9, 0, 8, 9, 0, 9, 0, 8, 0, 8, 0, 8...   \n",
              "3685  FirstYear  [19, 9, 19, 8, 0, 11, 0, 19, 0, 17, 13, 15, 2,...   \n",
              "\n",
              "                                        collapse_amount  \n",
              "0     [1, 1, 1, 1, 5, 2, 1, 1, 1, 1, 1, 1, 1, 1, 1, ...  \n",
              "1708  [1, 1, 8, 4, 1, 1, 1, 3, 3, 1, 1, 2, 2, 1, 1, ...  \n",
              "2145  [1, 1, 1, 5, 1, 1, 1, 2, 1, 1, 2, 1, 2, 3, 1, ...  \n",
              "3017  [1, 1, 1, 2, 1, 1, 1, 3, 1, 2, 1, 1, 1, 1, 1, ...  \n",
              "3685  [1, 1, 1, 1, 2, 1, 6, 1, 1, 1, 1, 1, 2, 2, 1, ...  "
            ]
          },
          "execution_count": 9,
          "metadata": {},
          "output_type": "execute_result"
        }
      ],
      "source": [
        "df_sequence.head()"
      ]
    }
  ],
  "metadata": {
    "kernelspec": {
      "display_name": "Python 3 (ipykernel)",
      "language": "python",
      "name": "python3"
    },
    "language_info": {
      "codemirror_mode": {
        "name": "ipython",
        "version": 3
      },
      "file_extension": ".py",
      "mimetype": "text/x-python",
      "name": "python",
      "nbconvert_exporter": "python",
      "pygments_lexer": "ipython3",
      "version": "3.12.9"
    }
  },
  "nbformat": 4,
  "nbformat_minor": 5
}
