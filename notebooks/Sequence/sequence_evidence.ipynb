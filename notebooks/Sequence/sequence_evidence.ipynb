{
  "cells": [
    {
      "cell_type": "markdown",
      "id": "98fb24cf-0c2c-42a9-9a19-05c1aea64d4a",
      "metadata": {},
      "source": [
        "# Sequence\n",
        "\n",
        "In this notebook I have merged two different csv's. The first one is the particpants csv, and the other one is the fixations csv. I combined the csv's based on the participants and made a sequence of the order at which the participants look at things. This gives us one csv with the following columns: participant, experience and obs_sequence.\n"
      ]
    },
    {
      "cell_type": "code",
      "execution_count": null,
      "id": "1a1777c0-3faa-4c3c-8011-6e917a026179",
      "metadata": {
        "tags": []
      },
      "outputs": [],
      "source": [
        "import pandas as pd\n",
        "\n",
        "pad = \"../../data/csv/\"\n",
        "image_pad =  \"../../data/Images/CrimeScenes/\"\n",
        "\n",
        "df = pd.read_csv(pad + 'fix_evidence.csv')\n",
        "\n",
        "# Create a sequence of obs_names per participant\n",
        "df['evidence_sequence'] = df.groupby('Participant')['Evidence'].transform(lambda x: ','.join(map(str, x)))\n",
        "\n",
        "# Drop duplicates to keep only one sequence per participant\n",
        "df_sequence = df[['Participant', 'evidence_sequence', 'experience']].drop_duplicates()\n",
        "\n",
        "# Resulting dataset\n",
        "df_sequence.head()\n",
        "\n",
        "df_sequence.to_csv(pad + 'csi_data_evidence.csv', index=False)"
      ]
    },
    {
      "cell_type": "code",
      "execution_count": null,
      "id": "d26a6a2f-d75e-4d3f-9ef1-ff95542ed4ce",
      "metadata": {},
      "outputs": [],
      "source": [
        "import pandas as pd\n",
        "\n",
        "pad = \"../../data/csv/\"\n",
        "image_pad =  \"../../data/Images/CrimeScenes/\"\n",
        "\n",
        "df = pd.read_csv(pad + 'fix_evidence.csv')\n",
        "\n",
        "# Fill missing evidence values if any\n",
        "df['Evidence'] = df['Evidence'].fillna('')\n",
        "\n",
        "# Create a sequence of Evidence per Participant, Image, Scene\n",
        "df['evidence_sequence'] = df.groupby(['Participant', 'Image', 'Scene'])['Evidence'].transform(lambda x: ','.join(map(str, x)))\n",
        "\n",
        "# Drop duplicates to keep one row per unique group\n",
        "df_sequence = df[['Participant', 'Image', 'Scene', 'evidence_sequence', 'experience']].drop_duplicates()\n",
        "\n",
        "# Save the resulting dataset\n",
        "df_sequence.to_csv(pad + 'csi_data_evidence_by_image_scene.csv', index=False)\n"
      ]
    }
  ],
  "metadata": {
    "kernelspec": {
      "display_name": "Python 3 (ipykernel)",
      "language": "python",
      "name": "python3"
    },
    "language_info": {
      "codemirror_mode": {
        "name": "ipython",
        "version": 3
      },
      "file_extension": ".py",
      "mimetype": "text/x-python",
      "name": "python",
      "nbconvert_exporter": "python",
      "pygments_lexer": "ipython3",
      "version": "3.10.16"
    }
  },
  "nbformat": 4,
  "nbformat_minor": 5
}
