{
  "cells": [
    {
      "cell_type": "code",
      "execution_count": null,
      "id": "e7c5b1cd-d1ab-4a6d-9083-5be977950a77",
      "metadata": {},
      "outputs": [
        {
          "name": "stdout",
          "output_type": "stream",
          "text": [
            "Expanded dataset to 2931 rows.\n"
          ]
        }
      ],
      "source": [
        "import pandas as pd\n",
        "import numpy as np\n",
        "import random\n",
        "\n",
        "csv_path = \"../../data/csv/csi_data_evidence_by_image_scene.csv\"  # Replace with your actual path\n",
        "# Load dataset\n",
        "df = pd.read_csv(csv_path)  # Replace with your actual file path\n",
        "\n",
        "# Parameters\n",
        "LEN = 10\n",
        "\n",
        "def split_sequence(seq_str, length=5):\n",
        "    \"\"\"Split a long sequence string into multiple shorter sequences of random lengths between min_len and max_len.\"\"\"\n",
        "    tokens = [s.strip().lower() for s in seq_str.split(',')]\n",
        "    chunks = []\n",
        "    i = 0\n",
        "    while i < len(tokens):\n",
        "        chunk = tokens[i:i+length]\n",
        "        if len(chunk) >= length:\n",
        "            chunks.append(','.join(chunk))\n",
        "        i += length\n",
        "    return chunks\n",
        "\n",
        "# New rows will be stored here\n",
        "new_rows = []\n",
        "\n",
        "# Iterate over each row\n",
        "for idx, row in df.iterrows():\n",
        "    short_seqs = split_sequence(row['evidence_sequence'], LEN)\n",
        "    for seq in short_seqs:\n",
        "        new_rows.append({\n",
        "            'Participant': row.get('Participant', idx),  # fallback to row index if no ID\n",
        "            'evidence_sequence': seq,\n",
        "            'experience': row['experience']\n",
        "        })\n",
        "\n",
        "# Create new DataFrame\n",
        "expanded_df = pd.DataFrame(new_rows)\n",
        "\n",
        "# Save or continue processing\n",
        "expanded_df.to_csv(\"../../data/csv/expanded_dataset_by_image_scene_evidence.csv\", index=False)\n",
        "print(f\"Expanded dataset to {len(expanded_df)} rows.\")\n"
      ]
    }
  ],
  "metadata": {
    "kernelspec": {
      "display_name": "Python 3 (ipykernel)",
      "language": "python",
      "name": "python3"
    },
    "language_info": {
      "codemirror_mode": {
        "name": "ipython",
        "version": 3
      },
      "file_extension": ".py",
      "mimetype": "text/x-python",
      "name": "python",
      "nbconvert_exporter": "python",
      "pygments_lexer": "ipython3",
      "version": "3.10.16"
    }
  },
  "nbformat": 4,
  "nbformat_minor": 5
}
