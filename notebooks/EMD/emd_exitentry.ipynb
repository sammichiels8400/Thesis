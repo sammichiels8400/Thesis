{
 "cells": [
  {
   "cell_type": "code",
   "execution_count": null,
   "id": "233a5af1-447e-43fd-add1-fbb24fd0becd",
   "metadata": {},
   "outputs": [],
   "source": [
    "import pandas as pd\n",
    "from sklearn.model_selection import train_test_split\n",
    "csv_path = \"../../data/csv/expanded_dataset_exitentry.csv\"\n",
    "df = pd.read_csv(csv_path)\n"
   ]
  },
  {
   "cell_type": "code",
   "execution_count": 2,
   "id": "502db03b-4742-483d-8a22-ec64de73cd49",
   "metadata": {},
   "outputs": [],
   "source": [
    "from scipy.stats import wasserstein_distance\n",
    "\n",
    "# Example: Compare 'evidence_sequence' between two groups\n",
    "group1 = df[df['experience'] == 'Control']['exitentry_sequence']\n",
    "group2 = df[df['experience'] == 'CSI']['exitentry_sequence']\n",
    "\n",
    "# Convert sequences to numerical values if necessary\n",
    "def sequence_to_numeric(sequence):\n",
    "    return [1 if x == 'yes' else 0 for x in sequence.split(',')]\n",
    "\n",
    "group1_numeric = group1.apply(sequence_to_numeric)\n",
    "group2_numeric = group2.apply(sequence_to_numeric)\n",
    "\n",
    "\n",
    "group1_train, group1_test = train_test_split(group1_numeric, test_size=0.1, random_state=42)\n",
    "group2_train, group2_test = train_test_split(group2_numeric, test_size=0.1, random_state=42)\n"
   ]
  },
  {
   "cell_type": "code",
   "execution_count": 3,
   "id": "56218711-f8d8-408c-a404-ad7cfacc6a76",
   "metadata": {},
   "outputs": [
    {
     "name": "stdout",
     "output_type": "stream",
     "text": [
      "Wasserstein Distance: 0.00298159836081624\n"
     ]
    }
   ],
   "source": [
    "# Flatten the lists\n",
    "group1_flat = [item for sublist in group1_train for item in sublist]\n",
    "group2_flat = [item for sublist in group2_train for item in sublist]\n",
    "\n",
    "distance = wasserstein_distance(group1_flat, group2_flat)\n",
    "print(f'Wasserstein Distance: {distance}')\n"
   ]
  },
  {
   "cell_type": "code",
   "execution_count": 4,
   "id": "3d63c610-c029-42c3-af6e-4d4ecf73ab0f",
   "metadata": {},
   "outputs": [
    {
     "data": {
      "text/plain": [
       "2816    [0, 0, 0, 0, 0, 0, 0, 0, 0, 0]\n",
       "290     [0, 0, 0, 0, 0, 0, 0, 0, 0, 0]\n",
       "54      [0, 0, 0, 0, 0, 0, 0, 0, 0, 0]\n",
       "2954    [1, 0, 0, 0, 0, 0, 0, 0, 0, 0]\n",
       "278     [0, 0, 0, 0, 0, 0, 0, 0, 0, 0]\n",
       "                     ...              \n",
       "71      [0, 0, 0, 0, 0, 0, 0, 0, 0, 0]\n",
       "106     [0, 0, 0, 0, 0, 0, 0, 0, 0, 0]\n",
       "1636    [0, 0, 0, 0, 0, 0, 0, 0, 0, 0]\n",
       "2648    [0, 0, 0, 0, 0, 0, 0, 0, 0, 0]\n",
       "102     [0, 0, 0, 0, 0, 0, 0, 0, 0, 0]\n",
       "Name: exitentry_sequence, Length: 711, dtype: object"
      ]
     },
     "execution_count": 4,
     "metadata": {},
     "output_type": "execute_result"
    }
   ],
   "source": [
    "group1_train"
   ]
  },
  {
   "cell_type": "code",
   "execution_count": 8,
   "id": "289ad6b5-b9b7-4168-b16c-aa6582f2ab66",
   "metadata": {},
   "outputs": [
    {
     "name": "stdout",
     "output_type": "stream",
     "text": [
      "Correct classifications: 8.860759493670885%\n",
      "Incorrect classifications: 91.13924050632912%\n"
     ]
    }
   ],
   "source": [
    "correct = 0\n",
    "incorrect = 0\n",
    "\n",
    "for key in group1_train.keys():\n",
    "    new_sample_numeric = group1_train[key]\n",
    "    \n",
    "    distance1 = wasserstein_distance(group1_flat, new_sample_numeric)\n",
    "    distance2 = wasserstein_distance(group2_flat, new_sample_numeric)\n",
    "    \n",
    "    if distance1 < distance2:\n",
    "        predicted_group = 'Control'\n",
    "        correct += 1  # When the model predicts it is a Control\n",
    "    else:\n",
    "        predicted_group = 'CSI'\n",
    "        incorrect += 1\n",
    "\n",
    "# Calculate percentages\n",
    "total = correct + incorrect\n",
    "correct_percentage = (correct / total) * 100\n",
    "incorrect_percentage = (incorrect / total) * 100\n",
    "\n",
    "print(f'Correct classifications: {correct_percentage}%')\n",
    "print(f'Incorrect classifications: {incorrect_percentage}%')\n"
   ]
  },
  {
   "cell_type": "code",
   "execution_count": 6,
   "id": "00e8c2b8-c4a3-4503-9c1d-0a988fe0a5b0",
   "metadata": {},
   "outputs": [
    {
     "name": "stdout",
     "output_type": "stream",
     "text": [
      "Correct classifications: 7.7994428969359335%\n",
      "Incorrect classifications: 92.20055710306406%\n"
     ]
    }
   ],
   "source": [
    "correct = 0\n",
    "incorrect = 0\n",
    "\n",
    "for key in group2_train.keys():\n",
    "    new_sample_numeric = group2_train[key]\n",
    "    \n",
    "    distance1 = wasserstein_distance(group1_flat, new_sample_numeric)\n",
    "    distance2 = wasserstein_distance(group2_flat, new_sample_numeric)\n",
    "    \n",
    "    if distance1 > distance2:\n",
    "        predicted_group = 'Control'\n",
    "        incorrect += 1\n",
    "    else:\n",
    "        predicted_group = 'CSI'\n",
    "        correct += 1\n",
    "\n",
    "# Calculate percentages\n",
    "total = correct + incorrect\n",
    "correct_percentage = (correct / total) * 100\n",
    "incorrect_percentage = (incorrect / total) * 100\n",
    "\n",
    "print(f'Correct classifications: {correct_percentage}%')\n",
    "print(f'Incorrect classifications: {incorrect_percentage}%')\n"
   ]
  }
 ],
 "metadata": {
  "kernelspec": {
   "display_name": "Python 3 (ipykernel)",
   "language": "python",
   "name": "python3"
  },
  "language_info": {
   "codemirror_mode": {
    "name": "ipython",
    "version": 3
   },
   "file_extension": ".py",
   "mimetype": "text/x-python",
   "name": "python",
   "nbconvert_exporter": "python",
   "pygments_lexer": "ipython3",
   "version": "3.10.16"
  }
 },
 "nbformat": 4,
 "nbformat_minor": 5
}
