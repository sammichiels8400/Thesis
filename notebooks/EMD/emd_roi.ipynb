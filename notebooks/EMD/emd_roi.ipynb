{
 "cells": [
  {
   "cell_type": "code",
   "execution_count": null,
   "id": "233a5af1-447e-43fd-add1-fbb24fd0becd",
   "metadata": {},
   "outputs": [],
   "source": [
    "import pandas as pd\n",
    "from sklearn.model_selection import train_test_split\n",
    "csv_path = \"../../data/csv/expanded_dataset_roi.csv\"\n",
    "df = pd.read_csv(csv_path)\n"
   ]
  },
  {
   "cell_type": "code",
   "execution_count": 2,
   "id": "502db03b-4742-483d-8a22-ec64de73cd49",
   "metadata": {},
   "outputs": [],
   "source": [
    "from scipy.stats import wasserstein_distance\n",
    "\n",
    "# Example: Compare 'evidence_sequence' between two groups\n",
    "group1 = df[df['experience'] == 'Control']['roi_sequence']\n",
    "group2 = df[df['experience'] == 'CSI']['roi_sequence']\n",
    "\n",
    "# Convert sequences to numerical values if necessary\n",
    "def sequence_to_numeric(sequence):\n",
    "    return [x for x in sequence.split(',')]\n",
    "\n",
    "group1_numeric = group1.apply(sequence_to_numeric)\n",
    "group2_numeric = group2.apply(sequence_to_numeric)\n",
    "\n",
    "\n",
    "group1_train, group1_test = train_test_split(group1_numeric, test_size=0.1, random_state=42)\n",
    "group2_train, group2_test = train_test_split(group2_numeric, test_size=0.1, random_state=42)\n"
   ]
  },
  {
   "cell_type": "code",
   "execution_count": 3,
   "id": "56218711-f8d8-408c-a404-ad7cfacc6a76",
   "metadata": {},
   "outputs": [
    {
     "name": "stdout",
     "output_type": "stream",
     "text": [
      "Wasserstein Distance: 0.458399445247582\n"
     ]
    }
   ],
   "source": [
    "# Flatten the lists\n",
    "group1_flat = [item for sublist in group1_train for item in sublist]\n",
    "group2_flat = [item for sublist in group2_train for item in sublist]\n",
    "\n",
    "distance = wasserstein_distance(group1_flat, group2_flat)\n",
    "print(f'Wasserstein Distance: {distance}')\n"
   ]
  },
  {
   "cell_type": "code",
   "execution_count": 4,
   "id": "3d63c610-c029-42c3-af6e-4d4ecf73ab0f",
   "metadata": {},
   "outputs": [
    {
     "data": {
      "text/plain": [
       "2816             [1, 1, 4, 4, 5, 3, 3, 3, 3, 3]\n",
       "290           [11, 3, 13, 5, 5, 4, 7, 7, 11, 7]\n",
       "54           [24, 17, 17, 0, 8, 17, 8, 3, 1, 3]\n",
       "2954          [15, 12, 16, 2, 2, 7, 2, 0, 9, 0]\n",
       "278            [16, 9, 9, 9, 9, 9, 9, 0, 9, 12]\n",
       "                         ...                   \n",
       "71      [9, 11, 19, 18, 19, 19, 19, 18, 19, 19]\n",
       "106          [11, 11, 12, 1, 1, 1, 13, 1, 2, 4]\n",
       "1636            [5, 2, 2, 7, 18, 0, 9, 9, 9, 9]\n",
       "2648     [4, 11, 16, 0, 16, 16, 16, 16, 15, 14]\n",
       "102              [2, 5, 2, 2, 2, 3, 6, 6, 1, 1]\n",
       "Name: roi_sequence, Length: 711, dtype: object"
      ]
     },
     "execution_count": 4,
     "metadata": {},
     "output_type": "execute_result"
    }
   ],
   "source": [
    "group1_train"
   ]
  },
  {
   "cell_type": "code",
   "execution_count": 5,
   "id": "289ad6b5-b9b7-4168-b16c-aa6582f2ab66",
   "metadata": {},
   "outputs": [
    {
     "name": "stdout",
     "output_type": "stream",
     "text": [
      "Correct classifications: 45.28832630098453%\n",
      "Incorrect classifications: 54.71167369901547%\n"
     ]
    }
   ],
   "source": [
    "correct = 0\n",
    "incorrect = 0\n",
    "\n",
    "for key in group1_train.keys():\n",
    "    new_sample_numeric = group1_train[key]\n",
    "    \n",
    "    distance1 = wasserstein_distance(group1_flat, new_sample_numeric)\n",
    "    distance2 = wasserstein_distance(group2_flat, new_sample_numeric)\n",
    "    \n",
    "    if distance1 < distance2:\n",
    "        predicted_group = 'Control'\n",
    "        correct += 1  # When the model predicts it is a Control\n",
    "    else:\n",
    "        predicted_group = 'CSI'\n",
    "        incorrect += 1\n",
    "\n",
    "# Calculate percentages\n",
    "total = correct + incorrect\n",
    "correct_percentage = (correct / total) * 100\n",
    "incorrect_percentage = (incorrect / total) * 100\n",
    "\n",
    "print(f'Correct classifications: {correct_percentage}%')\n",
    "print(f'Incorrect classifications: {incorrect_percentage}%')\n"
   ]
  },
  {
   "cell_type": "code",
   "execution_count": 6,
   "id": "00e8c2b8-c4a3-4503-9c1d-0a988fe0a5b0",
   "metadata": {},
   "outputs": [
    {
     "name": "stdout",
     "output_type": "stream",
     "text": [
      "Correct classifications: 38.440111420612816%\n",
      "Incorrect classifications: 61.55988857938719%\n"
     ]
    }
   ],
   "source": [
    "correct = 0\n",
    "incorrect = 0\n",
    "\n",
    "for key in group2_train.keys():\n",
    "    new_sample_numeric = group2_train[key]\n",
    "    \n",
    "    distance1 = wasserstein_distance(group1_flat, new_sample_numeric)\n",
    "    distance2 = wasserstein_distance(group2_flat, new_sample_numeric)\n",
    "    \n",
    "    if distance1 > distance2:\n",
    "        predicted_group = 'Control'\n",
    "        incorrect += 1\n",
    "    else:\n",
    "        predicted_group = 'CSI'\n",
    "        correct += 1\n",
    "\n",
    "# Calculate percentages\n",
    "total = correct + incorrect\n",
    "correct_percentage = (correct / total) * 100\n",
    "incorrect_percentage = (incorrect / total) * 100\n",
    "\n",
    "print(f'Correct classifications: {correct_percentage}%')\n",
    "print(f'Incorrect classifications: {incorrect_percentage}%')\n"
   ]
  }
 ],
 "metadata": {
  "kernelspec": {
   "display_name": "Python 3 (ipykernel)",
   "language": "python",
   "name": "python3"
  },
  "language_info": {
   "codemirror_mode": {
    "name": "ipython",
    "version": 3
   },
   "file_extension": ".py",
   "mimetype": "text/x-python",
   "name": "python",
   "nbconvert_exporter": "python",
   "pygments_lexer": "ipython3",
   "version": "3.10.16"
  }
 },
 "nbformat": 4,
 "nbformat_minor": 5
}
