{
 "cells": [
  {
   "cell_type": "markdown",
   "id": "4a44bff8",
   "metadata": {},
   "source": [
    "# Map CSV together and remove elsewhere\n",
    "\n",
    "This file will combine the participants csv together with the fixations and ROI csv.\n"
   ]
  },
  {
   "cell_type": "code",
   "execution_count": 1,
   "id": "d00389f4",
   "metadata": {},
   "outputs": [],
   "source": [
    "import pandas as pd\n",
    "import pandas as pd\n",
    "import seaborn as sns\n",
    "import cv2\n",
    "from matplotlib import pyplot as plt\n",
    "from random import choice\n",
    "import numpy as np"
   ]
  },
  {
   "cell_type": "markdown",
   "id": "100d967b",
   "metadata": {},
   "source": [
    "The fixations that are outside the picture get removed since they do not contribute to the overal research.\n"
   ]
  },
  {
   "cell_type": "code",
   "execution_count": null,
   "id": "efe3ef84",
   "metadata": {},
   "outputs": [],
   "source": [
    "pad = \"../../data/csv/\"\n",
    "image_pad =  \"../../data/Images/ROIs/\"\n",
    "\n",
    "participants = pd.read_csv(pad+\"participants.csv\")\n",
    "fixations = pd.read_csv(pad+\"fixations.csv\")\n",
    "ROI = pd.read_csv(pad + \"ROIs.csv\")\n",
    "\n",
    "fix = fixations.merge(participants, how=\"left\", on=\"Participant\")\n",
    "#remove fixations outside the image\n",
    "fix = fix[(fix[\"X\"] > 0) & (fix[\"X\"] < 1024) & (fix[\"Y\"] > 0) & (fix[\"Y\"] < 768)]\n",
    "\n",
    "condition_to_remove = (fix[\"Image\"] == 1) & (fix[\"Scene\"] == 1) & (fix[\"X\"] > 731)\n",
    "filtered_fix = fix.loc[~condition_to_remove]"
   ]
  },
  {
   "cell_type": "markdown",
   "id": "fe56110a",
   "metadata": {},
   "source": [
    "After removing the fixations that are out of the image, there are still 2550 fixations that are elsewhere in the data.\n"
   ]
  },
  {
   "cell_type": "code",
   "execution_count": 3,
   "id": "5667e57b",
   "metadata": {
    "scrolled": true
   },
   "outputs": [
    {
     "data": {
      "text/plain": [
       "1498"
      ]
     },
     "execution_count": 3,
     "metadata": {},
     "output_type": "execute_result"
    }
   ],
   "source": [
    "len(filtered_fix[(filtered_fix[\"Name\"] == \"Elsewhere\")])"
   ]
  },
  {
   "cell_type": "markdown",
   "id": "73e9c206-ba7b-4093-b26b-bbd2156af2d0",
   "metadata": {},
   "source": [
    "To reduce this amount, a function is created. This function recieves the old x and y, the image and scene for which we want a new ROI and the pixel offset. We take this x and y and offset is by the offset. We then look at the rgb value at this location and look in our ROI csv to pick the corresponding ROI. If we don't find it, we retry with a bigger offset. Finally the new ROI is returned.\n"
   ]
  },
  {
   "cell_type": "code",
   "execution_count": 4,
   "id": "0187e88d",
   "metadata": {},
   "outputs": [],
   "source": [
    "def get_name_from_coordinates(X, Y, image, scene, offset=1):\n",
    "    img = cv2.imread(image_pad + f'scene{scene}_image{image}.png')\n",
    "    xnew, ynew = int(X+choice([-offset,offset])), int(Y+choice([-offset,offset]))\n",
    "    if xnew >= len(img[1]):\n",
    "        xnew = len(img[1]) - 5\n",
    "    if ynew >= len(img):\n",
    "        ynew = len(img) - 5\n",
    "    [B,G,R] = img[ynew, xnew,:]\n",
    "    #print(B, G, R)\n",
    "    this_ROI = ROI[(ROI[\"C1\"] == R) & (ROI[\"C2\"] == G) & (ROI[\"C3\"] == B) & (ROI[\"Image\"] == image) &  (ROI[\"Scene\"] == scene)]\n",
    "\n",
    "    if len(this_ROI) > 0:\n",
    "        this_name = this_ROI.iloc[0][\"Name\"]\n",
    "        return this_name\n",
    "    if not offset == 3:\n",
    "        return get_name_from_coordinates(X, Y, image, scene, 3)#'Elsewhere'\n",
    "    return 'Elsewhere'"
   ]
  },
  {
   "cell_type": "markdown",
   "id": "22b1d77e-d61a-43d3-b03c-bc1ea639262a",
   "metadata": {},
   "source": [
    "The function above is only helpfull if we actually use it so that's what the code below does. The dataset gets filtered on elsewhere, the necessary columns are given to the function and the result get's saved in the Name column.\n"
   ]
  },
  {
   "cell_type": "code",
   "execution_count": 5,
   "id": "4656eccb",
   "metadata": {},
   "outputs": [
    {
     "name": "stderr",
     "output_type": "stream",
     "text": [
      "C:\\Users\\sampi\\AppData\\Local\\Temp\\ipykernel_10888\\2072288156.py:1: SettingWithCopyWarning: \n",
      "A value is trying to be set on a copy of a slice from a DataFrame.\n",
      "Try using .loc[row_indexer,col_indexer] = value instead\n",
      "\n",
      "See the caveats in the documentation: https://pandas.pydata.org/pandas-docs/stable/user_guide/indexing.html#returning-a-view-versus-a-copy\n",
      "  filtered_fix['Name'] = filtered_fix.apply(lambda row: get_name_from_coordinates(row['X'], row['Y'], row['Image'], row['Scene'])\n"
     ]
    }
   ],
   "source": [
    "filtered_fix['Name'] = filtered_fix.apply(lambda row: get_name_from_coordinates(row['X'], row['Y'], row['Image'], row['Scene']) \n",
    "                      if row['Name'] == 'Elsewhere' else row['Name'], axis=1)"
   ]
  },
  {
   "cell_type": "markdown",
   "id": "f7426b7b-8a6b-4fd0-a3aa-14e673adc5b6",
   "metadata": {},
   "source": [
    "Here the same happens as above but we specifically look at fixations that have NaN in the name column.\n"
   ]
  },
  {
   "cell_type": "code",
   "execution_count": 6,
   "id": "c3e47601",
   "metadata": {},
   "outputs": [
    {
     "name": "stderr",
     "output_type": "stream",
     "text": [
      "C:\\Users\\sampi\\AppData\\Local\\Temp\\ipykernel_10888\\987606441.py:1: SettingWithCopyWarning: \n",
      "A value is trying to be set on a copy of a slice from a DataFrame.\n",
      "Try using .loc[row_indexer,col_indexer] = value instead\n",
      "\n",
      "See the caveats in the documentation: https://pandas.pydata.org/pandas-docs/stable/user_guide/indexing.html#returning-a-view-versus-a-copy\n",
      "  filtered_fix['Name'] = filtered_fix.apply(lambda row: get_name_from_coordinates(row['X'], row['Y'], row['Image'], row['Scene'])\n"
     ]
    }
   ],
   "source": [
    "filtered_fix['Name'] = filtered_fix.apply(lambda row: get_name_from_coordinates(row['X'], row['Y'], row['Image'], row['Scene']) \n",
    "                      if pd.isna(row['Name']) else row['Name'], axis=1)"
   ]
  },
  {
   "cell_type": "markdown",
   "id": "6b23864b-8681-45b8-b388-132e7e7d9579",
   "metadata": {},
   "source": [
    "The amount of fixations that are elsewhere have now succesfully been reduced from 2550 to 75.\n"
   ]
  },
  {
   "cell_type": "code",
   "execution_count": 7,
   "id": "490d8b9e",
   "metadata": {},
   "outputs": [
    {
     "data": {
      "text/plain": [
       "49"
      ]
     },
     "execution_count": 7,
     "metadata": {},
     "output_type": "execute_result"
    }
   ],
   "source": [
    "len(filtered_fix[(filtered_fix[\"Name\"] == \"Elsewhere\")]) "
   ]
  },
  {
   "cell_type": "markdown",
   "id": "8f7fa11e-7869-4ab0-bc6c-9c993731d9ba",
   "metadata": {},
   "source": [
    "As a final thing, the remaining fixations with elsewhere gets removed.\n"
   ]
  },
  {
   "cell_type": "code",
   "execution_count": 8,
   "id": "7d5fc569",
   "metadata": {},
   "outputs": [],
   "source": [
    "fix_filtered = filtered_fix[filtered_fix['Name'] != 'Elsewhere']"
   ]
  },
  {
   "cell_type": "markdown",
   "id": "8e75fdfc-dfc5-464d-a8eb-cb2eaf6c572a",
   "metadata": {},
   "source": [
    "Lastly we save all of this to a new csv.\n"
   ]
  },
  {
   "cell_type": "code",
   "execution_count": 9,
   "id": "fd75c1b7",
   "metadata": {},
   "outputs": [],
   "source": [
    "fix_filtered.to_csv(pad + \"cleaned_fix2.csv\")"
   ]
  },
  {
   "cell_type": "markdown",
   "id": "2b76f8c3",
   "metadata": {},
   "source": [
    "Because the evidence, exitentry and movable columns are not in the fixations csv we add these from the ROI csv.\n"
   ]
  },
  {
   "cell_type": "code",
   "execution_count": 10,
   "id": "ed291436-36f0-4830-8414-5f3c46b54a69",
   "metadata": {},
   "outputs": [
    {
     "data": {
      "text/html": [
       "<div>\n",
       "<style scoped>\n",
       "    .dataframe tbody tr th:only-of-type {\n",
       "        vertical-align: middle;\n",
       "    }\n",
       "\n",
       "    .dataframe tbody tr th {\n",
       "        vertical-align: top;\n",
       "    }\n",
       "\n",
       "    .dataframe thead th {\n",
       "        text-align: right;\n",
       "    }\n",
       "</style>\n",
       "<table border=\"1\" class=\"dataframe\">\n",
       "  <thead>\n",
       "    <tr style=\"text-align: right;\">\n",
       "      <th></th>\n",
       "      <th>Image</th>\n",
       "      <th>Scene</th>\n",
       "      <th>ROI</th>\n",
       "      <th>Participant</th>\n",
       "      <th>FixDur</th>\n",
       "      <th>FixNr</th>\n",
       "      <th>Start</th>\n",
       "      <th>End</th>\n",
       "      <th>X</th>\n",
       "      <th>Y</th>\n",
       "      <th>Name</th>\n",
       "      <th>NextROI</th>\n",
       "      <th>experience</th>\n",
       "      <th>Evidence</th>\n",
       "      <th>Movable</th>\n",
       "      <th>ExitEntry</th>\n",
       "    </tr>\n",
       "  </thead>\n",
       "  <tbody>\n",
       "    <tr>\n",
       "      <th>0</th>\n",
       "      <td>1</td>\n",
       "      <td>1</td>\n",
       "      <td>0</td>\n",
       "      <td>2.0</td>\n",
       "      <td>103.0</td>\n",
       "      <td>1.0</td>\n",
       "      <td>7.0</td>\n",
       "      <td>109.0</td>\n",
       "      <td>510.9</td>\n",
       "      <td>381.0</td>\n",
       "      <td>Back_wall</td>\n",
       "      <td>Bottle_on_table</td>\n",
       "      <td>Control</td>\n",
       "      <td>No</td>\n",
       "      <td>No</td>\n",
       "      <td>No</td>\n",
       "    </tr>\n",
       "    <tr>\n",
       "      <th>1</th>\n",
       "      <td>1</td>\n",
       "      <td>1</td>\n",
       "      <td>22</td>\n",
       "      <td>2.0</td>\n",
       "      <td>77.0</td>\n",
       "      <td>2.0</td>\n",
       "      <td>236.0</td>\n",
       "      <td>312.0</td>\n",
       "      <td>450.8</td>\n",
       "      <td>307.0</td>\n",
       "      <td>Bottle_on_table</td>\n",
       "      <td>Floor</td>\n",
       "      <td>Control</td>\n",
       "      <td>Yes</td>\n",
       "      <td>Yes</td>\n",
       "      <td>No</td>\n",
       "    </tr>\n",
       "    <tr>\n",
       "      <th>2</th>\n",
       "      <td>1</td>\n",
       "      <td>1</td>\n",
       "      <td>9</td>\n",
       "      <td>2.0</td>\n",
       "      <td>300.0</td>\n",
       "      <td>3.0</td>\n",
       "      <td>347.0</td>\n",
       "      <td>646.0</td>\n",
       "      <td>414.5</td>\n",
       "      <td>447.9</td>\n",
       "      <td>Floor</td>\n",
       "      <td>Body</td>\n",
       "      <td>Control</td>\n",
       "      <td>No</td>\n",
       "      <td>No</td>\n",
       "      <td>No</td>\n",
       "    </tr>\n",
       "    <tr>\n",
       "      <th>3</th>\n",
       "      <td>1</td>\n",
       "      <td>1</td>\n",
       "      <td>0</td>\n",
       "      <td>2.0</td>\n",
       "      <td>276.0</td>\n",
       "      <td>6.0</td>\n",
       "      <td>1386.0</td>\n",
       "      <td>1661.0</td>\n",
       "      <td>394.4</td>\n",
       "      <td>414.5</td>\n",
       "      <td>Floor</td>\n",
       "      <td>Elsewhere</td>\n",
       "      <td>Control</td>\n",
       "      <td>No</td>\n",
       "      <td>No</td>\n",
       "      <td>No</td>\n",
       "    </tr>\n",
       "    <tr>\n",
       "      <th>4</th>\n",
       "      <td>1</td>\n",
       "      <td>1</td>\n",
       "      <td>0</td>\n",
       "      <td>2.0</td>\n",
       "      <td>296.0</td>\n",
       "      <td>7.0</td>\n",
       "      <td>1711.0</td>\n",
       "      <td>2006.0</td>\n",
       "      <td>655.3</td>\n",
       "      <td>416.2</td>\n",
       "      <td>Side_wall</td>\n",
       "      <td>Elsewhere</td>\n",
       "      <td>Control</td>\n",
       "      <td>No</td>\n",
       "      <td>No</td>\n",
       "      <td>No</td>\n",
       "    </tr>\n",
       "  </tbody>\n",
       "</table>\n",
       "</div>"
      ],
      "text/plain": [
       "   Image  Scene  ROI  Participant  FixDur  FixNr   Start     End      X  \\\n",
       "0      1      1    0          2.0   103.0    1.0     7.0   109.0  510.9   \n",
       "1      1      1   22          2.0    77.0    2.0   236.0   312.0  450.8   \n",
       "2      1      1    9          2.0   300.0    3.0   347.0   646.0  414.5   \n",
       "3      1      1    0          2.0   276.0    6.0  1386.0  1661.0  394.4   \n",
       "4      1      1    0          2.0   296.0    7.0  1711.0  2006.0  655.3   \n",
       "\n",
       "       Y             Name          NextROI experience Evidence Movable  \\\n",
       "0  381.0        Back_wall  Bottle_on_table    Control       No      No   \n",
       "1  307.0  Bottle_on_table            Floor    Control      Yes     Yes   \n",
       "2  447.9            Floor             Body    Control       No      No   \n",
       "3  414.5            Floor        Elsewhere    Control       No      No   \n",
       "4  416.2        Side_wall        Elsewhere    Control       No      No   \n",
       "\n",
       "  ExitEntry  \n",
       "0        No  \n",
       "1        No  \n",
       "2        No  \n",
       "3        No  \n",
       "4        No  "
      ]
     },
     "execution_count": 10,
     "metadata": {},
     "output_type": "execute_result"
    }
   ],
   "source": [
    "fix_evidence = fix_filtered.merge(ROI[['Name', 'Evidence', 'Movable', 'ExitEntry', 'Image', 'Scene']], how='left', on=['Name', 'Image', 'Scene'])\n",
    "\n",
    "fix_evidence.head()"
   ]
  },
  {
   "cell_type": "code",
   "execution_count": 11,
   "id": "d6096867-44b4-44f3-b76a-b9d25f56778a",
   "metadata": {},
   "outputs": [],
   "source": [
    "fix_evidence.to_csv(pad + \"fix_evidence2.csv\")"
   ]
  }
 ],
 "metadata": {
  "kernelspec": {
   "display_name": "Python 3 (ipykernel)",
   "language": "python",
   "name": "python3"
  },
  "language_info": {
   "codemirror_mode": {
    "name": "ipython",
    "version": 3
   },
   "file_extension": ".py",
   "mimetype": "text/x-python",
   "name": "python",
   "nbconvert_exporter": "python",
   "pygments_lexer": "ipython3",
   "version": "3.11.5"
  }
 },
 "nbformat": 4,
 "nbformat_minor": 5
}
